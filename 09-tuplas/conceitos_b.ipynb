{
 "cells": [
  {
   "cell_type": "markdown",
   "metadata": {},
   "source": [
    "# Unpacking de Tuplas\n",
    "Unpacking (Desempacotamento) de Tuplas~e uma técnica que permite atribuir os elementos individuais de uma tupla a variáveis separadas.\n",
    "\n",
    "Isso é especialmente útil quando você tem uma função ou expressão que retorna uma tupla e deseja atribuir os valores a variáveis individuais.\n",
    "\n",
    "### Exemplo 1: Atribuição Simples"
   ]
  },
  {
   "cell_type": "code",
   "execution_count": 1,
   "metadata": {},
   "outputs": [
    {
     "name": "stdout",
     "output_type": "stream",
     "text": [
      "1\n",
      "2\n",
      "3\n"
     ]
    }
   ],
   "source": [
    "tupla = (1, 2, 3)\n",
    "a, b, c = tupla\n",
    "\n",
    "print(a)\n",
    "print(b)\n",
    "print(c)"
   ]
  },
  {
   "cell_type": "markdown",
   "metadata": {},
   "source": [
    "### Exemplo 2: Ignorar Elementos\n",
    "Você pode ignorar alguns elementos usando um sublinhado (`_`)."
   ]
  },
  {
   "cell_type": "code",
   "execution_count": 7,
   "metadata": {},
   "outputs": [
    {
     "name": "stdout",
     "output_type": "stream",
     "text": [
      "30\n"
     ]
    }
   ],
   "source": [
    "numeros = (10, 20, 30)\n",
    "\n",
    "_, _, c = numeros\n",
    "\n",
    "print(c)"
   ]
  },
  {
   "cell_type": "markdown",
   "metadata": {},
   "source": [
    "### Exemplo 3: Unpacking em Funções"
   ]
  },
  {
   "cell_type": "code",
   "execution_count": 8,
   "metadata": {},
   "outputs": [
    {
     "name": "stdout",
     "output_type": "stream",
     "text": [
      "Matheus\n",
      "18\n",
      "True\n",
      "3.14\n"
     ]
    }
   ],
   "source": [
    "def retorna_tupla():\n",
    "    return ('Matheus', 18, True, 3.14)\n",
    "\n",
    "w, x, y, z = retorna_tupla()\n",
    "\n",
    "print(w)\n",
    "print(x)\n",
    "print(y)\n",
    "print(z)"
   ]
  },
  {
   "cell_type": "markdown",
   "metadata": {},
   "source": [
    "### Exemplo 4: Unpacking com * (Operador Asterisco)\n",
    "O operador asterisco `*` pode usado para coletar elementos restantes em uma lista."
   ]
  },
  {
   "cell_type": "code",
   "execution_count": 9,
   "metadata": {},
   "outputs": [
    {
     "name": "stdout",
     "output_type": "stream",
     "text": [
      "1\n",
      "2\n",
      "[3, 4, 5]\n"
     ]
    }
   ],
   "source": [
    "tupla = (1, 2, 3, 4, 5)\n",
    "\n",
    "primeiro, segundo, *restante = tupla\n",
    "\n",
    "print(primeiro)\n",
    "print(segundo)\n",
    "print(restante)"
   ]
  },
  {
   "cell_type": "markdown",
   "metadata": {},
   "source": [
    "### Exemplo 5: Troca de Valores\n",
    "O unpacking também é útil para trocar valores entre variáveis sem a necessidade de uma variável temporária."
   ]
  },
  {
   "cell_type": "code",
   "execution_count": 10,
   "metadata": {},
   "outputs": [
    {
     "name": "stdout",
     "output_type": "stream",
     "text": [
      "10\n",
      "5\n"
     ]
    }
   ],
   "source": [
    "a = 5\n",
    "b = 10\n",
    "\n",
    "a, b = b, a\n",
    "\n",
    "print(a)\n",
    "print(b)"
   ]
  },
  {
   "cell_type": "markdown",
   "metadata": {},
   "source": [
    "O unpacking de tuplas é uma característica flexível e poderosa em Python, facilitando a manipulação e utilização de dados em diversas situações."
   ]
  }
 ],
 "metadata": {
  "kernelspec": {
   "display_name": ".venv",
   "language": "python",
   "name": "python3"
  },
  "language_info": {
   "codemirror_mode": {
    "name": "ipython",
    "version": 3
   },
   "file_extension": ".py",
   "mimetype": "text/x-python",
   "name": "python",
   "nbconvert_exporter": "python",
   "pygments_lexer": "ipython3",
   "version": "3.12.2"
  }
 },
 "nbformat": 4,
 "nbformat_minor": 2
}
