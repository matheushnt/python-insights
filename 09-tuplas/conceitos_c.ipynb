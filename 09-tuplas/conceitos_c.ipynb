{
 "cells": [
  {
   "cell_type": "markdown",
   "metadata": {},
   "source": [
    "# Lista de Tuplas\n",
    "Uma lista de tuplas em Python é uma estrutura de dados que armazena múltiplas tuplas em uma única lista. Cada tupla, por sua vez, pode conter diferentes elementos.\n",
    "\n",
    "### Exemplo:\n",
    "\n",
    "Digamos que você está analisando as vendas do Banco de Dados de um e-commerce.\n",
    "\n",
    "Em um determinado dia, você extraiu as vendas do Banco de Dados e elas vieram nesse formato:"
   ]
  },
  {
   "cell_type": "code",
   "execution_count": 3,
   "metadata": {},
   "outputs": [],
   "source": [
    "vendas = [\n",
    "    ('20/08/2020', 'iphone x', 'azul', '128gb', 350, 4000),\n",
    "    ('20/08/2020', 'iphone x', 'prata', '128gb', 1500, 4000),\n",
    "    ('20/08/2020', 'ipad', 'prata', '256gb', 127, 6000),\n",
    "    ('20/08/2020', 'ipad', 'prata', '128gb', 981, 5000),\n",
    "    ('21/08/2020', 'iphone x', 'azul', '128gb', 397, 4000),\n",
    "    ('21/08/2020', 'iphone x', 'prata', '128gb', 1017, 4000),\n",
    "    ('21/08/2020', 'ipad', 'prata', '256gb', 50, 6000),\n",
    "    ('21/08/2020', 'ipad', 'prata', '128gb', 4000, 5000),\n",
    "]"
   ]
  },
  {
   "cell_type": "markdown",
   "metadata": {},
   "source": [
    "- Qual foi o faturamento de IPhone no dia 20/08/2020?"
   ]
  },
  {
   "cell_type": "code",
   "execution_count": 6,
   "metadata": {},
   "outputs": [
    {
     "name": "stdout",
     "output_type": "stream",
     "text": [
      "Faturamento do Iphone no dia 20/08/2020: R$7400000\n"
     ]
    }
   ],
   "source": [
    "faturamento_iphone = 0\n",
    "\n",
    "for item in vendas:\n",
    "    # Unpacking de Tupla\n",
    "    data, produto, cor, capacidade, unidades, valor_unit = item\n",
    "\n",
    "    if produto == 'iphone x' and data == '20/08/2020':\n",
    "        # Somando faturamento do Iphone\n",
    "        faturamento_iphone += unidades * valor_unit\n",
    "\n",
    "print(f'Faturamento do Iphone no dia 20/08/2020: R${faturamento_iphone}')"
   ]
  },
  {
   "cell_type": "markdown",
   "metadata": {},
   "source": [
    "- Qual foi o produto mais vendido (em unidades) no dia 21/08/2020?"
   ]
  },
  {
   "cell_type": "code",
   "execution_count": 11,
   "metadata": {},
   "outputs": [
    {
     "name": "stdout",
     "output_type": "stream",
     "text": [
      "O Produto mais vendido foi o ipad\n",
      "Quantidade vendida de ipad: 4000 unidades\n"
     ]
    }
   ],
   "source": [
    "qtde_vendida = 0\n",
    "\n",
    "for item in vendas:\n",
    "    # Unpacking de Tupla\n",
    "    data, produto, cor, capacidade, unidades, valor_unit = item\n",
    "\n",
    "    #Estrutura para analisar o produto mais vendido\n",
    "    if unidades > qtde_vendida:\n",
    "        produto_mais_vendido = produto\n",
    "        qtde_vendida = unidades\n",
    "\n",
    "print(f'O Produto mais vendido foi o {produto_mais_vendido}')\n",
    "print(f'Quantidade vendida de {produto_mais_vendido}: {qtde_vendida} unidades')"
   ]
  }
 ],
 "metadata": {
  "kernelspec": {
   "display_name": ".venv",
   "language": "python",
   "name": "python3"
  },
  "language_info": {
   "codemirror_mode": {
    "name": "ipython",
    "version": 3
   },
   "file_extension": ".py",
   "mimetype": "text/x-python",
   "name": "python",
   "nbconvert_exporter": "python",
   "pygments_lexer": "ipython3",
   "version": "3.12.2"
  }
 },
 "nbformat": 4,
 "nbformat_minor": 2
}
