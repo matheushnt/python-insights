{
 "cells": [
  {
   "cell_type": "markdown",
   "metadata": {},
   "source": [
    "# Tuplas em Python\n",
    "Tupla é uma estrutura de dados semelhante a uma lista, mas com algumas diferenças importantes.\n",
    "\n",
    "## Sintaxe:\n",
    "Uma tupla é definida usando parênteses `()` e os elementos são separados por vírgulas. Exemplo:"
   ]
  },
  {
   "cell_type": "code",
   "execution_count": 2,
   "metadata": {},
   "outputs": [],
   "source": [
    "tupla = ('Matheus', 18, True, '19/03/2005', 620.5)"
   ]
  },
  {
   "cell_type": "markdown",
   "metadata": {},
   "source": [
    "## Indexação e Fatiamento:\n",
    "Você pode acessar elementos de uma tupla usando índices, assim como em listas. Também é possível fatiar (slice) uma tupla."
   ]
  },
  {
   "cell_type": "code",
   "execution_count": 4,
   "metadata": {},
   "outputs": [
    {
     "name": "stdout",
     "output_type": "stream",
     "text": [
      "Matheus\n",
      "(18, True)\n"
     ]
    }
   ],
   "source": [
    "primeiro_elemento = tupla[0]\n",
    "print(primeiro_elemento)\n",
    "\n",
    "sub_tupla = tupla[1:3]\n",
    "print(sub_tupla)"
   ]
  },
  {
   "cell_type": "markdown",
   "metadata": {},
   "source": [
    "## Diferenças entre listas e tuplas:\n",
    "\n",
    "### 1. Mutabilidade:\n",
    "- `Listas`: São mutáveis, o que significa que você pode modificar, adicionar ou remover elementos após a criação da lista.\n",
    "\n",
    "- `Tuplas`: São imutáveis, o que significa que, uma vez criadas, seus elementos não podem ser alterados. isso torna as tuplas mais eficientes em termos de consumo de recursos.\n",
    "\n",
    "### 2. Sintaxe de criação:\n",
    "- `Listas`: Definidas usando colchetes `[]`\n",
    "\n",
    "- `Tuplas`: Definidas usando parênteses `()`\n",
    "\n",
    "### 3. Métodos:\n",
    "- `listas`: Possuem mais métodos integrados,como `append()`, `extend()`,`remove()`, entre outros, que permitem modificar a lista.\n",
    "\n",
    "- `Tuplas`: Têm métodos mais limitados devido à imutabilidade, como `count()` e `index()`.\n",
    "\n",
    "## Vantagens das tuplas:\n",
    "\n",
    "### 1. Imutabilidade:\n",
    "Em situações onde a imutabilidade é desejada, como para chaves de dicionários ou elementos de conjunto, as tuplas são preferíveis.\n",
    "\n",
    "### 2. Eficiência:\n",
    "Tuplas têm menos sobrecarga de memória e são mais rápidas para iterar em comparação com listas. Se você tem dados que não precisam ser alterados, o uso de tuplas pode ser mais eficiente.\n",
    "\n",
    "### 3. Integridade de Dados:\n",
    "Uma vez que os elementos de uma tupla não podem ser modificados, você pode ter mais confiança na integridade dos dados, especialmente em situações onde a consistência é crucial.\n",
    "\n",
    "### 4. Desempacotamento de Tupla:\n",
    "Você pode atribuir valores de uma tupla a variáveis diretamente, o que é conhecido como desempacotamento de tupla. Exemplo:"
   ]
  },
  {
   "cell_type": "code",
   "execution_count": 3,
   "metadata": {},
   "outputs": [
    {
     "name": "stdout",
     "output_type": "stream",
     "text": [
      "1\n",
      "abc\n",
      "3.14\n",
      "False\n"
     ]
    }
   ],
   "source": [
    "valores = (1, 'abc', 3.14, False)\n",
    "\n",
    "a, b, c, d = valores\n",
    "\n",
    "print(a)\n",
    "print(b)\n",
    "print(c)\n",
    "print(d)"
   ]
  },
  {
   "cell_type": "markdown",
   "metadata": {},
   "source": [
    "Em resumo, use listas quando precisar de uma estrutura de dados mutável e tuplas quando quiser uma estrutura de dados imutável, mais eficiente em termos de recursos."
   ]
  }
 ],
 "metadata": {
  "kernelspec": {
   "display_name": ".venv",
   "language": "python",
   "name": "python3"
  },
  "language_info": {
   "codemirror_mode": {
    "name": "ipython",
    "version": 3
   },
   "file_extension": ".py",
   "mimetype": "text/x-python",
   "name": "python",
   "nbconvert_exporter": "python",
   "pygments_lexer": "ipython3",
   "version": "3.12.2"
  }
 },
 "nbformat": 4,
 "nbformat_minor": 2
}
