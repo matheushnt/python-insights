{
 "cells": [
  {
   "cell_type": "markdown",
   "metadata": {},
   "source": [
    "# Operações em Listas no Python\n",
    "Em Python, as listas suportam várias operações que permitem manipular e acessar seus elementos."
   ]
  },
  {
   "cell_type": "markdown",
   "metadata": {},
   "source": [
    "## Indexação de listas\n",
    "Os índices de listas são usados para acessar elementos específicos dentro de uma lista. Aqui estão alguns conceitos básicos sobre índices de listas:"
   ]
  },
  {
   "cell_type": "code",
   "execution_count": 7,
   "metadata": {},
   "outputs": [],
   "source": [
    "produtos = ['gabinete', 'monitor', 'mouse',\n",
    "            'teclado', 'memória RAM']\n",
    "vendas = [150, 221, 345, 394, 167]"
   ]
  },
  {
   "cell_type": "markdown",
   "metadata": {},
   "source": [
    "### 1. Acesso a elementos:\n",
    "* Os índices começam do 0 para o primeiro elemento.\n",
    "\n",
    "* Cada índice subsequente aumenta em 1."
   ]
  },
  {
   "cell_type": "code",
   "execution_count": 10,
   "metadata": {},
   "outputs": [
    {
     "name": "stdout",
     "output_type": "stream",
     "text": [
      "gabinete\n",
      "150\n"
     ]
    }
   ],
   "source": [
    "# Acessar o primeiro elemento\n",
    "print(produtos[0])\n",
    "\n",
    "# Acessar o segundo elemento\n",
    "print(vendas[0])"
   ]
  },
  {
   "cell_type": "markdown",
   "metadata": {},
   "source": [
    "### 2. Indexação negativa:\n",
    "* Os índices negativos contam a partir do final da lista, começando com -1 para o último elemento.\n",
    "\n",
    "* Cada índice negativo subsequente diminui em 1."
   ]
  },
  {
   "cell_type": "code",
   "execution_count": 9,
   "metadata": {},
   "outputs": [
    {
     "name": "stdout",
     "output_type": "stream",
     "text": [
      "memória RAM\n",
      "394\n"
     ]
    }
   ],
   "source": [
    "# Acessar o último elemento\n",
    "print(produtos[-1])\n",
    "\n",
    "# Acessar o penúltimo elemento\n",
    "print(vendas[-2])"
   ]
  },
  {
   "cell_type": "markdown",
   "metadata": {},
   "source": [
    "### 3. Slicing (Fatiamento):\n",
    "* Você pode obter uma parte da lista usando a notação de slicing.\n",
    "\n",
    "* `lista[inicio:fim]` retorna os elementos da posição `inicio` até o `fim-1`:"
   ]
  },
  {
   "cell_type": "code",
   "execution_count": 8,
   "metadata": {},
   "outputs": [
    {
     "name": "stdout",
     "output_type": "stream",
     "text": [
      "['gabinete', 'monitor', 'mouse']\n",
      "[150, 221, 345]\n"
     ]
    }
   ],
   "source": [
    "print(produtos[0:3])\n",
    "print(vendas[0:3])"
   ]
  },
  {
   "cell_type": "markdown",
   "metadata": {},
   "source": [
    "### 4. Atribuição de valores:\n",
    "* Você pode atribuir valores a elementos específicos usando índices."
   ]
  },
  {
   "cell_type": "code",
   "execution_count": 11,
   "metadata": {},
   "outputs": [
    {
     "name": "stdout",
     "output_type": "stream",
     "text": [
      "['gabinete', 'monitor', 'mouse', 'teclado', 'memória RAM']\n",
      "[150, 221, 345, 394, 167]\n",
      "['processador', 'monitor', 'mouse', 'teclado', 'memória RAM']\n",
      "[220, 221, 345, 394, 167]\n"
     ]
    }
   ],
   "source": [
    "# Exibir produtos e vendas\n",
    "print(produtos)\n",
    "print(vendas)\n",
    "\n",
    "# Alterar um produto e uma venda\n",
    "produtos[0] = 'processador'\n",
    "vendas[0] = 220\n",
    "\n",
    "# Exibir a nova lista de produtos e vendas\n",
    "print(produtos)\n",
    "print(vendas)"
   ]
  },
  {
   "cell_type": "markdown",
   "metadata": {},
   "source": [
    "### 5. Verificação de existência de índice:\n",
    "* Use `len(lista)` para obter o comprimento da lista e certifique-se de que o índice está dentro dos limite antes de acessar."
   ]
  },
  {
   "cell_type": "code",
   "execution_count": 12,
   "metadata": {},
   "outputs": [
    {
     "name": "stdout",
     "output_type": "stream",
     "text": [
      "['processador', 'monitor', 'mouse', 'teclado', 'memória RAM']\n",
      "memória RAM\n"
     ]
    }
   ],
   "source": [
    "print(produtos)\n",
    "if 4 < len(produtos):\n",
    "    print(produtos[4])"
   ]
  },
  {
   "cell_type": "markdown",
   "metadata": {},
   "source": [
    "Lembre-se de que tentar acessar um índice fora dos limites da lista resultará em um erro de índice (`IndexError`). Portanto, é importante verificar se os índices estão dentro dos limites antes de acessar ou modificar elementos."
   ]
  }
 ],
 "metadata": {
  "kernelspec": {
   "display_name": ".venv",
   "language": "python",
   "name": "python3"
  },
  "language_info": {
   "codemirror_mode": {
    "name": "ipython",
    "version": 3
   },
   "file_extension": ".py",
   "mimetype": "text/x-python",
   "name": "python",
   "nbconvert_exporter": "python",
   "pygments_lexer": "ipython3",
   "version": "3.12.1"
  }
 },
 "nbformat": 4,
 "nbformat_minor": 2
}
