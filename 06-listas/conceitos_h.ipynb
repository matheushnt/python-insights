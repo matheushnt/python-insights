{
 "cells": [
  {
   "cell_type": "markdown",
   "metadata": {},
   "source": [
    "# Copiar Listas em Python\n",
    "Em Python, a cópia e a igualdade de listas podem ser conceitos um pouco sutis, pois podem estar relacionados à referência ou ao valor.\n",
    "\n",
    "### <strong>Observação:</strong>\n",
    "Quando fazemos:<br>\n",
    "<pre>lista1 = [1, 2, 3]</pre>\n",
    "<pre>lista2 = lista1</pre>\n",
    "não estamos criando uma lista nova, mas estamos atribuindo outra variável à mesma lista.\n",
    "\n",
    "***\n",
    "\n",
    "## Cópia de listas:\n",
    "### 1. Cópia Superficial (Shallow Copy):\n",
    "Usando a função `copy()` ou a notação `[:]`, você cria uma nova lista, mas os elementos da nova lista aindam referenciam os mesmos objetos que os elementos da lista original.\n",
    "\n",
    "#### Exemplo:"
   ]
  },
  {
   "cell_type": "code",
   "execution_count": 13,
   "metadata": {},
   "outputs": [
    {
     "name": "stdout",
     "output_type": "stream",
     "text": [
      "['uva', 'maçã', 'limão', 'banana', 'laranja']\n",
      "['uva', 'maçã', 'limão', 'banana', 'laranja']\n",
      "['uva', 'maçã', 'melão', 'banana', 'laranja']\n",
      "['uva', 'maçã', 'limão', 'banana', 'laranja']\n"
     ]
    }
   ],
   "source": [
    "frutas = ['uva', 'maçã', 'limão', 'banana', 'laranja']\n",
    "print(frutas)\n",
    "copia_frutas = frutas.copy()\n",
    "print(copia_frutas)\n",
    "\n",
    "# Ou usando slicing\n",
    "# copia_frutas = frutas[:]\n",
    "\n",
    "frutas[2] = 'melão'\n",
    "\n",
    "print(frutas)\n",
    "print(copia_frutas)\n"
   ]
  },
  {
   "cell_type": "markdown",
   "metadata": {},
   "source": [
    "### 2. Cópia Profunda (Deep Copy):\n",
    "Usando o módulo `copy` e a função `deepcopy()`, você cria uma nova lista e também faz cópias profundas de todos os objetos dentro da lista original.\n",
    "\n",
    "#### Exemplo:"
   ]
  },
  {
   "cell_type": "code",
   "execution_count": 14,
   "metadata": {},
   "outputs": [
    {
     "name": "stdout",
     "output_type": "stream",
     "text": [
      "[1, 2, 3, 4, 5]\n",
      "[1, 2, 3, 4, 5]\n",
      "[1, 2, 3, 4, 10]\n",
      "[1, 2, 3, 4, 5]\n"
     ]
    }
   ],
   "source": [
    "import copy\n",
    "\n",
    "numeros = [1, 2, 3, 4, 5]\n",
    "print(numeros)\n",
    "copia_numeros = copy.deepcopy(numeros)\n",
    "print(copia_numeros)\n",
    "\n",
    "numeros[4] = 10\n",
    "\n",
    "print(numeros)\n",
    "print(copia_numeros)"
   ]
  },
  {
   "cell_type": "markdown",
   "metadata": {},
   "source": [
    "### 3. Usando `list()`:\n",
    "A função `list()` também pode ser usada para fazer uma cópia superficial da lista\n",
    "\n",
    "#### Exemplo:"
   ]
  },
  {
   "cell_type": "code",
   "execution_count": 15,
   "metadata": {},
   "outputs": [
    {
     "name": "stdout",
     "output_type": "stream",
     "text": [
      "[10, 20, 30]\n",
      "[10, 20, 30]\n",
      "[10, 20, 100]\n",
      "[10, 20, 30]\n"
     ]
    }
   ],
   "source": [
    "lista_original = [10, 20, 30]\n",
    "lista_duplicada = list(lista_original)\n",
    "\n",
    "print(lista_original)\n",
    "print(lista_duplicada)\n",
    "\n",
    "lista_original[2] = 100\n",
    "\n",
    "print(lista_original)\n",
    "print(lista_duplicada)"
   ]
  },
  {
   "cell_type": "markdown",
   "metadata": {},
   "source": [
    "### 4. Usando `extend()`:\n",
    "É possível criar uma cópia superficial, mas sem usar `copy()` ou slicing, e sim utilizando o método `extend()`.\n",
    "\n",
    "#### Exemplo:"
   ]
  },
  {
   "cell_type": "code",
   "execution_count": 16,
   "metadata": {},
   "outputs": [
    {
     "name": "stdout",
     "output_type": "stream",
     "text": [
      "[30, 60, 90]\n",
      "[30, 60, 90]\n",
      "[30, 60, 120]\n",
      "[30, 60, 90]\n"
     ]
    }
   ],
   "source": [
    "valores = [30, 60, 90]\n",
    "valores_copia = []\n",
    "valores_copia.extend(valores)\n",
    "print(valores)\n",
    "print(valores_copia)\n",
    "\n",
    "valores[2] = 120\n",
    "\n",
    "print(valores)\n",
    "print(valores_copia)"
   ]
  },
  {
   "cell_type": "markdown",
   "metadata": {},
   "source": [
    "# Igualdade de Listas:\n",
    "Ao comparar duas listas em Python, a igualdade geralmente verifica se os elementos nas mesmas posições são iguais.\n",
    "\n",
    "### Exemplo:"
   ]
  },
  {
   "cell_type": "code",
   "execution_count": 17,
   "metadata": {},
   "outputs": [
    {
     "name": "stdout",
     "output_type": "stream",
     "text": [
      "True\n"
     ]
    }
   ],
   "source": [
    "nums1 = [1, 2, 3, 4, 5]\n",
    "nums2 = [1, 2, 3, 4, 5]\n",
    "\n",
    "print(nums1 == nums2)"
   ]
  },
  {
   "cell_type": "markdown",
   "metadata": {},
   "source": [
    "No entanto, para verificar se duas listas referenciam o mesmo objeto na memória, você pode usar o operador `is`:\n",
    "\n",
    "### Exemplo:"
   ]
  },
  {
   "cell_type": "code",
   "execution_count": 20,
   "metadata": {},
   "outputs": [
    {
     "name": "stdout",
     "output_type": "stream",
     "text": [
      "False\n",
      "True\n"
     ]
    }
   ],
   "source": [
    "vals1 = [10, 20, 30]\n",
    "vals2 = [10, 20, 30]\n",
    "print(vals1 is vals2)\n",
    "\n",
    "vals3 = vals1\n",
    "print(vals3 is vals1)"
   ]
  },
  {
   "cell_type": "markdown",
   "metadata": {},
   "source": [
    "Em resumo, ao trabalhar com cópias de listas, considere se deseja uma cópia superficial ou profunda, dependendo da natureza dos elementos dentro da lista. E ao verificar a igualdade, use `==` para verificar se os elementos são iguais nas mesmas posições e `is` para verificar se as listas referenciam o mesmo objeto na memória."
   ]
  }
 ],
 "metadata": {
  "kernelspec": {
   "display_name": "Python 3",
   "language": "python",
   "name": "python3"
  },
  "language_info": {
   "codemirror_mode": {
    "name": "ipython",
    "version": 3
   },
   "file_extension": ".py",
   "mimetype": "text/x-python",
   "name": "python",
   "nbconvert_exporter": "python",
   "pygments_lexer": "ipython3",
   "version": "3.12.1"
  }
 },
 "nbformat": 4,
 "nbformat_minor": 4
}
