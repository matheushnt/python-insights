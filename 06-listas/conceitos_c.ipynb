{
 "cells": [
  {
   "cell_type": "markdown",
   "metadata": {},
   "source": [
    "# Como descobrir o índice de um item de uma lista?\n",
    "Por meio do método `index()` é possível descobrir o índice de um elemento dentro de uma lista.\n",
    "\n",
    "\n",
    "## Sintaxe:\n",
    "i = lista.index('item')"
   ]
  },
  {
   "cell_type": "markdown",
   "metadata": {},
   "source": [
    "Exemplo:\n",
    "\n",
    "Digamos que você puxou do Banco de Dados da sua empresa uma lista com todos os produtos que a empresa vende e a quantidade em estoque de todos eles."
   ]
  },
  {
   "cell_type": "code",
   "execution_count": 1,
   "metadata": {},
   "outputs": [],
   "source": [
    "produtos = ['tv', 'celular', 'tablet', 'mouse', 'teclado', 'geladeira', 'forno']\n",
    "estoque = [100, 150, 100, 120, 70, 180, 80]"
   ]
  },
  {
   "cell_type": "markdown",
   "metadata": {},
   "source": [
    "Nesse caso a lista é \"pequena\" para fins didáticos, mas essa lista poderia ter dezenas de milhares de produtos diferentes.\n",
    "\n",
    "E agora, como eu faço para descobrir a quantidade em estoque do produto geladeira?"
   ]
  },
  {
   "cell_type": "code",
   "execution_count": 3,
   "metadata": {},
   "outputs": [
    {
     "name": "stdout",
     "output_type": "stream",
     "text": [
      "5\n",
      "geladeira\n"
     ]
    }
   ],
   "source": [
    "# Buscar o índice do produto \"geladeira\"\n",
    "i = produtos.index('geladeira')\n",
    "print(i)\n",
    "print(produtos[5])"
   ]
  },
  {
   "cell_type": "markdown",
   "metadata": {},
   "source": [
    "Crie um programa para fazer uma consulta de estoque. O usuário do programa deve inserir o nome do produto e, caso ele não exista na lista, ele deve ser avisado. Caso exista, o programa deve dizer a quantidade de unidades em estoque do produto"
   ]
  },
  {
   "cell_type": "code",
   "execution_count": 12,
   "metadata": {},
   "outputs": [
    {
     "name": "stdout",
     "output_type": "stream",
     "text": [
      "O produto teclado possui 70 unidades em estoque\n"
     ]
    }
   ],
   "source": [
    "# Obter o produto pesquisado pelo usuário\n",
    "produto = str(input('Informe o nome do produto: ')).lower()\n",
    "\n",
    "# Índice do produto pesquisado na lista produtos\n",
    "indice = produtos.index(produto)\n",
    "\n",
    "# Produto pesquisado\n",
    "produto = produtos[indice]\n",
    "\n",
    "# Estrutura para analisar se há o produto em estoque\n",
    "if indice < len(produtos):\n",
    "    print(f'O produto {produto} possui {estoque[indice]} unidades em estoque')\n",
    "else:\n",
    "    print(f'O produto {produto} não há no estoque')"
   ]
  }
 ],
 "metadata": {
  "kernelspec": {
   "display_name": "Python 3",
   "language": "python",
   "name": "python3"
  },
  "language_info": {
   "codemirror_mode": {
    "name": "ipython",
    "version": 3
   },
   "file_extension": ".py",
   "mimetype": "text/x-python",
   "name": "python",
   "nbconvert_exporter": "python",
   "pygments_lexer": "ipython3",
   "version": "3.12.1"
  }
 },
 "nbformat": 4,
 "nbformat_minor": 4
}
