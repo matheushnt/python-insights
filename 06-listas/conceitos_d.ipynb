{
 "cells": [
  {
   "cell_type": "markdown",
   "metadata": {},
   "source": [
    "## Como adicionar um elemento em uma Lista?\n",
    "Em Python, o método `append()` é usado para adicionar um elemento ao final de uma lista. A sintaxe básica é a seguinte:"
   ]
  },
  {
   "cell_type": "code",
   "execution_count": null,
   "metadata": {},
   "outputs": [],
   "source": [
    "lista.append(elemento)"
   ]
  },
  {
   "cell_type": "markdown",
   "metadata": {},
   "source": [
    "Aqui, `lista` é a lista à qual você deseja adicionar o elemento, e `elemento` é o valor que você deseja adicionar ao final da lista.\n",
    "\n",
    "### Exemplo:"
   ]
  },
  {
   "cell_type": "code",
   "execution_count": 1,
   "metadata": {},
   "outputs": [
    {
     "name": "stdout",
     "output_type": "stream",
     "text": [
      "[10, 'Olá, Mundo!', [1, 2, 3]]\n"
     ]
    }
   ],
   "source": [
    "# Criando uma lista vazia\n",
    "lista = []\n",
    "\n",
    "# Adicionando elementos usando append()\n",
    "lista.append(10)\n",
    "lista.append('Olá, Mundo!')\n",
    "lista.append([1, 2, 3])\n",
    "\n",
    "print(lista)"
   ]
  },
  {
   "cell_type": "markdown",
   "metadata": {},
   "source": [
    "O método `append()` modifica a lista original e não retorna um novo objeto. Ele sempre adiciona o elemento fornecido ao final da lista"
   ]
  },
  {
   "cell_type": "markdown",
   "metadata": {},
   "source": [
    "***"
   ]
  },
  {
   "cell_type": "markdown",
   "metadata": {},
   "source": [
    "# Como remover elementos em uma Lista?\n",
    "Em Python, `pop()` e `remove()` são usados em listas para remover elementos, mas eles têm propósitos diferentes.\n",
    "\n",
    "## Método `pop()`\n",
    "É usado para remover e retornar o elemento de uma lista com base no índice fornecido como argumento\n",
    "\n",
    "Se nenhum índice for fornecido, método `pop()` removerá e retornará o último elemento da lista por padrão.\n",
    "\n",
    "Assinatura geral do método `pop()` é `lista.pop(índice)`.\n",
    "\n",
    "### Exemplo:"
   ]
  },
  {
   "cell_type": "code",
   "execution_count": 7,
   "metadata": {},
   "outputs": [
    {
     "name": "stdout",
     "output_type": "stream",
     "text": [
      "[1, 2, 3, 4, 5]\n",
      "[1, 2, 4, 5]\n",
      "3\n"
     ]
    }
   ],
   "source": [
    "minha_lista = [1, 2, 3, 4, 5]\n",
    "print(minha_lista)\n",
    "\n",
    "# Remove e retorna o elemento no índice 2\n",
    "elemento_removido = minha_lista.pop(2)\n",
    "\n",
    "print(minha_lista)\n",
    "print(elemento_removido)"
   ]
  },
  {
   "cell_type": "markdown",
   "metadata": {},
   "source": [
    "## Método `remove()`\n",
    "O método `remove()` é usado para remover a primeira ocorrência de um valor específico na lista.\n",
    "\n",
    "A assinatura geral do método `remove()` é `lista.remover(elemento)`.\n",
    "\n",
    "### Exemplo:"
   ]
  },
  {
   "cell_type": "code",
   "execution_count": 11,
   "metadata": {},
   "outputs": [
    {
     "name": "stdout",
     "output_type": "stream",
     "text": [
      "[215, 389, 40, 455]\n"
     ]
    }
   ],
   "source": [
    "vendas = [40, 215, 389, 40, 455]\n",
    "\n",
    "# Remove a primeira ocorrência do valor 40\n",
    "vendas.remove(40)\n",
    "print(vendas)"
   ]
  },
  {
   "cell_type": "markdown",
   "metadata": {},
   "source": [
    "# Resumo\n",
    "A diferença principal é que `pop()` usa um índice para indicar qual elemento deve ser removido e retorna esse elemento, enquanto `remove()` usa o valor em si para identificar e remover a primeira ocorrência desse valor na lista."
   ]
  }
 ],
 "metadata": {
  "kernelspec": {
   "display_name": ".venv",
   "language": "python",
   "name": "python3"
  },
  "language_info": {
   "codemirror_mode": {
    "name": "ipython",
    "version": 3
   },
   "file_extension": ".py",
   "mimetype": "text/x-python",
   "name": "python",
   "nbconvert_exporter": "python",
   "pygments_lexer": "ipython3",
   "version": "3.12.1"
  }
 },
 "nbformat": 4,
 "nbformat_minor": 2
}
