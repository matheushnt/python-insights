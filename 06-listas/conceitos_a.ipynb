{
 "cells": [
  {
   "cell_type": "markdown",
   "metadata": {},
   "source": [
    "# Listas em Python\n",
    "Em Python, uma lista é uma estrutura de dados que permite armazenar uma coleção ordenada de elementos. As listas são mutáveis, o que signfica que você pode modificar, adicionar ou remover elementos após a criação da listas.\n",
    "\n",
    "Os elementos em uma lista podem ser de dierentes tipos, como números, strings, booleanos, ou até mesmo outras listas.\n",
    "\n",
    "## Sintaxe\n",
    "lista = [valor, valor, valor, valor, valor]\n",
    "\n",
    "ou usando o método interno do Python: `list()`\n",
    "\n",
    "## Segue abaixo alguns exemplos de listas em Python:\n",
    "\n",
    "### 1. Listas de Números:"
   ]
  },
  {
   "cell_type": "code",
   "execution_count": 1,
   "metadata": {},
   "outputs": [
    {
     "name": "stdout",
     "output_type": "stream",
     "text": [
      "[1, 2, 3, 4, 5, 6, 7, 8, 9, 10]\n"
     ]
    }
   ],
   "source": [
    "numeros = [1, 2, 3, 4, 5, 6, 7, 8, 9, 10]\n",
    "print(numeros)"
   ]
  },
  {
   "cell_type": "markdown",
   "metadata": {},
   "source": [
    "### 2. Lista de Strings:"
   ]
  },
  {
   "cell_type": "code",
   "execution_count": 2,
   "metadata": {},
   "outputs": [
    {
     "name": "stdout",
     "output_type": "stream",
     "text": [
      "['maçã', 'uva', 'banana', 'laranja', 'morango', 'abacaxi']\n"
     ]
    }
   ],
   "source": [
    "frutas = ['maçã', 'uva', 'banana',\n",
    "          'laranja', 'morango', 'abacaxi']\n",
    "print(frutas)"
   ]
  },
  {
   "cell_type": "markdown",
   "metadata": {},
   "source": [
    "### 3. Lista Mista:"
   ]
  },
  {
   "cell_type": "code",
   "execution_count": 3,
   "metadata": {},
   "outputs": [
    {
     "name": "stdout",
     "output_type": "stream",
     "text": [
      "['Matheus', 18, True, 1.68]\n"
     ]
    }
   ],
   "source": [
    "lista_mista = ['Matheus', 18, True, 1.68]\n",
    "print(lista_mista)"
   ]
  },
  {
   "cell_type": "markdown",
   "metadata": {},
   "source": [
    "### 4. Lista Aninhada (lista de listas):"
   ]
  },
  {
   "cell_type": "code",
   "execution_count": 6,
   "metadata": {},
   "outputs": [
    {
     "name": "stdout",
     "output_type": "stream",
     "text": [
      "[[1, 2, 3], [4, 5, 6], [7, 8, 9]]\n"
     ]
    }
   ],
   "source": [
    "matriz = [[1, 2, 3],\n",
    "          [4, 5, 6],\n",
    "          [7, 8, 9]]\n",
    "print(matriz)"
   ]
  },
  {
   "cell_type": "markdown",
   "metadata": {},
   "source": [
    "### 5. Lista Vazia:"
   ]
  },
  {
   "cell_type": "code",
   "execution_count": 4,
   "metadata": {},
   "outputs": [],
   "source": [
    "# 1º forma:\n",
    "lista_vazia = []\n",
    "\n",
    "# 2º forma:\n",
    "vazia = list()"
   ]
  },
  {
   "cell_type": "markdown",
   "metadata": {},
   "source": [
    "Estes são apenas alguns exemplos para elustrar o uso de listas em Python. As listas são uma estrutura de dados poderosa e versátil, amplamente utilizada em programação Python."
   ]
  }
 ],
 "metadata": {
  "kernelspec": {
   "display_name": ".venv",
   "language": "python",
   "name": "python3"
  },
  "language_info": {
   "codemirror_mode": {
    "name": "ipython",
    "version": 3
   },
   "file_extension": ".py",
   "mimetype": "text/x-python",
   "name": "python",
   "nbconvert_exporter": "python",
   "pygments_lexer": "ipython3",
   "version": "3.12.1"
  }
 },
 "nbformat": 4,
 "nbformat_minor": 2
}
