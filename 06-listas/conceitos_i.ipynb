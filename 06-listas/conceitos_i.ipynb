{
 "cells": [
  {
   "cell_type": "markdown",
   "metadata": {},
   "source": [
    "# Listas de Listas\n",
    "Cada item de uma lista pode ser qualquer tipo de variável. Inclusive, uma lista.\n",
    "\n",
    "Quando dentro de uma lista temos cada item como sendo uma outra lista, temos uma \"nested list\", ou seja, uma lista de listas. Todas as regras de lista funciona exatamente igual.\n",
    "\n",
    "### Exemplo:"
   ]
  },
  {
   "cell_type": "code",
   "execution_count": 1,
   "metadata": {},
   "outputs": [],
   "source": [
    "vendedores = ['Lira', 'João', 'Diego', 'Alon']\n",
    "produtos = ['ipad', 'iphone']\n",
    "vendas = [\n",
    "    [100, 200],\n",
    "    [300, 500],\n",
    "    [50, 1000],\n",
    "    [900, 10],\n",
    "]"
   ]
  },
  {
   "cell_type": "markdown",
   "metadata": {},
   "source": [
    "- Quanto João vendeu de IPad?\n",
    "- Quanto Diego vendeu de IPhone\n",
    "- Qual o total de vendas de IPhone?"
   ]
  },
  {
   "cell_type": "code",
   "execution_count": 14,
   "metadata": {},
   "outputs": [
    {
     "name": "stdout",
     "output_type": "stream",
     "text": [
      "João vendeu 300 unidades de IPad\n",
      "Diego vendeu 1000 unidades de Iphone\n",
      "O total de vendas de Iphone são 1710 unidades\n"
     ]
    }
   ],
   "source": [
    "ipad_joao = vendas[1][0]\n",
    "iphone_diego = vendas[2][1]\n",
    "total_iphone = vendas[0][1] + vendas[1][1] + vendas[2][1] + vendas[3][1]\n",
    "\n",
    "print(f'João vendeu {ipad_joao} unidades de IPad')\n",
    "print(f'Diego vendeu {iphone_diego} unidades de Iphone')\n",
    "print(f'O total de vendas de Iphone são {total_iphone} unidades')"
   ]
  },
  {
   "cell_type": "markdown",
   "metadata": {},
   "source": [
    "- E se Lira na verdade fez apenas 50 vendas de IPhone, como eu modifico na minha lista o valor de vendas dele?"
   ]
  },
  {
   "cell_type": "code",
   "execution_count": 22,
   "metadata": {},
   "outputs": [
    {
     "name": "stdout",
     "output_type": "stream",
     "text": [
      "Lira vendeu 50 unidades de Iphone\n"
     ]
    }
   ],
   "source": [
    "vendas[0][1] = 50\n",
    "\n",
    "print(f'Lira vendeu {vendas[0][1]} unidades de Iphone')"
   ]
  },
  {
   "cell_type": "markdown",
   "metadata": {},
   "source": [
    "- E se agora eu tenho um novo produto 'mac', como eu adiciono as vendas em cada um dos vendedores?"
   ]
  },
  {
   "cell_type": "code",
   "execution_count": 2,
   "metadata": {},
   "outputs": [
    {
     "name": "stdout",
     "output_type": "stream",
     "text": [
      "[[100, 200, 45], [300, 500, 27], [50, 1000, 13], [900, 10, 39]]\n"
     ]
    }
   ],
   "source": [
    "vendas_mac = [45, 27, 13, 39]\n",
    "\n",
    "vendas[0].append(vendas_mac[0])\n",
    "vendas[1].append(vendas_mac[1])\n",
    "vendas[2].append(vendas_mac[2])\n",
    "vendas[3].append(vendas_mac[3])\n",
    "\n",
    "print(vendas)"
   ]
  }
 ],
 "metadata": {
  "kernelspec": {
   "display_name": "Python 3",
   "language": "python",
   "name": "python3"
  },
  "language_info": {
   "codemirror_mode": {
    "name": "ipython",
    "version": 3
   },
   "file_extension": ".py",
   "mimetype": "text/x-python",
   "name": "python",
   "nbconvert_exporter": "python",
   "pygments_lexer": "ipython3",
   "version": "3.12.1"
  }
 },
 "nbformat": 4,
 "nbformat_minor": 4
}
