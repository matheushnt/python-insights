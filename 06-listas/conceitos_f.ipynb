{
 "cells": [
  {
   "cell_type": "markdown",
   "metadata": {},
   "source": [
    "# Juntar Listas em Python\n",
    "Quando trabbalhamos com programação em Python, muitas vezes precisamos manipular listas e realizar operações com elas. Uma tarefa comum é unir ou juntar duas listas em uma única lista. Existem várias maneiras de fazer isso em Python, duas delas é utilizando o método `extend()` e o operador \"+\".\n",
    "\n",
    "## Utilizando o método `extend()`\n",
    "O método `extend()` é uma função embutida em Python que permite adicionar os elementos de uma lista a outra lista existente. Ele é especialmente útil quando queremos adicionar os elementos de uma lista ao final de outra lista, sem criar uma nova lista.\n",
    "\n",
    "### Exemplo:"
   ]
  },
  {
   "cell_type": "code",
   "execution_count": 5,
   "metadata": {},
   "outputs": [
    {
     "name": "stdout",
     "output_type": "stream",
     "text": [
      "['ventilador', 'microondas', 'air fryer', 'cama', 'sofá', 'poltrona']\n"
     ]
    }
   ],
   "source": [
    "produtos1 = ['ventilador', 'microondas', 'air fryer']\n",
    "produtos2 = ['cama', 'sofá', 'poltrona']\n",
    "\n",
    "produtos1.extend(produtos2)\n",
    "\n",
    "print(produtos1)"
   ]
  },
  {
   "cell_type": "markdown",
   "metadata": {},
   "source": [
    "No exemplo acima, temos duas listas: `produtos1` e `produtos2`. Utilizando o método extend(), adicionamos os elementos da lista2 ao final da lista1.\n",
    "\n",
    "É importante destacar que o método `extend()` modifica  a lista original, ou seja, a lista `produtos1` foi alterada. Se deseja preservar a lista original, é recomendado criar uma cópia antes de utilizar o método `extend()`.\n",
    "\n",
    "## Utilizando o operador \"+\"\n",
    "Além do método `extend()` também é possível juntar duas listas em Python utiliando o operador \"+\". Esse operador é conhecido como operador de concatenação e pode ser utilizado para concatenar listas, strings e outros tipos de sequências.\n",
    "\n",
    "### Exemplo:"
   ]
  },
  {
   "cell_type": "code",
   "execution_count": 6,
   "metadata": {},
   "outputs": [
    {
     "name": "stdout",
     "output_type": "stream",
     "text": [
      "[150, 675, 530, 342, 305, 4520, 12570, 1550, 20510, 15910]\n"
     ]
    }
   ],
   "source": [
    "vendas_jan = [150, 675, 530, 342, 305]\n",
    "vendas_fev = [4520, 12570, 1550, 20510, 15910]\n",
    "\n",
    "vendas_bimestral = vendas_jan + vendas_fev\n",
    "\n",
    "print(vendas_bimestral)"
   ]
  },
  {
   "cell_type": "markdown",
   "metadata": {},
   "source": [
    "Nesse exemplo, utilizamos o operador + para concatenar as duas listas.\n",
    "\n",
    "Assim como o método `extend()`, o operador + também cria uma nova lista com os elementos das listas originais. Portanto, se você quiser preservar as listas originais, é necessário atribuir o resultado a uma nova variável.\n",
    "\n",
    "# Ordenar Listas em Python\n",
    "A ordenação de uma lista permite que os elementos sejam dispostos de forma lógica e coerene, facilitando a busca, a comparação e a manipulação dos dados.\n",
    "\n",
    "Para ordenar listas, há alguns métodos que é possível utilizar para realizar esta tarefa.\n",
    "\n",
    "## Método `.sort()`:\n",
    "O método `.sort()` é uma função incorporada do Python que permite ordenar uma lista em ordem crescente. Ele modifica a lista original, reordenando os elementos de acordo com a ordem definida pelo Python.\n",
    "\n",
    "### Exemplo:"
   ]
  },
  {
   "cell_type": "code",
   "execution_count": 12,
   "metadata": {},
   "outputs": [
    {
     "name": "stdout",
     "output_type": "stream",
     "text": [
      "[1, 2, 3, 4, 5]\n",
      "[5, 4, 3, 2, 1]\n",
      "['Avião', 'BANANA', 'CARRO', 'Dado', 'FACA', 'abacaxi', 'elefante', 'janaina', 'uva']\n"
     ]
    }
   ],
   "source": [
    "lista = [1, 5, 3, 2, 4]\n",
    "lista.sort()\n",
    "print(lista)\n",
    "\n",
    "# Ordenando de forma decrescente\n",
    "lista.sort(reverse=True)\n",
    "print(lista)\n",
    "\n",
    "palavras = ['BANANA', 'uva', 'CARRO',\n",
    "            'janaina', 'abacaxi', 'Avião',\n",
    "            'elefante', 'FACA', 'Dado']\n",
    "\n",
    "# O método sort() ordena com base na tabela ASCII\n",
    "palavras.sort()\n",
    "\n",
    "print(palavras)"
   ]
  },
  {
   "cell_type": "markdown",
   "metadata": {},
   "source": [
    "## Método `sorted()`:\n",
    "A função `sorted()` é uma alternativa ao método sort() e retorna uma nova lista ordenada, mantendo a lista original intacta. Diferentemente do método sort(), a função sorted() pode ser aplicada a qualquer tipo de iterável, não apenas a listas.\n",
    "\n",
    "### Exemplo:"
   ]
  },
  {
   "cell_type": "code",
   "execution_count": 14,
   "metadata": {},
   "outputs": [
    {
     "name": "stdout",
     "output_type": "stream",
     "text": [
      "[10, 20, 30, 40, 50]\n"
     ]
    }
   ],
   "source": [
    "numeros = [50, 20, 30, 10, 40]\n",
    "num_ordenados = sorted(numeros)\n",
    "print(num_ordenados)"
   ]
  },
  {
   "cell_type": "markdown",
   "metadata": {},
   "source": [
    "## Dicas para otimizar a ordenação de listas em Python\n",
    "1. Utilize o método `sort()` quando não precisar preservar a lista original. O método `sort()` modifica a lista original, economizando recursos de memória. \n",
    "\n",
    "2. Utilize a função `sorted()` quando precisar preservar a lista original. A função `sorted()` retorna uma nova lista ordenada, deixando a lista original intacta.\n",
    "\n",
    "3. Avalie a complexidade do algoritmo de ordenação. Alguns métodos de ordenação são mais eficientes para listas grandes, enquanto outros são mais adequados para listas pequenas. Considere a quantidade de dados que você está manipulando e escolha o método mais adequado.\n",
    "\n",
    "4. Utilize algoritmos de ordenação estáveis. Algoritmos de ordenação estáveis preservam a ordem relativa dos elementos com chaves iguais. Isso pode ser importante em casos onde a ordem original dos elementos é relevante."
   ]
  }
 ],
 "metadata": {
  "kernelspec": {
   "display_name": ".venv",
   "language": "python",
   "name": "python3"
  },
  "language_info": {
   "codemirror_mode": {
    "name": "ipython",
    "version": 3
   },
   "file_extension": ".py",
   "mimetype": "text/x-python",
   "name": "python",
   "nbconvert_exporter": "python",
   "pygments_lexer": "ipython3",
   "version": "3.12.1"
  }
 },
 "nbformat": 4,
 "nbformat_minor": 2
}
