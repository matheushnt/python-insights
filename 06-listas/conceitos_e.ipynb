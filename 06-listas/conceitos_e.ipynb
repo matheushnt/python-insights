{
 "cells": [
  {
   "cell_type": "markdown",
   "metadata": {},
   "source": [
    "# Tamanho de uma Lista\n",
    "Em Python, para descobrir o tamanho de uma lista, ou seja, saber quantos elementos uma lista armazena, utiliza-se o método `len()`. A sintaxe básica é a seguinte:"
   ]
  },
  {
   "cell_type": "raw",
   "metadata": {},
   "source": [
    "tamanho = len(lista)"
   ]
  },
  {
   "cell_type": "markdown",
   "metadata": {},
   "source": [
    "### Exemplo:"
   ]
  },
  {
   "cell_type": "code",
   "execution_count": 3,
   "metadata": {},
   "outputs": [
    {
     "name": "stdout",
     "output_type": "stream",
     "text": [
      "Temos 8 produtos\n"
     ]
    }
   ],
   "source": [
    "produtos = ['processador', 'placa de vídeo', 'placa mãe', 'air cooler',\n",
    "            'gabinete', 'FAMs', 'fonte 600w', 'memória RAM']\n",
    "tamanho = len(produtos)\n",
    "print(f'Temos {tamanho} produtos')"
   ]
  },
  {
   "cell_type": "markdown",
   "metadata": {},
   "source": [
    "# Maior e Menor valor de uma Lista\n",
    "No Python, para acessar o maior valor de uma lista, basta utilizar o método `max()`. E, para acessar o menor valor de uma lista, é possível usar o método `min()`. A sintaxe básica é a seguinte:"
   ]
  },
  {
   "cell_type": "raw",
   "metadata": {},
   "source": [
    "maior = max(lista)\n",
    "menor = min(lista)"
   ]
  },
  {
   "cell_type": "markdown",
   "metadata": {},
   "source": [
    "### Exemplo:"
   ]
  },
  {
   "cell_type": "code",
   "execution_count": 8,
   "metadata": {},
   "outputs": [
    {
     "name": "stdout",
     "output_type": "stream",
     "text": [
      "Produto mais vendido: memória RAM, com 983 vendas\n",
      "Produto menos vendido: air cooler, com 51 vendas\n"
     ]
    }
   ],
   "source": [
    "vendas = [325, 129, 298, 51, 785, 406, 311, 983]\n",
    "\n",
    "# Obtendo o maior valor da lista\n",
    "maior = max(vendas)\n",
    "\n",
    "# Obtendo o índice da maior venda\n",
    "mais_vendido = vendas.index(maior)\n",
    "\n",
    "# Obtendo o menor valor da lista\n",
    "menor = min(vendas)\n",
    "\n",
    "# Obtendo o índice da menor venda\n",
    "menos_vendido = vendas.index(menor)\n",
    "\n",
    "print(f'Produto mais vendido: {produtos[mais_vendido]}, com {maior} vendas')\n",
    "print(f'Produto menos vendido: {produtos[menos_vendido]}, com {menor} vendas')"
   ]
  }
 ],
 "metadata": {
  "kernelspec": {
   "display_name": ".venv",
   "language": "python",
   "name": "python3"
  },
  "language_info": {
   "codemirror_mode": {
    "name": "ipython",
    "version": 3
   },
   "file_extension": ".py",
   "mimetype": "text/x-python",
   "name": "python",
   "nbconvert_exporter": "python",
   "pygments_lexer": "ipython3",
   "version": "3.12.1"
  }
 },
 "nbformat": 4,
 "nbformat_minor": 2
}
