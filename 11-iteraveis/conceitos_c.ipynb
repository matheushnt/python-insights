{
 "cells": [
  {
   "cell_type": "markdown",
   "metadata": {},
   "source": [
    "# Função `set()`\n",
    "A função `set()` em Python é utilizada para criar um novo objeto do tipo conjunto (set).\n",
    "\n",
    "Um conjunto é uma coleção desordenada de elementos únicos. Cada elemento no conjunto deve ser único, e a ordem dos elementos pode variar.\n",
    "\n",
    "Os conjuntos são úteis quando se deseja armazenar elementos distintos e realizar operações de conjuntos, como união, interseção e diferença.\n",
    "\n",
    "A função `set()` pode ser usada de várias maneiras:\n",
    "\n",
    "#### 1. Criar um conjunto vazio:"
   ]
  },
  {
   "cell_type": "code",
   "execution_count": 2,
   "metadata": {},
   "outputs": [
    {
     "name": "stdout",
     "output_type": "stream",
     "text": [
      "set()\n"
     ]
    }
   ],
   "source": [
    "conjunto_vazio = set()\n",
    "print(conjunto_vazio)"
   ]
  },
  {
   "cell_type": "markdown",
   "metadata": {},
   "source": [
    "#### 2. Converter uma lista (ou outra sequência) em um conjunto:"
   ]
  },
  {
   "cell_type": "code",
   "execution_count": 1,
   "metadata": {},
   "outputs": [
    {
     "name": "stdout",
     "output_type": "stream",
     "text": [
      "{1, 2, 3, 4, 5, 6}\n"
     ]
    }
   ],
   "source": [
    "lista = [1, 2, 3, 4, 5, 6]\n",
    "conjunto = set(lista)\n",
    "print(conjunto)"
   ]
  },
  {
   "cell_type": "markdown",
   "metadata": {},
   "source": [
    "#### 3. Criar um conjunto diretamente com elementos:"
   ]
  },
  {
   "cell_type": "code",
   "execution_count": 3,
   "metadata": {},
   "outputs": [
    {
     "name": "stdout",
     "output_type": "stream",
     "text": [
      "{50, 20, 40, 10, 30}\n"
     ]
    }
   ],
   "source": [
    "conjunto = set([10, 20, 30, 40, 50])\n",
    "\n",
    "# Ou\n",
    "\n",
    "conjunto = {10, 20, 30, 40, 50}\n",
    "\n",
    "print(conjunto)"
   ]
  },
  {
   "cell_type": "markdown",
   "metadata": {},
   "source": [
    "#### 4. Adição de Elementos:"
   ]
  },
  {
   "cell_type": "code",
   "execution_count": 5,
   "metadata": {},
   "outputs": [
    {
     "name": "stdout",
     "output_type": "stream",
     "text": [
      "{1, 2, 3, 4, 5, 6, 7}\n"
     ]
    }
   ],
   "source": [
    "conjunto = {1, 2, 3}\n",
    "conjunto.add(4)\n",
    "conjunto.update([5, 6, 7])\n",
    "print(conjunto)"
   ]
  },
  {
   "cell_type": "markdown",
   "metadata": {},
   "source": [
    "#### 5. Remoção de Elementos:"
   ]
  },
  {
   "cell_type": "code",
   "execution_count": 8,
   "metadata": {},
   "outputs": [
    {
     "name": "stdout",
     "output_type": "stream",
     "text": [
      "{4, 5}\n",
      "3\n"
     ]
    }
   ],
   "source": [
    "conjunto = {1, 2, 3, 4, 5}\n",
    "conjunto.remove(2) # Gera um erro caso o elemento não existir\n",
    "conjunto.discard(1) # Também gera um erro se o elemento não existir\n",
    "elemento_removido = conjunto.pop() # Remove e retorna o elemento aleatório do conjunto\n",
    "print(conjunto)\n",
    "print(elemento_removido)"
   ]
  },
  {
   "cell_type": "markdown",
   "metadata": {},
   "source": [
    "### 6. Operações de Conjunto:\n",
    "#### A) Uniões:"
   ]
  },
  {
   "cell_type": "code",
   "execution_count": 9,
   "metadata": {},
   "outputs": [
    {
     "name": "stdout",
     "output_type": "stream",
     "text": [
      "{1, 2, 3, 4, 5}\n",
      "{1, 2, 3, 4, 5}\n"
     ]
    }
   ],
   "source": [
    "conjunto1 = {1, 2, 3}\n",
    "conjunto2 = {3, 4, 5}\n",
    "uniao = conjunto1.union(conjunto2)\n",
    "print(uniao)\n",
    "\n",
    "# Ou usando o operador |\n",
    "uniao = conjunto1 | conjunto2\n",
    "print(uniao)"
   ]
  },
  {
   "cell_type": "markdown",
   "metadata": {},
   "source": [
    "#### B) Interseção:"
   ]
  },
  {
   "cell_type": "code",
   "execution_count": 11,
   "metadata": {},
   "outputs": [
    {
     "name": "stdout",
     "output_type": "stream",
     "text": [
      "{3}\n",
      "{3}\n"
     ]
    }
   ],
   "source": [
    "intersecao = conjunto1.intersection(conjunto2)\n",
    "print(intersecao)\n",
    "\n",
    "# Ou usando o operador &\n",
    "intersecao = conjunto1 & conjunto2\n",
    "print(intersecao)"
   ]
  },
  {
   "cell_type": "markdown",
   "metadata": {},
   "source": [
    "#### C) Diferença:"
   ]
  },
  {
   "cell_type": "code",
   "execution_count": 14,
   "metadata": {},
   "outputs": [
    {
     "name": "stdout",
     "output_type": "stream",
     "text": [
      "{1, 2}\n",
      "{4, 5}\n"
     ]
    }
   ],
   "source": [
    "diferenca = conjunto1.difference(conjunto2)\n",
    "print(diferenca)\n",
    "\n",
    "# Ou usando operador -\n",
    "diferenca = conjunto2 - conjunto1\n",
    "print(diferenca)"
   ]
  },
  {
   "cell_type": "markdown",
   "metadata": {},
   "source": [
    "#### D) Diferença Simétrica:"
   ]
  },
  {
   "cell_type": "code",
   "execution_count": 15,
   "metadata": {},
   "outputs": [
    {
     "name": "stdout",
     "output_type": "stream",
     "text": [
      "{1, 2, 4, 5}\n",
      "{1, 2, 4, 5}\n"
     ]
    }
   ],
   "source": [
    "diferenca_simetrica = conjunto1.symmetric_difference(conjunto2)\n",
    "print(diferenca_simetrica)\n",
    "\n",
    "# Ou usando o operador ^\n",
    "diferenca_simetrica = conjunto2 ^ conjunto1\n",
    "print(diferenca_simetrica)"
   ]
  },
  {
   "cell_type": "markdown",
   "metadata": {},
   "source": [
    "#### 7. Verificação de Pertencimento:"
   ]
  },
  {
   "cell_type": "code",
   "execution_count": 19,
   "metadata": {},
   "outputs": [
    {
     "name": "stdout",
     "output_type": "stream",
     "text": [
      "False\n",
      "True\n"
     ]
    }
   ],
   "source": [
    "conjunto = {1, 5, 3, 7, 9, 8, 10}\n",
    "elemento_presente = 4 in conjunto\n",
    "print(elemento_presente)\n",
    "elemento_ausente = 2 not in conjunto\n",
    "print(elemento_ausente)"
   ]
  },
  {
   "cell_type": "markdown",
   "metadata": {},
   "source": [
    "#### 8. Tamanho do Conjunto:"
   ]
  },
  {
   "cell_type": "code",
   "execution_count": 20,
   "metadata": {},
   "outputs": [
    {
     "name": "stdout",
     "output_type": "stream",
     "text": [
      "7\n"
     ]
    }
   ],
   "source": [
    "tamanho = len(conjunto)\n",
    "print(tamanho)"
   ]
  },
  {
   "cell_type": "markdown",
   "metadata": {},
   "source": [
    "Essas são apenas algumas das operações básicas que é possível realizar com conjuntos em Python.\n",
    "\n",
    "Conjuntos são úteis quando você precisa armazenar elementos distintos e realizar operações de conjuntos eficientes."
   ]
  }
 ],
 "metadata": {
  "kernelspec": {
   "display_name": ".venv",
   "language": "python",
   "name": "python3"
  },
  "language_info": {
   "codemirror_mode": {
    "name": "ipython",
    "version": 3
   },
   "file_extension": ".py",
   "mimetype": "text/x-python",
   "name": "python",
   "nbconvert_exporter": "python",
   "pygments_lexer": "ipython3",
   "version": "3.12.2"
  }
 },
 "nbformat": 4,
 "nbformat_minor": 2
}
