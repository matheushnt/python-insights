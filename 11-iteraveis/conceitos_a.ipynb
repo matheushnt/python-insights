{
 "cells": [
  {
   "cell_type": "markdown",
   "metadata": {},
   "source": [
    "# O que é um iterable?\n",
    "Em Python, um objeto iterável é um objeto capaz de ser percorrido ou iterado, ou seja, você pode percorrer seus elementos um por um. Os iteráveis são fundamentais para a utilização de estruturas de controle de fluxo como loops (por exemplo, `for` loops) e também são comumente utilizados em funções que aceitam iteráveis como argumentos.\n",
    "\n",
    "### Exemplos de Iteráveis:\n",
    "\n",
    "#### 1. Listas:"
   ]
  },
  {
   "cell_type": "code",
   "execution_count": 1,
   "metadata": {},
   "outputs": [
    {
     "name": "stdout",
     "output_type": "stream",
     "text": [
      "iphone\n",
      "samsung galaxy\n",
      "tv samsung\n",
      "ps5\n",
      "tablet\n",
      "ipad\n",
      "tv philco\n",
      "notebook hp\n",
      "notebook dell\n",
      "notebook asus\n"
     ]
    }
   ],
   "source": [
    "produtos = [\n",
    "    'iphone', 'samsung galaxy',\n",
    "    'tv samsung', 'ps5', 'tablet',\n",
    "    'ipad', 'tv philco', 'notebook hp',\n",
    "    'notebook dell', 'notebook asus'\n",
    "]\n",
    "\n",
    "for produto in produtos:\n",
    "    print(produto)"
   ]
  },
  {
   "cell_type": "markdown",
   "metadata": {},
   "source": [
    "#### 2. Strings:"
   ]
  },
  {
   "cell_type": "code",
   "execution_count": 2,
   "metadata": {},
   "outputs": [
    {
     "name": "stdout",
     "output_type": "stream",
     "text": [
      "m\n",
      "a\n",
      "t\n",
      "h\n",
      "@\n",
      "g\n",
      "m\n",
      "a\n",
      "i\n",
      "l\n",
      ".\n",
      "c\n",
      "o\n",
      "m\n"
     ]
    }
   ],
   "source": [
    "texto = 'math@gmail.com'\n",
    "\n",
    "for ch in texto:\n",
    "    print(ch)"
   ]
  },
  {
   "cell_type": "markdown",
   "metadata": {},
   "source": [
    "#### 3. Tuplas:"
   ]
  },
  {
   "cell_type": "code",
   "execution_count": 3,
   "metadata": {},
   "outputs": [
    {
     "name": "stdout",
     "output_type": "stream",
     "text": [
      "iphone\n",
      "samsung galaxy\n",
      "tv samsung\n",
      "ps5\n",
      "tablet\n",
      "ipad\n",
      "tv philco\n",
      "notebook hp\n",
      "notebook dell\n",
      "notebook asus\n"
     ]
    }
   ],
   "source": [
    "produtos = (\n",
    "    'iphone', 'samsung galaxy', 'tv samsung',\n",
    "    'ps5', 'tablet', 'ipad', 'tv philco',\n",
    "    'notebook hp', 'notebook dell', 'notebook asus'\n",
    ")\n",
    "\n",
    "for produto in produtos:\n",
    "    print(produto)\n"
   ]
  },
  {
   "cell_type": "markdown",
   "metadata": {},
   "source": [
    "#### 4. Dicionários:"
   ]
  },
  {
   "cell_type": "code",
   "execution_count": 4,
   "metadata": {},
   "outputs": [
    {
     "name": "stdout",
     "output_type": "stream",
     "text": [
      "iphone: 15000\n",
      "samsung galaxy: 12000\n",
      "tv samsung: 10000\n",
      "ps5: 14300\n",
      "tablet: 1720\n",
      "ipad: 1000\n",
      "tv philco: 2500\n",
      "notebook hp: 1000\n",
      "notebook dell: 17000\n",
      "notebook asus: 2450\n"
     ]
    }
   ],
   "source": [
    "vendas_produtos = {\n",
    "    'iphone': 15000,\n",
    "    'samsung galaxy': 12000,\n",
    "    'tv samsung': 10000,\n",
    "    'ps5': 14300,\n",
    "    'tablet': 1720,\n",
    "    'ipad': 1000,\n",
    "    'tv philco': 2500,\n",
    "    'notebook hp': 1000,\n",
    "    'notebook dell': 17000,\n",
    "    'notebook asus': 2450}\n",
    "\n",
    "for k, v in vendas_produtos.items():\n",
    "    print(f'{k}: {v}')"
   ]
  }
 ],
 "metadata": {
  "kernelspec": {
   "display_name": "Python 3",
   "language": "python",
   "name": "python3"
  },
  "language_info": {
   "codemirror_mode": {
    "name": "ipython",
    "version": 3
   },
   "file_extension": ".py",
   "mimetype": "text/x-python",
   "name": "python",
   "nbconvert_exporter": "python",
   "pygments_lexer": "ipython3",
   "version": "3.12.2"
  }
 },
 "nbformat": 4,
 "nbformat_minor": 4
}
