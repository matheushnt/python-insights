{
 "cells": [
  {
   "cell_type": "markdown",
   "metadata": {},
   "source": [
    "# Loop `for` iterando sobre Dicionários\n",
    "No Python, é possível iterar sobre os itens de um dicionário usando o loop `for`. Existem várias maneiras de fazer isso, dependendo do que você deseja acessar durante a iteração. Aqui estão algumas abordagens comuns:\n",
    "\n",
    "### Iterar sobre chaves:"
   ]
  },
  {
   "cell_type": "code",
   "execution_count": 2,
   "metadata": {},
   "outputs": [
    {
     "name": "stdout",
     "output_type": "stream",
     "text": [
      "nome\n",
      "idade\n",
      "sexo\n",
      "profissão\n",
      "salário\n",
      "----------\n",
      "nome\n",
      "idade\n",
      "sexo\n",
      "profissão\n",
      "salário\n"
     ]
    }
   ],
   "source": [
    "pessoa = {\n",
    "    'nome': 'João',\n",
    "    'idade': 32,\n",
    "    'sexo': 'Masculino',\n",
    "    'profissão': 'Médico',\n",
    "    'salário': 12560.50\n",
    "}\n",
    "\n",
    "# Primeira maneira de iterar sobre chaves\n",
    "for chave in pessoa:\n",
    "    print(chave)\n",
    "\n",
    "print('-' * 10)\n",
    "\n",
    "# Segunda maneira de iterar sobre chaves\n",
    "for k in pessoa.keys():\n",
    "    print(k)"
   ]
  },
  {
   "cell_type": "markdown",
   "metadata": {},
   "source": [
    "### Iterar sobre valores:"
   ]
  },
  {
   "cell_type": "code",
   "execution_count": 3,
   "metadata": {},
   "outputs": [
    {
     "name": "stdout",
     "output_type": "stream",
     "text": [
      "João\n",
      "32\n",
      "Masculino\n",
      "Médico\n",
      "12560.5\n"
     ]
    }
   ],
   "source": [
    "for v in pessoa.values():\n",
    "    print(v)"
   ]
  },
  {
   "cell_type": "markdown",
   "metadata": {},
   "source": [
    "### Iterar sobre pares chave-valor:"
   ]
  },
  {
   "cell_type": "code",
   "execution_count": 5,
   "metadata": {},
   "outputs": [
    {
     "name": "stdout",
     "output_type": "stream",
     "text": [
      "nome: João\n",
      "idade: 32\n",
      "sexo: Masculino\n",
      "profissão: Médico\n",
      "salário: 12560.5\n"
     ]
    }
   ],
   "source": [
    "for k, v in pessoa.items():\n",
    "    print(f'{k}: {v}')"
   ]
  }
 ],
 "metadata": {
  "kernelspec": {
   "display_name": ".venv",
   "language": "python",
   "name": "python3"
  },
  "language_info": {
   "codemirror_mode": {
    "name": "ipython",
    "version": 3
   },
   "file_extension": ".py",
   "mimetype": "text/x-python",
   "name": "python",
   "nbconvert_exporter": "python",
   "pygments_lexer": "ipython3",
   "version": "3.12.2"
  }
 },
 "nbformat": 4,
 "nbformat_minor": 2
}
