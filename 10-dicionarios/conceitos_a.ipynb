{
 "cells": [
  {
   "cell_type": "markdown",
   "metadata": {},
   "source": [
    "# Dicionários em Python\n",
    "Em Python, um dicionário é uma estrutura de dados que armazena pares chave-valor onde cada chave é única e mapeia para um valor específico.\n",
    "\n",
    "Dicionários são implementados como tabelas de hash, proporcionando acesso rápido e eficiente aos valores associados às chaves\n",
    "\n",
    "## Sintaxe básica:"
   ]
  },
  {
   "cell_type": "code",
   "execution_count": 4,
   "metadata": {},
   "outputs": [
    {
     "name": "stdout",
     "output_type": "stream",
     "text": [
      "Matheus\n",
      "18\n",
      "Jovem Aprendiz\n"
     ]
    }
   ],
   "source": [
    "pessoa = {\n",
    "    'nome': 'Matheus',\n",
    "    'idade': 18,\n",
    "    'cidade': 'Macapá, AP'\n",
    "}\n",
    "\n",
    "# Acessando valores através das chaves\n",
    "print(pessoa['nome'])\n",
    "print(pessoa['idade'])\n",
    "\n",
    "# Adicionando um novo par chave-valor\n",
    "pessoa['profissao'] = 'Jovem Aprendiz'\n",
    "print(pessoa['profissao'])"
   ]
  },
  {
   "cell_type": "code",
   "execution_count": 6,
   "metadata": {},
   "outputs": [],
   "source": [
    "mais_vendidos = {\n",
    "    'tecnologia': 'iphone',\n",
    "    'refrigeracao': 'ar consul 12000 btu',\n",
    "    'livros': 'o alquimista',\n",
    "    'eletrodoméstico': 'geladeira',\n",
    "    'lazer': 'prancha surf'\n",
    "}\n",
    "\n",
    "vendas_tecnologia = {\n",
    "    'iphone': 15000,\n",
    "    'samsung galaxy': 12000,\n",
    "    'tv samsung': 10000,\n",
    "    'ps5': 14300,\n",
    "    'tablet': 1720,\n",
    "    'ipad': 1000,\n",
    "    'tv philco': 2500,\n",
    "    'notebook hp': 1000,\n",
    "    'notebook dell': 17000,\n",
    "    'notebook asus': 2450\n",
    "}"
   ]
  },
  {
   "cell_type": "markdown",
   "metadata": {},
   "source": [
    "- Qual foi o item mais vendido nas categorias 'livros' e 'lazer'?"
   ]
  },
  {
   "cell_type": "code",
   "execution_count": 7,
   "metadata": {},
   "outputs": [
    {
     "name": "stdout",
     "output_type": "stream",
     "text": [
      "o alquimista\n",
      "prancha surf\n"
     ]
    }
   ],
   "source": [
    "livro = mais_vendidos['livros']\n",
    "lazer = mais_vendidos['lazer']\n",
    "\n",
    "print(livro)\n",
    "print(lazer)"
   ]
  },
  {
   "cell_type": "markdown",
   "metadata": {},
   "source": [
    "- Quanto foi vendido de 'notebook asus' e de 'ipad'?"
   ]
  },
  {
   "cell_type": "code",
   "execution_count": 8,
   "metadata": {},
   "outputs": [
    {
     "name": "stdout",
     "output_type": "stream",
     "text": [
      "2450\n",
      "1000\n"
     ]
    }
   ],
   "source": [
    "vendas_notebook_asus = vendas_tecnologia['notebook asus']\n",
    "vendas_ipad = vendas_tecnologia['ipad']\n",
    "\n",
    "print(vendas_notebook_asus)\n",
    "print(vendas_ipad)"
   ]
  },
  {
   "cell_type": "markdown",
   "metadata": {},
   "source": [
    "### Vantagens\n",
    "#### Acesso Rápido por Chave:\n",
    "- Os dicionários permitem acesso rápido aos valores associados a uma chave específica. Isso ocorre porque eles são implementados usando uma tabela de hash, proporcionando um tempo constante (O(1)) para operações de busca, inserção e remoção.\n",
    "\n",
    "#### Flexibilidade:\n",
    "- As chaves e os valores podem ser de tipos diferentes, proporcionando grande flexibilidade. Isso permite a criação de estruturas de dados complexas e personalizadas.\n",
    "\n",
    "#### Facilidade de Leitura e Escrita de Código:\n",
    "- A sintaxe para trabalhar com dicionários é simples e expressiva, facilitando a leitura e escrita de código. Isso torna o código mais limpo e compreensível.\n",
    "\n",
    "#### Atualização Dinâmica:\n",
    "- Dicionários podem ser facilmente atualizados, adicionando novas chaves ou modificando os valores associados às chaves existentes.\n",
    "\n",
    "### Desvantagens\n",
    "#### Uso de Memória:\n",
    "- Dicionários podem consumir mais memória do que algumas outras estruturas de dados devido à sobrecarga associada ao armazenamento das chaves e valores, bem como ao gerenciamento da tabela de hash.\n",
    "\n",
    "#### Ordenação não Garantida (até o Python 3.7):\n",
    "Antes do Python 3.7, a ordem dos elementos em um dicionário não era garantida. A partir do Python 3.7, a ordem de inserção é mantida, mas ainda assim, a ordem não é baseada em ordenação natural.\n",
    "\n",
    "#### Iteração Potencialmente Mais Lenta:\n",
    "- Em comparação com outras estruturas de dados, como listas, a iteração sobre um grande número de chaves pode ser ligeiramente mais lenta devido à natureza da tabela de hash.\n",
    "\n",
    "#### Sensibilidade a Chave:\n",
    "- As chaves em um dicionário são sensíveis a maiúsculas e minúsculas. Isso significa que chaves que diferem apenas em maiúsculas e minúsculas são tratadas como chaves distintas.\n",
    "\n",
    "### Conclusão\n",
    "Ao decidir usar um dicionário em Python, é importante considerar as necessidades específicas do seu programa e escolher a estrutura de dados que melhor atenda a essas necessidades.\n",
    "\n",
    "Em muitos casos, os dicionários são uma escolha eficiente e conveniente, mas em situações específicas, outras estruturas de dados podem ser mais apropriadas."
   ]
  }
 ],
 "metadata": {
  "kernelspec": {
   "display_name": "Python 3",
   "language": "python",
   "name": "python3"
  },
  "language_info": {
   "codemirror_mode": {
    "name": "ipython",
    "version": 3
   },
   "file_extension": ".py",
   "mimetype": "text/x-python",
   "name": "python",
   "nbconvert_exporter": "python",
   "pygments_lexer": "ipython3",
   "version": "3.12.2"
  }
 },
 "nbformat": 4,
 "nbformat_minor": 2
}
