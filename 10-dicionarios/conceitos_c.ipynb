{
 "cells": [
  {
   "cell_type": "markdown",
   "metadata": {},
   "source": [
    "# Adicionar, modificar e remover itens de um Dicionário em Python\n",
    "Em Python, você pode adiconar, modificar e remover itens de um dicionário usando diferentes métodos e operações. Aqui estão alguns exemplos:\n",
    "\n",
    "## Adicionar itens a um dicionário\n",
    "Há duas opções para adicionar um novo par chave-valor a um dicionário, sendo a primeira opção atribuindo um valor a uma nova chave e a segunda opção usando o método .update(chave). Exemplos abaixo:"
   ]
  },
  {
   "cell_type": "code",
   "execution_count": 16,
   "metadata": {},
   "outputs": [
    {
     "name": "stdout",
     "output_type": "stream",
     "text": [
      "{'janeiro': 120500, 'fevereiro': 238200, 'março': 273980}\n",
      "{'janeiro': 120500, 'fevereiro': 238200, 'março': 273980, 'abril': 312750, 'maio': 356700, 'junho': 405129}\n"
     ]
    }
   ],
   "source": [
    "# Criar um dicionário vazio\n",
    "meses_faturamento = {}\n",
    "\n",
    "# Primeira opção de adicionar itens em um dicionário\n",
    "meses_faturamento['janeiro'] = 120500\n",
    "meses_faturamento['fevereiro'] = 238200\n",
    "meses_faturamento['março'] = 273980\n",
    "print(meses_faturamento)\n",
    "\n",
    "# Segunda opção de adicionar itens em um dicionário\n",
    "meses_faturamento.update({'abril': 312750,\n",
    "                          'maio': 356700,\n",
    "                          'junho': 405129})\n",
    "print(meses_faturamento)\n",
    "\n",
    "# O método update() é muito útil quando queremos adicionar um dicionário dentro de outro dicionário\n"
   ]
  },
  {
   "cell_type": "markdown",
   "metadata": {},
   "source": [
    "## Modificar itens em um dicionário\n",
    "Você pode modificar o valor associado a uma chave existente."
   ]
  },
  {
   "cell_type": "code",
   "execution_count": 17,
   "metadata": {},
   "outputs": [
    {
     "name": "stdout",
     "output_type": "stream",
     "text": [
      "{'janeiro': 100925, 'fevereiro': 255310, 'março': 292574, 'abril': 312750, 'maio': 356700, 'junho': 405129}\n"
     ]
    }
   ],
   "source": [
    "# Modificando o faturamento do primeiro trimestre\n",
    "meses_faturamento['janeiro'] =  100925\n",
    "meses_faturamento['fevereiro'] = 255310\n",
    "meses_faturamento['março'] = 292574\n",
    "print(meses_faturamento)"
   ]
  },
  {
   "cell_type": "markdown",
   "metadata": {},
   "source": [
    "## Remover itens de um dicionário\n",
    "Você pode remover um item específico usando a palavra-chave `del` ou o método `pop()`."
   ]
  },
  {
   "cell_type": "code",
   "execution_count": 18,
   "metadata": {},
   "outputs": [
    {
     "name": "stdout",
     "output_type": "stream",
     "text": [
      "{'janeiro': 100925, 'fevereiro': 255310, 'março': 292574}\n",
      "{'janeiro': 100925, 'fevereiro': 255310}\n",
      "292574\n"
     ]
    }
   ],
   "source": [
    "# Remover um item usando del\n",
    "del meses_faturamento['junho']\n",
    "del meses_faturamento['maio']\n",
    "del meses_faturamento['abril']\n",
    "print(meses_faturamento)\n",
    "\n",
    "# Remover um item usando pop()\n",
    "mes_removido = meses_faturamento.pop('março')\n",
    "print(meses_faturamento)\n",
    "print(mes_removido)"
   ]
  },
  {
   "cell_type": "markdown",
   "metadata": {},
   "source": [
    "### <span style=\"color:red\"><strong>Observações</strong></span>\n",
    "Se usar a palavra-chave `del` e não especificar a chave, o dicionário será apagado. Exemplo:"
   ]
  },
  {
   "cell_type": "code",
   "execution_count": 21,
   "metadata": {},
   "outputs": [],
   "source": [
    "boletim = {\n",
    "    'Matheus': 8.5,\n",
    "    'Joaquim': 9.8,\n",
    "    'Fernanda': 7.7,\n",
    "    'Ana': 8.6,\n",
    "    'João': 6.4\n",
    "}\n",
    "\n",
    "del boletim\n",
    "# Se tentar imprimir o dicionário boletim, retornará um erro"
   ]
  },
  {
   "cell_type": "markdown",
   "metadata": {},
   "source": [
    "Se usar o método `pop()`, a chave especificada será retirada do dicionário e deverá ser atribuida a uma variável. Exemplo:"
   ]
  },
  {
   "cell_type": "code",
   "execution_count": 29,
   "metadata": {},
   "outputs": [
    {
     "name": "stdout",
     "output_type": "stream",
     "text": [
      "{'nome': 'Fernando', 'idade': 34, 'sexo': 'Masculino', 'salário': 6730.5}\n",
      "6730.5\n",
      "{'nome': 'Fernando', 'idade': 34, 'sexo': 'Masculino'}\n",
      "None\n"
     ]
    }
   ],
   "source": [
    "pessoa = {\n",
    "    'nome': 'Fernando',\n",
    "    'idade': 34,\n",
    "    'sexo': 'Masculino',\n",
    "    'salário': 6730.50\n",
    "}\n",
    "print(pessoa)\n",
    "\n",
    "salario = pessoa.pop('salário')\n",
    "print(salario)\n",
    "print(pessoa)\n",
    "\n",
    "profissao = pessoa.pop('profissão', None)\n",
    "# Se a chave não existir, pop() retorna None\n",
    "print(profissao)"
   ]
  }
 ],
 "metadata": {
  "kernelspec": {
   "display_name": ".venv",
   "language": "python",
   "name": "python3"
  },
  "language_info": {
   "codemirror_mode": {
    "name": "ipython",
    "version": 3
   },
   "file_extension": ".py",
   "mimetype": "text/x-python",
   "name": "python",
   "nbconvert_exporter": "python",
   "pygments_lexer": "ipython3",
   "version": "3.12.2"
  }
 },
 "nbformat": 4,
 "nbformat_minor": 2
}
