{
 "cells": [
  {
   "cell_type": "markdown",
   "metadata": {},
   "source": [
    "# Obtendo o valor de uma chave do dicionário\n",
    "Há duas formas de obter o valor de uma chave, sendo elas:\n",
    "- dicionario['chave']\n",
    "- dicionario.get('chave')"
   ]
  },
  {
   "cell_type": "code",
   "execution_count": 2,
   "metadata": {},
   "outputs": [],
   "source": [
    "mais_vendidos = {\n",
    "    'tecnologia': 'iphone',\n",
    "    'refrigeracao': 'ar consul 12000 btu',\n",
    "    'livros': 'o alquimista',\n",
    "    'eletrodoméstico': 'geladeira',\n",
    "    'lazer': 'prancha surf'\n",
    "}\n",
    "\n",
    "vendas_tecnologia = {\n",
    "    'iphone': 15000,\n",
    "    'samsung galaxy': 12000,\n",
    "    'tv samsung': 10000,\n",
    "    'ps5': 14300,\n",
    "    'tablet': 1720,\n",
    "    'ipad': 1000,\n",
    "    'tv philco': 2500,\n",
    "    'notebook hp': 1000,\n",
    "    'notebook dell': 17000,\n",
    "    'notebook asus': 2450\n",
    "}"
   ]
  },
  {
   "cell_type": "markdown",
   "metadata": {},
   "source": [
    "### 1. Qual foi o item mais vendido na categoria 'tecnologia' e 'eletrodoméstico'?"
   ]
  },
  {
   "cell_type": "code",
   "execution_count": 4,
   "metadata": {},
   "outputs": [
    {
     "name": "stdout",
     "output_type": "stream",
     "text": [
      "O item mais vendido da categoria Tecnologia foi iphone\n",
      "O item mais vendido da categoria Eletrodoméstico foi geladeira\n",
      "---------------------------------------------\n",
      "iphone foi o produto mais vendido em Tecnologia\n",
      "geladeira foi o produto mais vendido em Eletrodomésticos\n"
     ]
    }
   ],
   "source": [
    "# 1º forma de acessar o valor de uma chave\n",
    "mais_vendido_tech = mais_vendidos['tecnologia']\n",
    "mais_vendido_eletro = mais_vendidos['eletrodoméstico']\n",
    "print(f'O item mais vendido da categoria Tecnologia foi {mais_vendido_tech}')\n",
    "print(f'O item mais vendido da categoria Eletrodoméstico foi {mais_vendido_eletro}')\n",
    "\n",
    "print('-' * 45)\n",
    "\n",
    "# 2º forma de acessar o valor de uma chave\n",
    "mais_vendas_tech = mais_vendidos.get('tecnologia')\n",
    "mais_vendas_eletro = mais_vendidos.get('eletrodoméstico')\n",
    "print(f'{mais_vendas_tech} foi o produto mais vendido em Tecnologia')\n",
    "print(f'{mais_vendas_eletro} foi o produto mais vendido em Eletrodomésticos')"
   ]
  },
  {
   "cell_type": "markdown",
   "metadata": {},
   "source": [
    "### 2. Quanto foi vendido de PS5 e Notebook Dell?"
   ]
  },
  {
   "cell_type": "code",
   "execution_count": 5,
   "metadata": {},
   "outputs": [
    {
     "name": "stdout",
     "output_type": "stream",
     "text": [
      "Foram feitas 14300 vendas de PS5\n",
      "Foram feitas 17000 vendas de Notebook Dell\n",
      "---------------------------------------------\n",
      "Foram vendidas 14300 unidades de PS5\n",
      "Foram vendidas 17000 unidades de Notebook Dell\n"
     ]
    }
   ],
   "source": [
    "# 1º forma de acessar o valor de uma chave\n",
    "vendas_ps5 = vendas_tecnologia['ps5']\n",
    "vendas_notebook_dell = vendas_tecnologia['notebook dell']\n",
    "print(f'Foram feitas {vendas_ps5} vendas de PS5')\n",
    "print(f'Foram feitas {vendas_notebook_dell} vendas de Notebook Dell')\n",
    "\n",
    "print('-' * 45)\n",
    "\n",
    "# 2º forma de acessar o valor de uma chave\n",
    "qtde_vendas_ps5 = vendas_tecnologia.get('ps5')\n",
    "qtde_vendas_nb_dell = vendas_tecnologia.get('notebook dell')\n",
    "print(f'Foram vendidas {qtde_vendas_ps5} unidades de PS5')\n",
    "print(f'Foram vendidas {qtde_vendas_nb_dell} unidades de Notebook Dell')"
   ]
  },
  {
   "cell_type": "markdown",
   "metadata": {},
   "source": [
    "## Verificando se a chave está contida no dicionário\n",
    "Há duas maneiras de verificar se a chave requisitada faz parte do dicionário. São elas:\n",
    "- Estrutura Condicional `if`\n",
    "- dicionario.get('chave') == `None`\n",
    "\n",
    "#### Exemplo: Tentando acessar a chave 'nintendo switch'"
   ]
  },
  {
   "cell_type": "code",
   "execution_count": 7,
   "metadata": {},
   "outputs": [
    {
     "name": "stdout",
     "output_type": "stream",
     "text": [
      "O produto Nintendo Switch não foi encontrado\n",
      "O produto Nintendo Switch não foi vendido pela loja\n"
     ]
    }
   ],
   "source": [
    "# 1º forma de verificar se a chave faz parte do dicionário\n",
    "if 'nintendo switch' in vendas_tecnologia:\n",
    "    print(f'O produto Nintendo Switch foi encontrado')\n",
    "else:\n",
    "    print(f'O produto Nintendo Switch não foi encontrado')\n",
    "\n",
    "# 2º forma de verificar se a chave faz parte do dicionário\n",
    "if vendas_tecnologia.get('nintendo switch') == None:\n",
    "    print(f'O produto Nintendo Switch não foi vendido pela loja')\n",
    "else:\n",
    "    print(f'O produto Nintendo Switch foi vendido pela loja')"
   ]
  }
 ],
 "metadata": {
  "kernelspec": {
   "display_name": ".venv",
   "language": "python",
   "name": "python3"
  },
  "language_info": {
   "codemirror_mode": {
    "name": "ipython",
    "version": 3
   },
   "file_extension": ".py",
   "mimetype": "text/x-python",
   "name": "python",
   "nbconvert_exporter": "python",
   "pygments_lexer": "ipython3",
   "version": "3.12.2"
  }
 },
 "nbformat": 4,
 "nbformat_minor": 2
}
