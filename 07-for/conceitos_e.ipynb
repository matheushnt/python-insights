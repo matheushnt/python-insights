{
 "cells": [
  {
   "cell_type": "markdown",
   "metadata": {},
   "source": [
    "# Função `zip()` em Python\n",
    "A função `zip()` é uma poderosa ferramenta disponível na linguagem de programção Python. Ela permite combinar elementos de duas ou mais listas em uma única estrutura de dados.\n",
    "\n",
    "Isso pode ser extremamente útil em diversas situações, como quando precisamos iterar simultaneamente sobre múltiplas listas.\n",
    "\n",
    "## Usando a função `zip()`\n",
    "Para utilizar a função `zip()`, basta passar as listas que você deseja combinar como argumentos. Por exemplo, suponha que temos duas listas: uma contendo nomes de pessoas e outra contendo suas respectivas idades. Podemos combinar essas duas listas utilizando a função `zip()` da sequinte forma:"
   ]
  },
  {
   "cell_type": "code",
   "execution_count": 2,
   "metadata": {},
   "outputs": [
    {
     "name": "stdout",
     "output_type": "stream",
     "text": [
      "Matheus tem 18 anos de idade\n",
      "Kayk tem 19 anos de idade\n",
      "Fábio tem 13 anos de idade\n"
     ]
    }
   ],
   "source": [
    "nomes = ['Matheus', 'Kayk', 'Fábio']\n",
    "idades = [18, 19, 13]\n",
    "\n",
    "for nome, idade in zip(nomes, idades):\n",
    "    print(f'{nome} tem {idade} anos de idade')"
   ]
  },
  {
   "cell_type": "markdown",
   "metadata": {},
   "source": [
    "## Unindo listas de mesmo tamanho"
   ]
  },
  {
   "cell_type": "code",
   "execution_count": 4,
   "metadata": {},
   "outputs": [
    {
     "name": "stdout",
     "output_type": "stream",
     "text": [
      "[('Fernando', 8.3), ('Diego', 9), ('Ronaldo', 7.5)]\n"
     ]
    }
   ],
   "source": [
    "alunos = ['Fernando', 'Diego', 'Ronaldo']\n",
    "notas = [8.3, 9, 7.5]\n",
    "\n",
    "boletim = list(zip(alunos, notas))\n",
    "\n",
    "print(boletim)"
   ]
  },
  {
   "cell_type": "markdown",
   "metadata": {},
   "source": [
    "## Dicas para otimizar seu código utilizando as funções `zip()` e `list()` no Python\n",
    "Ao utilizar as funções zip e list no Python, é importante considerar algumas dicas para otimizar seu código e garantir um melhor desempenho.\n",
    "\n",
    "- Utilize a função zip quando precisar combinar elementos de múltiplas listas. Ela é especialmente útil quando as listas têm o mesmo tamanho.\n",
    "\n",
    "- Ao utilizar a função zip em loops, verifique se todas as listas têm o mesmo tamanho. Caso contrário, a iteração será interrompida no tamanho da lista mais curta.\n",
    "\n",
    "- A função list é útil para transformar iteradores em listas completas. No entanto, tenha cuidado ao utilizar essa função com iteradores que geram uma quantidade muito grande de elementos, pois isso pode consumir muita memória.\n",
    "\n",
    "- Considere utilizar expressões geradoras em conjunto com a função list para criar listas de forma mais eficiente, especialmente quando lidar com grandes volumes de dados."
   ]
  }
 ],
 "metadata": {
  "kernelspec": {
   "display_name": ".venv",
   "language": "python",
   "name": "python3"
  },
  "language_info": {
   "codemirror_mode": {
    "name": "ipython",
    "version": 3
   },
   "file_extension": ".py",
   "mimetype": "text/x-python",
   "name": "python",
   "nbconvert_exporter": "python",
   "pygments_lexer": "ipython3",
   "version": "3.12.1"
  }
 },
 "nbformat": 4,
 "nbformat_minor": 2
}
