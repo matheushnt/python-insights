{
 "cells": [
  {
   "cell_type": "markdown",
   "metadata": {},
   "source": [
    "# Função `enumerante()` em Python\n",
    "\n",
    "A função `enumerate()` é uma função integrada do Python que permite iterar sobre uma sequência enquanto acompanha o índice de cada elemento.\n",
    "\n",
    "Ela retorna um objeto enumerado que contém pares de índice e valor.\n",
    "\n",
    "Essa função é muito útil quando precisamos acessar tanto o valor quanto o índie de cada elemento em um loop.\n",
    "\n",
    "### Exemplo básico:"
   ]
  },
  {
   "cell_type": "code",
   "execution_count": 8,
   "metadata": {},
   "outputs": [
    {
     "name": "stdout",
     "output_type": "stream",
     "text": [
      "[(0, 'uva'), (1, 'maça'), (2, 'melão'), (3, 'laranja')]\n"
     ]
    }
   ],
   "source": [
    "frutas = ['uva', 'maça', 'melão', 'laranja']\n",
    "\n",
    "obj_enumerado = list(enumerate(frutas))\n",
    "\n",
    "print(obj_enumerado)"
   ]
  },
  {
   "cell_type": "markdown",
   "metadata": {},
   "source": [
    "## Utilizando a função `enumerate()` em um loop\n",
    "Para utilizar a função `enumerate()` em Python, basta passar a sequência desejada como argumento no loop. Vamos ao exemplo prático:"
   ]
  },
  {
   "cell_type": "code",
   "execution_count": 12,
   "metadata": {},
   "outputs": [
    {
     "name": "stdout",
     "output_type": "stream",
     "text": [
      "O índice 0 corresponde ao funcionário Matheus\n",
      "O índice 1 corresponde ao funcionário Kayk\n",
      "O índice 2 corresponde ao funcionário Samuel\n",
      "O índice 3 corresponde ao funcionário Fábio\n",
      "O índice 4 corresponde ao funcionário Everson\n",
      "O índice 5 corresponde ao funcionário Akless\n",
      "O índice 6 corresponde ao funcionário Vinícius\n"
     ]
    }
   ],
   "source": [
    "funcionarios = ['Matheus', 'Kayk', 'Samuel', 'Fábio',\n",
    "                'Everson', 'Akless', 'Vinícius']\n",
    "\n",
    "for i, funcionario in enumerate(funcionarios):\n",
    "    print(f'O índice {i} corresponde ao funcionário {funcionario}')"
   ]
  },
  {
   "cell_type": "markdown",
   "metadata": {},
   "source": [
    "Também é possível definir um valor inicial para o índice, passando-o como segundo argumento para a função. Veja o exemplo abaixo:"
   ]
  },
  {
   "cell_type": "code",
   "execution_count": 13,
   "metadata": {},
   "outputs": [
    {
     "name": "stdout",
     "output_type": "stream",
     "text": [
      "O índice 1 corresponde à bebida sprite\n",
      "O índice 2 corresponde à bebida coca cola\n",
      "O índice 3 corresponde à bebida pepsi\n",
      "O índice 4 corresponde à bebida guaraná\n",
      "O índice 5 corresponde à bebida fanta laranja\n"
     ]
    }
   ],
   "source": [
    "bebidas = ['sprite', 'coca cola', 'pepsi',\n",
    "           'guaraná', 'fanta laranja']\n",
    "\n",
    "for i, bebida in enumerate(bebidas, start=1):\n",
    "    print(f'O índice {i} corresponde à bebida {bebida}')"
   ]
  },
  {
   "cell_type": "markdown",
   "metadata": {},
   "source": [
    "## Exemplo Prático\n",
    "Vamos pegar um exemplo de nível mínimo de estoque. Em uma fábrica você tem vários produtos e não pode deixar que os produtos fiquem em falta. Para isso, foi definido uma quantidade de estoque que os produtos precisam ter:\n",
    "\n",
    "Identifique quais produtos estão abaixo do nível mínimo de estoque sabendo que quantidade mínima é 50 unidades."
   ]
  },
  {
   "cell_type": "code",
   "execution_count": 17,
   "metadata": {},
   "outputs": [
    {
     "name": "stdout",
     "output_type": "stream",
     "text": [
      "O produto guaraná tem 48 unidades em estoque\n",
      "O produto água de côco tem 20 unidades em estoque\n",
      "O produto nescau tem 42 unidades em estoque\n",
      "O produto danone tem 39 unidades em estoque\n",
      "O produto água tem 16 unidades em estoque\n"
     ]
    }
   ],
   "source": [
    "estoque = [1200, 300, 48, 1900, 210, 400, 20, 42, 90, 39,\n",
    "           925, 1690, 50, 89, 1460, 16, 51, 575, 340, 192]\n",
    "produtos = ['coca cola', 'pepsi', 'guaraná', 'skol', 'brahma',\n",
    "            'chá', 'água de côco', 'nescau', 'toddy', 'danone',\n",
    "            'vinho', 'itaipava', 'sprite', 'leite', 'baly',\n",
    "            'água', 'del valle', 'dolly', 'red bull',]\n",
    "\n",
    "qtde_minima = 50\n",
    "\n",
    "for i, qtde in enumerate(estoque):\n",
    "    if qtde < qtde_minima:\n",
    "        print(f'O produto {produtos[i]} tem {qtde} unidades em estoque')"
   ]
  },
  {
   "cell_type": "markdown",
   "metadata": {},
   "source": [
    "## Dicas e melhores práticas para utilizar a função `enumerate()`\n",
    "Ao utilizar a função `enumerate()` em Python, é importante ter em mente algumas dicas e melhores práticas:\n",
    "\n",
    "- Utilize o segundo argumento (start) para definir o valor inicial do índice, caso necessário.\n",
    "\n",
    "- Evite utilizar a função `enumerate()` em sequências muito grandes, pois isso pode consumir uma quantidade significativa de memória.\n",
    "\n",
    "- Evite modificar a sequênica durante a iteração, pois isso pode levar a resultados inesperados.\n",
    "\n",
    "- Utilize a função `zip()` em conjunto com `enumerate()` para iterar sobre várias sequências ao mesmo tempo.\n",
    "\n",
    "- Se necessário, utilize a função `list()` para converter o objet enumerado em uma lista."
   ]
  }
 ],
 "metadata": {
  "kernelspec": {
   "display_name": ".venv",
   "language": "python",
   "name": "python3"
  },
  "language_info": {
   "codemirror_mode": {
    "name": "ipython",
    "version": 3
   },
   "file_extension": ".py",
   "mimetype": "text/x-python",
   "name": "python",
   "nbconvert_exporter": "python",
   "pygments_lexer": "ipython3",
   "version": "3.12.1"
  }
 },
 "nbformat": 4,
 "nbformat_minor": 2
}
