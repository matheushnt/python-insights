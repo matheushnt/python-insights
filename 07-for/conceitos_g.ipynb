{
 "cells": [
  {
   "cell_type": "markdown",
   "metadata": {},
   "source": [
    "# Formas de Interromper um Loop\n",
    "No Python, as instruções `break` e `continue` são usadas em loops para controlar fluxo de execução do programa.\n",
    "\n",
    "## `break`\n",
    "A instrução `break` é usada para interromper imediatamente a execução de um loop quando uma condição específica é atendida.\n",
    "\n",
    "Quando o `break` é encontrado dentro de um loop, o programa sai do loop e continua com a execução do código que está após o loop.\n",
    "\n",
    "### Exemplo:"
   ]
  },
  {
   "cell_type": "code",
   "execution_count": 3,
   "metadata": {},
   "outputs": [
    {
     "name": "stdout",
     "output_type": "stream",
     "text": [
      "banana\n",
      "maçã\n",
      "uva\n"
     ]
    }
   ],
   "source": [
    "frutas = ['banana', 'maçã', 'uva',\n",
    "          'laranja', 'limão', 'melão']\n",
    "\n",
    "for fruta in frutas:\n",
    "    if fruta == 'laranja':\n",
    "        break\n",
    "    print(fruta)"
   ]
  },
  {
   "cell_type": "markdown",
   "metadata": {},
   "source": [
    "Neste exemplo, o loop `for` imprimirá as frutas: banana, maçã e uva e, em seguida, será interrompido porque a condição `if fruta == 'laranja'` é atendida.\n",
    "\n",
    "## `continue`\n",
    "A instrução `continue` é usada para pular o restante do código dentro de um loop e passar para a próxima iteração.\n",
    "\n",
    "Quando o `continue` é encontrado dentro de um loop `for`, o restante do código dentro do loop é ignorado para a iteração atual, e a próxima iteração é iniciada.\n",
    "\n",
    "### Exemplo:"
   ]
  },
  {
   "cell_type": "code",
   "execution_count": 4,
   "metadata": {},
   "outputs": [
    {
     "name": "stdout",
     "output_type": "stream",
     "text": [
      "Matheus\n",
      "Fernando\n",
      "Júlia\n",
      "Augusto\n",
      "Gisele\n"
     ]
    }
   ],
   "source": [
    "nomes = ['Matheus', 'Fernando', 'Júlia',\n",
    "         'Maria', 'Augusto', 'Gisele']\n",
    "for nome in nomes:\n",
    "    if nome == 'Maria':\n",
    "        continue\n",
    "    print(nome)"
   ]
  },
  {
   "cell_type": "markdown",
   "metadata": {},
   "source": [
    "Neste exemplo, quando `nome` é igual a `Maria`, a instrução `continue` é acionada, pulando a impressão e passando para a próxima iteração.\n",
    "\n",
    "Em resumo, break é utilizado para sair imediatamente de um loop quando uma condição é atendida, enquanto continue é utilizado para pular o restante do código dentro do loop e ir para a próxima iteração. Ambos são úteis para controlar o fluxo de execução em loops."
   ]
  }
 ],
 "metadata": {
  "kernelspec": {
   "display_name": ".venv",
   "language": "python",
   "name": "python3"
  },
  "language_info": {
   "codemirror_mode": {
    "name": "ipython",
    "version": 3
   },
   "file_extension": ".py",
   "mimetype": "text/x-python",
   "name": "python",
   "nbconvert_exporter": "python",
   "pygments_lexer": "ipython3",
   "version": "3.12.2"
  }
 },
 "nbformat": 4,
 "nbformat_minor": 2
}
