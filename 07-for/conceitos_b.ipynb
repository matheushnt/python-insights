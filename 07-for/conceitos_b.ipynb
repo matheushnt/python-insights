{
 "cells": [
  {
   "cell_type": "markdown",
   "metadata": {},
   "source": [
    "# For \"each\"\n",
    "Um loop `for` também é usado para iterar uma sequência (que é uma lista, uma tupla, um dicionário, um conjunto ou uma string).\n",
    "\n",
    "Com o loop `for` podemos executar um conjunto de instruções, uma vez para cada item de uma coleção.\n",
    "\n",
    "## Sintaxe básica:"
   ]
  },
  {
   "cell_type": "raw",
   "metadata": {},
   "source": [
    "for item in lista:\n",
    "    print(item)"
   ]
  },
  {
   "cell_type": "markdown",
   "metadata": {},
   "source": [
    "Neste exemplo, cada elemento da lista é atribuido a variável `item` a cada iteração do loop."
   ]
  },
  {
   "cell_type": "markdown",
   "metadata": {},
   "source": [
    "## Exemplo com String:"
   ]
  },
  {
   "cell_type": "raw",
   "metadata": {},
   "source": [
    "for ch in texto:\n",
    "    print(ch)"
   ]
  },
  {
   "cell_type": "markdown",
   "metadata": {},
   "source": [
    "No exemplo acima, cada letra do texto em questão é atribuido a variável `ch` a cada iteração do loop."
   ]
  },
  {
   "cell_type": "markdown",
   "metadata": {},
   "source": [
    "## Exemplo:\n",
    "- Usando em Listas:"
   ]
  },
  {
   "cell_type": "code",
   "execution_count": 1,
   "metadata": {},
   "outputs": [
    {
     "name": "stdout",
     "output_type": "stream",
     "text": [
      "laranja\n",
      "maçã\n",
      "uva\n",
      "morango\n",
      "banana\n",
      "abacaxi\n"
     ]
    }
   ],
   "source": [
    "frutas = ['laranja', 'maçã', 'uva',\n",
    "            'morango', 'banana', 'abacaxi']\n",
    "\n",
    "for fruta in frutas:\n",
    "    print(fruta)"
   ]
  },
  {
   "cell_type": "markdown",
   "metadata": {},
   "source": [
    "- Usando em Strings:"
   ]
  },
  {
   "cell_type": "code",
   "execution_count": 4,
   "metadata": {},
   "outputs": [
    {
     "name": "stdout",
     "output_type": "stream",
     "text": [
      "math@gmail.com"
     ]
    }
   ],
   "source": [
    "email = 'math@gmail.com'\n",
    "\n",
    "for ch in email:\n",
    "    print(ch, end='')"
   ]
  }
 ],
 "metadata": {
  "kernelspec": {
   "display_name": ".venv",
   "language": "python",
   "name": "python3"
  },
  "language_info": {
   "codemirror_mode": {
    "name": "ipython",
    "version": 3
   },
   "file_extension": ".py",
   "mimetype": "text/x-python",
   "name": "python",
   "nbconvert_exporter": "python",
   "pygments_lexer": "ipython3",
   "version": "3.12.1"
  }
 },
 "nbformat": 4,
 "nbformat_minor": 2
}
