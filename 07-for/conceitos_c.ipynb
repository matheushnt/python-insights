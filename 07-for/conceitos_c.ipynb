{
 "cells": [
  {
   "cell_type": "markdown",
   "metadata": {},
   "source": [
    "# For + If\n",
    "\n",
    "## Estrutura:"
   ]
  },
  {
   "cell_type": "raw",
   "metadata": {},
   "source": [
    "for item in lista:\n",
    "    if condicao:\n",
    "        bloco de código...\n",
    "    else:\n",
    "        bloco de código..."
   ]
  },
  {
   "cell_type": "markdown",
   "metadata": {},
   "source": [
    "Digamos que a gente esteja analisando a meta de vendas de vários funcionários de uma empresa. A meta de vendas é de 1000 reais em 1 dia.\n",
    "\n",
    "Temos uma lista de todos os funcionários e quero calcular qual o % de pessoas que bateram a meta."
   ]
  },
  {
   "cell_type": "code",
   "execution_count": 6,
   "metadata": {},
   "outputs": [
    {
     "name": "stdout",
     "output_type": "stream",
     "text": [
      "De 20 vendedores, somente 7 bateram a meta\n",
      "Os vendedores que bateram a meta representam 35.0% do total de vendedores\n"
     ]
    }
   ],
   "source": [
    "vendas = [1200, 300, 800, 1500, 1900, 2750, 400, 20, 23, 70, 90, 1100, 999, 880, 870, 50, 1430, 120, 4500, 410]\n",
    "\n",
    "meta = 1000\n",
    "tam_lista = len(vendas)\n",
    "c = 0\n",
    "\n",
    "# Laço para percorrer cada elemento da lista\n",
    "for venda in vendas:\n",
    "    if venda >= meta:\n",
    "        # Soma quantos vendedores bateram a meta\n",
    "        c += 1\n",
    "\n",
    "# Percentual de vendores que bateram a meta\n",
    "percentual = c / tam_lista\n",
    "\n",
    "print(f'De {tam_lista} vendedores, somente {c} bateram a meta')\n",
    "print(f'Os vendedores que bateram a meta representam {percentual:.1%} do total de vendedores')"
   ]
  }
 ],
 "metadata": {
  "kernelspec": {
   "display_name": ".venv",
   "language": "python",
   "name": "python3"
  },
  "language_info": {
   "codemirror_mode": {
    "name": "ipython",
    "version": 3
   },
   "file_extension": ".py",
   "mimetype": "text/x-python",
   "name": "python",
   "nbconvert_exporter": "python",
   "pygments_lexer": "ipython3",
   "version": "3.12.1"
  }
 },
 "nbformat": 4,
 "nbformat_minor": 2
}
