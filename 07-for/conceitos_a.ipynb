{
 "cells": [
  {
   "cell_type": "markdown",
   "metadata": {},
   "source": [
    "# Estruturas de Repetição\n",
    "As estruturas de repetição de repetição desempenham um papel fundamental na programação, permitido que trechos de código sejam executados várias vezes com base em certas condições. \n",
    "\n",
    "Em Python, as estruturas de repetição são implementadas de maneira intuitiva e eficiente.\n",
    "\n",
    "## For\n",
    "O loop `for` é usado quando se tem uma sequência de elementos predefinida, como uma lista, tupla, string ou até mesmo um intervalo numérico (`range()`). Ele percorre cada elemento da sequência e executa um bloco de código associado a cada elemento. A sintaxe básica é a seguinte:"
   ]
  },
  {
   "cell_type": "raw",
   "metadata": {},
   "source": [
    "for elemento in sequencia:\n",
    "    # código a ser repetido para cada elemento"
   ]
  },
  {
   "cell_type": "markdown",
   "metadata": {},
   "source": [
    "Aqui, `elemento` é uma variável que assume o valor de cada intem na `sequencia` a cada iteração do loop. O código dentro do bloco de loop é executado para cada elemento na sequência.\n",
    " \n",
    "Vamos considerar um exemplo simples para imprimir os números de 1 a 5:"
   ]
  },
  {
   "cell_type": "code",
   "execution_count": 8,
   "metadata": {},
   "outputs": [
    {
     "name": "stdout",
     "output_type": "stream",
     "text": [
      "1\n",
      "2\n",
      "3\n",
      "4\n",
      "5\n",
      "0\n",
      "1\n",
      "2\n",
      "3\n",
      "4\n",
      "5\n"
     ]
    }
   ],
   "source": [
    "for i in range(1, 6):\n",
    "    print(i)\n",
    "\n",
    "# Exemplo com a declaração do range mais enxuto\n",
    "for i in range(6):\n",
    "    print(i)"
   ]
  },
  {
   "cell_type": "markdown",
   "metadata": {},
   "source": [
    "É importante mencionar que a função `range()` é frequentemente usada com loops `for` para gerar sequências numéricas.\n",
    "\n",
    "Vamos ver outro exemplo prático do funcionamento do `for` em listas:"
   ]
  },
  {
   "cell_type": "code",
   "execution_count": 9,
   "metadata": {},
   "outputs": [
    {
     "name": "stdout",
     "output_type": "stream",
     "text": [
      "20500 unidades produzidas de guaraná\n",
      "25000 unidades produzidas de coca cola\n",
      "15600 unidades produzidas de fanta laranja\n",
      "12300 unidades produzidas de fanta uva\n",
      "22400 unidades produzidas de pepsi\n",
      "16100 unidades produzidas de sprite\n"
     ]
    }
   ],
   "source": [
    "bebidas = ['guaraná', 'coca cola', 'fanta laranja',\n",
    "           'fanta uva', 'pepsi', 'sprite']\n",
    "qtde = [20500, 25000, 15600, 12300, 22400, 16100]\n",
    "\n",
    "for i in range(len(bebidas)):\n",
    "    print(f'{qtde[i]} unidades produzidas de {bebidas[i]}')"
   ]
  }
 ],
 "metadata": {
  "kernelspec": {
   "display_name": ".venv",
   "language": "python",
   "name": "python3"
  },
  "language_info": {
   "codemirror_mode": {
    "name": "ipython",
    "version": 3
   },
   "file_extension": ".py",
   "mimetype": "text/x-python",
   "name": "python",
   "nbconvert_exporter": "python",
   "pygments_lexer": "ipython3",
   "version": "3.12.1"
  }
 },
 "nbformat": 4,
 "nbformat_minor": 2
}
