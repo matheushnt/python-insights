{
 "cells": [
  {
   "cell_type": "markdown",
   "metadata": {},
   "source": [
    "# For dentro de for\n",
    "Em Python, o conceito de um loop `for` dentro de outro loop `for` é conhecido como um **loop aninhado**. Isso ocorre quando você tem um bloco `for` de outro bloco `for`. Essa estrutura é frequentemente usada para percorrer elementos em duas ou mais dimensões, como em matrizes bidimensionais ou listas de listas.\n",
    "\n",
    "A Sintaxe básica é a seguinte:"
   ]
  },
  {
   "cell_type": "raw",
   "metadata": {},
   "source": [
    "for variavel_externa in sequencia_externa:\n",
    "    -> Código para executar para cada elemento na sequência variavel_externa\n",
    "    for variavel_interna in sequencia_interna:\n",
    "        -> Código para executar para cada elemento na sequência interna"
   ]
  },
  {
   "cell_type": "markdown",
   "metadata": {},
   "source": [
    "Aqui, `variavel_externa` representa a variável que recebe os elementos da sequência externa, e `sequencia_externa` é a sequência pela qual você está iterando externamente. Dentro desse loop externo, você tem outro loop `for` com `variavel_interna` e `sequencia_interna` representando a variável e a sequência para a iteração interna.\n",
    "\n",
    "Exemplo prático com uma matriz:"
   ]
  },
  {
   "cell_type": "code",
   "execution_count": 2,
   "metadata": {},
   "outputs": [
    {
     "name": "stdout",
     "output_type": "stream",
     "text": [
      "1  2  3  \n",
      "4  5  6  \n",
      "7  8  9  \n"
     ]
    }
   ],
   "source": [
    "matriz = [\n",
    "    [1, 2, 3],\n",
    "    [4, 5, 6],\n",
    "    [7, 8, 9]\n",
    "]\n",
    "\n",
    "for linha in matriz:\n",
    "    for elemento in linha:\n",
    "        print(elemento, end='  ')\n",
    "    print()"
   ]
  },
  {
   "cell_type": "markdown",
   "metadata": {},
   "source": [
    "Neste exemplo, o primeiro loop `for` itera sobre cada linha da matriz e o segundo loop `for` itera sobre cada elemento dentro da linha, imprimindo os elementos da matriz linha por linha.\n",
    "\n",
    "A indentação (espaçamento) é crucial em Python para indicar o escopo do código dentro dos loops. Cada nível de indentação representa um nível mais profundo de aninhamento.\n",
    "\n",
    "## Exemplo Prático\n",
    "Vamos pegar um exemplo de nível mínimo de estoque. Em uma fábrica você tem vários produtos e não pode deixar que os produtos fiquem em falta. Para isso, foi definido uma quantidade mínima de estoque que os produtos precisam ter:\n",
    "\n",
    "Identifique quais fábricas tem algum produto abaixo do nível de estoque\n",
    "\n",
    "- Agora ao invés de analisar o estoque de apenas 1 fábrica, vamos analisar o estoque de várias fábricas\n"
   ]
  },
  {
   "cell_type": "code",
   "execution_count": 12,
   "metadata": {},
   "outputs": [
    {
     "name": "stdout",
     "output_type": "stream",
     "text": [
      "Math Manufacturing possui 2 produto(s) abaixo do nível mínimo de estoque\n",
      "---------------------------------------------------------------------------\n",
      "Fábrica Hash possui 3 produto(s) abaixo do nível mínimo de estoque\n",
      "---------------------------------------------------------------------------\n",
      "TechnoMaker e Cia possui 1 produto(s) abaixo do nível mínimo de estoque\n",
      "---------------------------------------------------------------------------\n"
     ]
    }
   ],
   "source": [
    "estoque = [\n",
    "    [294, 125, 269, 208, 783, 852, 259, 371, 47, 102, 386,\n",
    "     87, 685, 686, 697, 941, 163, 631, 7, 714, 218, 670, 453],\n",
    "    [648, 816, 310, 555, 992, 643, 226, 319, 501, 23, 239,\n",
    "     42, 372, 441, 126, 645, 927, 911, 761, 445, 974, 2, 549],\n",
    "    [832, 683, 784, 449, 977, 705, 198, 937, 729, 327, 339,\n",
    "     10, 975, 310, 95, 689, 137, 795, 211, 538, 933, 751, 522],\n",
    "    [837, 168, 570, 397, 53, 297, 966, 714, 72, 737, 259, 629,\n",
    "     625, 469, 922, 305, 782, 243, 841, 848, 372, 621, 362],\n",
    "    [429, 242, 53, 985, 406, 186, 198, 50, 501, 870, 781, 632,\n",
    "     781, 105, 644, 509, 401, 88, 961, 765, 422, 340, 654]\n",
    "]\n",
    "fabricas = ['Math Manufacturing', 'Fábrica Hash', 'TechnoMaker e Cia',\n",
    "            'Python TechMade', 'FactoryTech']\n",
    "\n",
    "estoque_min = 50\n",
    "\n",
    "# Quantidade de produtos de cada fábrica que estão abaixo do mínimo no estoque \n",
    "prod_abaixo = []\n",
    "\n",
    "for lista in estoque:\n",
    "    # Conta a quantidade de produtos abaixo do mínimo no estoque\n",
    "    c = 0\n",
    "    for qtde in lista:\n",
    "        if qtde < estoque_min:\n",
    "            c += 1\n",
    "    # Quantidade adicionada a lista de produtos abaixo do mínimo no estoque\n",
    "    prod_abaixo.append(c)\n",
    "\n",
    "for i, fabrica in enumerate(fabricas):\n",
    "    # Exibe as fábricas com produtos abaixo do mínimo no estoque\n",
    "    if prod_abaixo[i] > 0:\n",
    "        print(f'{fabrica} possui {prod_abaixo[i]} produto(s) abaixo do nível mínimo de estoque')\n",
    "        print('-' * 75)"
   ]
  }
 ],
 "metadata": {
  "kernelspec": {
   "display_name": ".venv",
   "language": "python",
   "name": "python3"
  },
  "language_info": {
   "codemirror_mode": {
    "name": "ipython",
    "version": 3
   },
   "file_extension": ".py",
   "mimetype": "text/x-python",
   "name": "python",
   "nbconvert_exporter": "python",
   "pygments_lexer": "ipython3",
   "version": "3.12.2"
  }
 },
 "nbformat": 4,
 "nbformat_minor": 2
}
