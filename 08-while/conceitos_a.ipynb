{
 "cells": [
  {
   "cell_type": "markdown",
   "metadata": {},
   "source": [
    "# Estrutura de Repetição `while`\n",
    "A estrutura de repetição `while` em Python é utilizada quando queremos repetir um código de forma indeterminada até uma condição se tornar verdadeira/falsa. A sintaxe básica é a seguinte:"
   ]
  },
  {
   "cell_type": "raw",
   "metadata": {},
   "source": [
    "while condicao:\n",
    "    código a ser repetido enquanto a condição for verdadeira"
   ]
  },
  {
   "cell_type": "markdown",
   "metadata": {},
   "source": [
    "## Principais elementos dessa estrutura:\n",
    "\n",
    "- **Palavra-chave** `while`: indica o início da estrutura de repetição\n",
    "\n",
    "- **Condição**: uma expressão booleana que é avaliada antes de cada execução do bloco de código\n",
    "\n",
    "- **Bloco de código**: o código indentado após a linha do `while` representa o bloco de código que será executado repetidamente enquanto a condição for verdadeira \n",
    "\n",
    "### Exemplos:"
   ]
  },
  {
   "cell_type": "code",
   "execution_count": 1,
   "metadata": {},
   "outputs": [
    {
     "name": "stdout",
     "output_type": "stream",
     "text": [
      "1\n",
      "2\n",
      "3\n",
      "4\n",
      "5\n"
     ]
    }
   ],
   "source": [
    "# Imprimir números de 1 a 5 usando while\n",
    "contador = 1\n",
    "\n",
    "while contador <= 5:\n",
    "    print(contador)\n",
    "    # Incrementa o contador para evitar um loop infinito\n",
    "    contador += 1"
   ]
  },
  {
   "cell_type": "markdown",
   "metadata": {},
   "source": [
    "Neste exemplo, o loop `while` continuará executando enquanto a variável `contador` for menor ou igual a 5. A cada iteração, o valor de `contador` é impresso e incrementado. Isso resultará na impressão dos números de 1 a 5.\n",
    "\n",
    "É importante ter cuidado ao usar o `while` para evitar loops infinitos. Certifique-se de que a condição será eventualmente falsa para que o loop possa ser encerrado. Caso contrário, o programa continuará executando indefinidamente.\n",
    "\n",
    "#### Exemplo 1: Contagem regressiva"
   ]
  },
  {
   "cell_type": "code",
   "execution_count": 2,
   "metadata": {},
   "outputs": [
    {
     "name": "stdout",
     "output_type": "stream",
     "text": [
      "5\n",
      "4\n",
      "3\n",
      "2\n",
      "1\n",
      "0\n",
      "Fim da contagem regressiva!\n"
     ]
    }
   ],
   "source": [
    "c = 5\n",
    "\n",
    "while c >= 0:\n",
    "    print(c)\n",
    "    c -= 1\n",
    "\n",
    "print('Fim da contagem regressiva!')"
   ]
  },
  {
   "cell_type": "markdown",
   "metadata": {},
   "source": [
    "#### Exemplo 2: Adivinhe o número"
   ]
  },
  {
   "cell_type": "code",
   "execution_count": 5,
   "metadata": {},
   "outputs": [
    {
     "name": "stdout",
     "output_type": "stream",
     "text": [
      "Você errou... Tente novamente. \n",
      "Você errou... Tente novamente. \n",
      "Você errou... Tente novamente. \n",
      "Você errou... Tente novamente. \n",
      "Você errou... Tente novamente. \n",
      "Você acertou! O número secreto era o 7\n"
     ]
    }
   ],
   "source": [
    "num_secreto = 7\n",
    "num = 0\n",
    "\n",
    "while num != num_secreto:\n",
    "    num = int(input('Adivinhe o número: '))\n",
    "    if num == num_secreto:\n",
    "        print(f'Você acertou! O número secreto era o {num_secreto}')\n",
    "    else:\n",
    "        print('Você errou... Tente novamente. ')"
   ]
  },
  {
   "cell_type": "markdown",
   "metadata": {},
   "source": [
    "#### Exemplo 3: Soma de números"
   ]
  },
  {
   "cell_type": "code",
   "execution_count": 6,
   "metadata": {},
   "outputs": [
    {
     "name": "stdout",
     "output_type": "stream",
     "text": [
      "A soma dos números de 1 a 10 é: 55\n"
     ]
    }
   ],
   "source": [
    "s = 0\n",
    "n = 1\n",
    "\n",
    "while n <= 10:\n",
    "    s += n\n",
    "    n += 1\n",
    "\n",
    "print(f'A soma dos números de 1 a 10 é: {s}')"
   ]
  },
  {
   "cell_type": "markdown",
   "metadata": {},
   "source": [
    "Estes são apenas alguns exemplos para ilustrar o uso do `while` em situações diversas. Lembre-se sempre de definir uma condição que eventualmente se torne falsa para evitar loops infinitos."
   ]
  }
 ],
 "metadata": {
  "kernelspec": {
   "display_name": ".venv",
   "language": "python",
   "name": "python3"
  },
  "language_info": {
   "codemirror_mode": {
    "name": "ipython",
    "version": 3
   },
   "file_extension": ".py",
   "mimetype": "text/x-python",
   "name": "python",
   "nbconvert_exporter": "python",
   "pygments_lexer": "ipython3",
   "version": "3.12.2"
  }
 },
 "nbformat": 4,
 "nbformat_minor": 2
}
