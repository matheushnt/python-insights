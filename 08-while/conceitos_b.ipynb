{
 "cells": [
  {
   "cell_type": "markdown",
   "metadata": {},
   "source": [
    "# `while True` (Loop Infinito)\n",
    "O `while True` em Python é uma construção que cria um loop infinito, já que a condição sempre é avaliada como verdadeira (`True`).\n",
    "\n",
    "É comum usar `while True` quando você deseja criar um loop que continuará executando até que uma condição específica dentro do loop seja atendida, e então você pode usar a instrução `break` para sair do loop.\n",
    "\n",
    "## Exemplos de uso do `while True`:"
   ]
  },
  {
   "cell_type": "code",
   "execution_count": 5,
   "metadata": {},
   "outputs": [
    {
     "name": "stdout",
     "output_type": "stream",
     "text": [
      "Continuando...\n",
      "Continuando...\n",
      "Continuando...\n",
      "Saindo do loop.\n"
     ]
    }
   ],
   "source": [
    "while True:\n",
    "    resposta = input(\"Você deseja continuar? (s/n): \")\n",
    "\n",
    "    if resposta.lower() == 'n':\n",
    "        print(\"Saindo do loop.\")\n",
    "        break\n",
    "    else:\n",
    "        print(\"Continuando...\")"
   ]
  },
  {
   "cell_type": "code",
   "execution_count": 2,
   "metadata": {},
   "outputs": [
    {
     "name": "stdout",
     "output_type": "stream",
     "text": [
      "Senha incorreta. Acesso negado. Tente novamente\n",
      "Senha incorreta. Acesso negado. Tente novamente\n",
      "Senha incorreta. Acesso negado. Tente novamente\n",
      "Senha correta. Acesso permitido.\n"
     ]
    }
   ],
   "source": [
    "senha = 'senha123'\n",
    "\n",
    "while True:\n",
    "    senha_usuario = str(input('Digite a senha: '))\n",
    "    if senha_usuario == senha:\n",
    "        print('Senha correta. Acesso permitido.')\n",
    "        break\n",
    "    else:\n",
    "        print('Senha incorreta. Acesso negado. Tente novamente')"
   ]
  },
  {
   "cell_type": "code",
   "execution_count": 4,
   "metadata": {},
   "outputs": [
    {
     "name": "stdout",
     "output_type": "stream",
     "text": [
      "Fruta maçã adicionada na lista!\n",
      "Fruta Cereja adicionada na lista!\n",
      "Fruta melão adicionada na lista!\n",
      "Fruta goiaba adicionada na lista!\n",
      "Lista encerrada\n",
      "Frutas adicionadas a lista: ['maçã', 'Cereja', 'melão', 'goiaba']\n"
     ]
    }
   ],
   "source": [
    "frutas = []\n",
    "\n",
    "while True:\n",
    "    fruta = str(input('Digite uma fruta: '))\n",
    "    print(f'Fruta {fruta} adicionada na lista!')\n",
    "    frutas.append(fruta)\n",
    "    \n",
    "    resp = str(input('Deseja adicionar mais frutas na lista [S/N]: '))[0].upper()\n",
    "    if resp != 'N' or resp != 'S':\n",
    "        resp = str(input('Deseja adicionar mais frutas na lista[S/N]: '))[0].upper()\n",
    "    if resp == 'N':\n",
    "        print('Lista encerrada')\n",
    "        print(f'Frutas adicionadas a lista: {frutas}')\n",
    "        break"
   ]
  },
  {
   "cell_type": "markdown",
   "metadata": {},
   "source": [
    "É importante ter cautela ao usar loops infinitos para evitar que o programa fique preso em execução contínua.\n",
    "\n",
    "Sempre forneça uma maneira de sair do loop, seja por meio de uma condição interna ou uma interrupção externa, como a interrupção manual mencionada."
   ]
  }
 ],
 "metadata": {
  "kernelspec": {
   "display_name": ".venv",
   "language": "python",
   "name": "python3"
  },
  "language_info": {
   "codemirror_mode": {
    "name": "ipython",
    "version": 3
   },
   "file_extension": ".py",
   "mimetype": "text/x-python",
   "name": "python",
   "nbconvert_exporter": "python",
   "pygments_lexer": "ipython3",
   "version": "3.12.2"
  }
 },
 "nbformat": 4,
 "nbformat_minor": 2
}
