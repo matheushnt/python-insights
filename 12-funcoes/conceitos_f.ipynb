{
 "cells": [
  {
   "cell_type": "markdown",
   "metadata": {},
   "source": [
    "# Estrutura try/except em funções\n",
    "O bloco `try/except` em Python é usado para lidar com abordagens, ou seja, situações em que o código pode falhar durante a execução. Estrutura básica:"
   ]
  },
  {
   "cell_type": "raw",
   "metadata": {},
   "source": [
    "try:\n",
    "    # Código que pode gerar exceções\n",
    "    # ...\n",
    "except Excecao1:\n",
    "    # Tratamento para Excecao1\n",
    "    # ...\n",
    "except Excecao2:\n",
    "    # Tratamento para Excecao2\n",
    "    # ...\n",
    "else:\n",
    "    # Opcional: código a ser executado se nenhum erro ocorrer\n",
    "    # ...\n",
    "finally:\n",
    "    # Opcional: código a ser executado sempre, independente de ter ocorrido exceções ou não\n",
    "    # ..."
   ]
  },
  {
   "cell_type": "markdown",
   "metadata": {},
   "source": [
    "- `try`: O bloco de código que pode gerar erro é colocado dentro do bloco `try`.\n",
    "\n",
    "- `except Excecao1`: Se ocorrer uma exceção do tipo `Excecao1`, o código dentro deste bloco será executado para lidar com essa exceção. Pode haver vários blocos `except` para lidar com diferentes tipos de abordagens.\n",
    "\n",
    "- `else` (opcional):  Este bloco é executado se nenhuma exceção ocorrer dentro do bloco `try`. É útil colocar um código que deve ser executado apenas quando nenhuma exceção foi levantada.\n",
    "\n",
    "- `finally` (opcional): Este bloco é sempre executado, independentemente de ocorrer uma exceção ou não. É útil para liberar recursos, como fechar arquivos ou conexões de banco de dados.\n",
    "\n",
    "- `raise`: Dentro do bloco except, você pode usar a palavra-chave raisepara levantar uma exceção manualmente se necessário.\n",
    "\n",
    "### Exemplos:"
   ]
  },
  {
   "cell_type": "code",
   "execution_count": 3,
   "metadata": {},
   "outputs": [
    {
     "name": "stdout",
     "output_type": "stream",
     "text": [
      "A soma entre 3 e 10 é igual a 13\n"
     ]
    }
   ],
   "source": [
    "def somar(a, b):\n",
    "    try:\n",
    "        s = a + b\n",
    "    except (TypeError, ValueError):\n",
    "        print('Não é possível efetuar a operação')\n",
    "    else:\n",
    "        print(f'A soma entre {a} e {b} é igual a {s}')\n",
    "\n",
    "a = int(input('Número 1: '))\n",
    "b = int(input('Número 2: '))\n",
    "somar(a, b)"
   ]
  },
  {
   "cell_type": "code",
   "execution_count": 9,
   "metadata": {},
   "outputs": [
    {
     "name": "stdout",
     "output_type": "stream",
     "text": [
      "A divisão entre 6 e 3 é igual a 2.0\n"
     ]
    }
   ],
   "source": [
    "def dividir(D, d):\n",
    "    try:\n",
    "        q = D / d\n",
    "    except ZeroDivisionError:\n",
    "        print('Não é possível dividir por zero')\n",
    "    except Exception as erro:\n",
    "        print(f'Ocorreu um erro inesperado. Erro: {erro.__cause__}')\n",
    "    else:\n",
    "        print(f'A divisão entre {D} e {d} é igual a {q}')\n",
    "\n",
    "\n",
    "a = int(input('Número 1: '))\n",
    "b = int(input('Número 2: '))\n",
    "dividir(a, b)"
   ]
  },
  {
   "cell_type": "code",
   "execution_count": 10,
   "metadata": {},
   "outputs": [
    {
     "name": "stdout",
     "output_type": "stream",
     "text": [
      "Erro: <class 'TypeError'>\n"
     ]
    }
   ],
   "source": [
    "def multiplicar(x, y):\n",
    "    try:\n",
    "        m = x * y\n",
    "    except Exception as erro:\n",
    "        print(f'Erro: {erro.__class__}')\n",
    "    else:\n",
    "        print(f'A multiplicação entre {x} e {y} é igual a {m}')\n",
    "\n",
    "\n",
    "multiplicar(9, {})"
   ]
  },
  {
   "cell_type": "code",
   "execution_count": 15,
   "metadata": {},
   "outputs": [
    {
     "name": "stdout",
     "output_type": "stream",
     "text": [
      "O número digitado foi 0\n",
      "Função executada\n"
     ]
    }
   ],
   "source": [
    "def ler_inteiro(msg):\n",
    "    try:\n",
    "        n = int(input(msg))\n",
    "    except (ValueError, TypeError, KeyboardInterrupt):\n",
    "        print('Não foi possível ler os dados. Digite somente números')\n",
    "    else:\n",
    "        print(f'O número digitado foi {n}')\n",
    "    finally:\n",
    "        print(f'Função executada')\n",
    "\n",
    "\n",
    "ler_inteiro('Digite um número inteiro: ')"
   ]
  },
  {
   "cell_type": "code",
   "execution_count": 25,
   "metadata": {},
   "outputs": [
    {
     "name": "stdout",
     "output_type": "stream",
     "text": [
      "O nome informado foi Matheus\n"
     ]
    }
   ],
   "source": [
    "def ler_nome(msg):\n",
    "    nome = input(msg)\n",
    "    if nome.isnumeric():\n",
    "        raise TypeError('Por favor, informe seu nome')\n",
    "    elif not nome:\n",
    "        raise KeyboardInterrupt('Usuário preferiu não informar o nome')\n",
    "    else:\n",
    "        print(f'O nome informado foi {nome}')\n",
    "\n",
    "\n",
    "ler_nome('Informe seu nome: ')"
   ]
  }
 ],
 "metadata": {
  "kernelspec": {
   "display_name": ".venv",
   "language": "python",
   "name": "python3"
  },
  "language_info": {
   "codemirror_mode": {
    "name": "ipython",
    "version": 3
   },
   "file_extension": ".py",
   "mimetype": "text/x-python",
   "name": "python",
   "nbconvert_exporter": "python",
   "pygments_lexer": "ipython3",
   "version": "3.12.2"
  }
 },
 "nbformat": 4,
 "nbformat_minor": 2
}
