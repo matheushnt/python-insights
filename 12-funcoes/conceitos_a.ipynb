{
 "cells": [
  {
   "cell_type": "markdown",
   "metadata": {},
   "source": [
    "# Função `def` Python\n",
    "## O que é uma função `def` no Python?\n",
    "Uma função `def` no Python é uma estrutura fundamental na programação dessa linguagem. Ela é utilizada para agrupar um conjunto de instruções em um bloco, permitindo que esse bloco seja executado quantas vezes forem necessárias.\n",
    "\n",
    "A palavra-chave `def` é utilizada para definir a função, seguida do nome da função e dos parâmetros entre parênteses.\n",
    "\n",
    "## Dentro do bloco da função\n",
    "Dentro do bloco da função, podemos escrever o código que queremos executar. Isso permite que possamos reutilizar esse código em diferentes partes do programa, tornando nosso código mais modular e organizado.\n",
    "\n",
    "Além disso, as funções nos permitem criar abstrações, ou seja, esconder os detalhes de implementação e apenas nos preocuparmos com o resultado que a função retorna.\n",
    "\n",
    "## As funções `def` no Python podem receber parâmetros\n",
    "As funções `def` no Python podem receber parâmetros, que são valores passados para função quando ela é chamada.\n",
    "\n",
    "Esses parâmetros podem ser utilizados dentro do bloco da função para realizar alguma operação ou retornar um valor específico.\n",
    "\n",
    "Podemos ter funções com parâmetros obrigatórios e funções com parâmetros opcionais, que possuem um valor.\n",
    "\n",
    "## Como utilizar a função def no Python?\n",
    "Para utilizar a função `def` no Python, primeiramente devemos definir a função. A Definnição da função é feita utilizando a palavra_chave `def`, seguida do nome da função e dos parâmetros entre parênteses.\n",
    "\n",
    "Em seguida, devemos escrever o bloco de código que deseja-se executar quando a função for chamada.\n",
    "\n",
    "Após definir a função, podemos chamá-la em qualquer parte do programa, passando os valores necessários para os parâmetros, caso existam. A chamada de uma função é feita utilizando o nome da função seguido dos parâemtros entre parênteses. O resultado retornado pela função pode ser armazenado em uma variável ou utilizado diretamente em alguma operação.\n",
    "\n",
    "É importante ressaltar que as funções no Python podem ter um retorno ou não. Caso a função não possua um retorno explícito, ela pode ser utilizada apenas para realizar alguma operação. Porém, caso a função retorne um valor, esse valor pode ser utilizado em qualquer parte do programa.\n",
    "\n",
    "## Exemplos práticos:"
   ]
  },
  {
   "cell_type": "code",
   "execution_count": 7,
   "metadata": {},
   "outputs": [
    {
     "name": "stdout",
     "output_type": "stream",
     "text": [
      "Olá, seja bem-vindo, Matheus\n",
      "Olá, seja bem-vindo, Renan\n"
     ]
    }
   ],
   "source": [
    "def cumprimentar(nome):\n",
    "    print(f'Olá, seja bem-vindo, {nome}')\n",
    "\n",
    "\n",
    "# Chamando a função e passando a ela um parâmetro\n",
    "cumprimentar('Matheus')\n",
    "cumprimentar('Renan')"
   ]
  },
  {
   "cell_type": "code",
   "execution_count": 2,
   "metadata": {},
   "outputs": [
    {
     "name": "stdout",
     "output_type": "stream",
     "text": [
      "Nos estamos no ano de 2024\n"
     ]
    }
   ],
   "source": [
    "def exibir_mensagem():\n",
    "    from datetime import date\n",
    "\n",
    "    ano_atual = date.today().year\n",
    "    print(f'Nos estamos no ano de {ano_atual}')\n",
    "\n",
    "\n",
    "# Chamando a função sem passar um parâmetro\n",
    "exibir_mensagem()"
   ]
  },
  {
   "cell_type": "code",
   "execution_count": 5,
   "metadata": {},
   "outputs": [
    {
     "name": "stdout",
     "output_type": "stream",
     "text": [
      "O quadrado de 10 é igual a 100\n",
      "O quadrado de 5 é igual a 25\n"
     ]
    }
   ],
   "source": [
    "def quadrado(n):\n",
    "    quadr = n ** 2\n",
    "    print(f'O quadrado de {n} é igual a {quadr}')\n",
    "\n",
    "\n",
    "# Chamando minha função passando ela valores como parâmetro\n",
    "quadrado(10)\n",
    "quadrado(5)"
   ]
  },
  {
   "cell_type": "code",
   "execution_count": 9,
   "metadata": {},
   "outputs": [
    {
     "name": "stdout",
     "output_type": "stream",
     "text": [
      "[8, 4, 20, 12, 6, 2, 16, 10]\n"
     ]
    }
   ],
   "source": [
    "def duplicar_elementos(lista):\n",
    "    for i in range(0, len(lista)):\n",
    "        lista[i] *= 2\n",
    "\n",
    "\n",
    "numeros = [4, 2, 10, 6, 3, 1, 8, 5]\n",
    "# Chamando a função passando a ela uma lista como parâmetro\n",
    "duplicar_elementos(numeros)\n",
    "print(numeros)"
   ]
  },
  {
   "cell_type": "code",
   "execution_count": 10,
   "metadata": {},
   "outputs": [
    {
     "name": "stdout",
     "output_type": "stream",
     "text": [
      "2 é um número par\n",
      "9 é um número ímpar\n",
      "6 é um número par\n",
      "13 é um número ímpar\n"
     ]
    }
   ],
   "source": [
    "def verificar_paridade(n):\n",
    "    if n % 2 == 0:\n",
    "        print(f'{n} é um número par')\n",
    "    else:\n",
    "        print(f'{n} é um número ímpar')\n",
    "\n",
    "\n",
    "# Chamando minha função passando a ela valores como parâmetro\n",
    "verificar_paridade(2)\n",
    "verificar_paridade(9)\n",
    "verificar_paridade(6)\n",
    "verificar_paridade(13)"
   ]
  },
  {
   "cell_type": "markdown",
   "metadata": {},
   "source": [
    "Estes são exemplos de funções que executam tarefas específicas, mas não retornam valores explícitamente. Em cada caso, o valor padrão `None` é retornado implícitamente se não houver uma instrução `return`."
   ]
  },
  {
   "cell_type": "markdown",
   "metadata": {},
   "source": [
    "## Dicas e boas práticas para usar a função `def` no Python\n",
    "### 1. Escreva funções com nomes descritivos:\n",
    "Utilize nomes que indiquem claramente a função daquela função. Isso torna o código mais legível e facilita a compreensão do que o código faz.\n",
    "\n",
    "### 2. Utilize comentários:\n",
    "Adicione comentários no código para explicar o funcionamento da função e o propósito de cada linha de código. Isso facilita a manutenção e entendimento do código por outros programadores.\n",
    "\n",
    "### 3. Evite funções muito longas:\n",
    "Se uma função está ficando muito extensa, pode ser um sinal de que ela está fazendo coisas demais. Tente quebrar a função em funções menores e mais específicas, o que torna o código mais modular e fácil de entender.\n",
    "\n",
    "### 4. Passe parâmetros de forma adequada:\n",
    "Certifique-se de que os parâmetros passados para a função estão corretos e correspondem ao que a função espera receber. Isso evita erros e comportamentos inesperados."
   ]
  }
 ],
 "metadata": {
  "kernelspec": {
   "display_name": ".venv",
   "language": "python",
   "name": "python3"
  },
  "language_info": {
   "codemirror_mode": {
    "name": "ipython",
    "version": 3
   },
   "file_extension": ".py",
   "mimetype": "text/x-python",
   "name": "python",
   "nbconvert_exporter": "python",
   "pygments_lexer": "ipython3",
   "version": "3.12.2"
  }
 },
 "nbformat": 4,
 "nbformat_minor": 2
}
