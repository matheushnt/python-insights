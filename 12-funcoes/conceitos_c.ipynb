{
 "cells": [
  {
   "cell_type": "markdown",
   "metadata": {},
   "source": [
    "# Argumentos e Parâmetros\n",
    "No Python, os argumentos referem-se aos valores que você passa para uma função quando você a chama, enquanto os parâmetros são variáveis que você define na declaração da função para receber esses valores.\n",
    "\n",
    "### Exemplo simples:"
   ]
  },
  {
   "cell_type": "code",
   "execution_count": 4,
   "metadata": {},
   "outputs": [
    {
     "name": "stdout",
     "output_type": "stream",
     "text": [
      "Olá, Matheus\n"
     ]
    }
   ],
   "source": [
    "def cumprimentar(nome):\n",
    "    print(f'Olá, {nome}')\n",
    "\n",
    "\n",
    "cumprimentar('Matheus')"
   ]
  },
  {
   "cell_type": "markdown",
   "metadata": {},
   "source": [
    "No exemplo acima, `nome` é um parâmetro da função `cumprimentar()`, e `'Matheus'` é o argumento passado para essa função.\n",
    "\n",
    "## Parâmetros Opcionais\n",
    "Em Python, você pode definir parâmetros específicos, que têm um valor padrão e podem ser omitidos ao chamar a função."
   ]
  },
  {
   "cell_type": "code",
   "execution_count": 6,
   "metadata": {},
   "outputs": [
    {
     "name": "stdout",
     "output_type": "stream",
     "text": [
      "Bem-vindo, Carlos\n",
      "Olá, Isabel\n"
     ]
    }
   ],
   "source": [
    "def cumprimentar(nome, saudacao='Olá'):\n",
    "    print(f'{saudacao}, {nome}')\n",
    "\n",
    "\n",
    "cumprimentar('Carlos', 'Bem-vindo')\n",
    "cumprimentar('Isabel')"
   ]
  },
  {
   "cell_type": "markdown",
   "metadata": {},
   "source": [
    "No exemplo acima, `saudacao` é um parâmetro opcional, com um valor padrão \"Olá\".\n",
    "\n",
    "## Parâmetros Tipados e Retornos Tipados\n",
    "Python é uma linguagem dinamicamente tipada, o que significa que as variáveis não têm tipo fixo.\n",
    "\n",
    "No entanto, a partir do Python 3.5, você pode adicionar dicas de tipos usando PEP 484."
   ]
  },
  {
   "cell_type": "code",
   "execution_count": 8,
   "metadata": {},
   "outputs": [
    {
     "name": "stdout",
     "output_type": "stream",
     "text": [
      "95\n",
      "210\n"
     ]
    }
   ],
   "source": [
    "def somar(x: int, y: int) -> int:\n",
    "    return x + y\n",
    "\n",
    "\n",
    "# Dica de tipos dos parâmetros com valores opcionais\n",
    "def multiplicar(x: float=0, y: float=0) -> float:\n",
    "    return x * y\n",
    "\n",
    "\n",
    "print(somar(45, 50))\n",
    "print((multiplicar(10, 21)))"
   ]
  },
  {
   "cell_type": "markdown",
   "metadata": {},
   "source": [
    "Nestes exemplos, `x` e `y` são configurações tipadas e a função retorna um valor tipado.\n",
    "\n",
    "## `*args` e `**kwargs`\n",
    "`*args` e `**kwargs` são usados quando você não sabe quantos argumentos serão passados para uma função.\n",
    "\n",
    "- `*args` é usado para passar um número variável de argumentos posicionais.\n",
    "\n",
    "- `**kwargs` é usado para passar um número variável de argumentos de palavra-chave.\n",
    "\n",
    "#### Exemplo de `*args`"
   ]
  },
  {
   "cell_type": "code",
   "execution_count": 9,
   "metadata": {},
   "outputs": [
    {
     "name": "stdout",
     "output_type": "stream",
     "text": [
      "56\n",
      "5.5\n"
     ]
    }
   ],
   "source": [
    "def somar(*nums):\n",
    "    s = 0\n",
    "    for n in nums:\n",
    "        s += n\n",
    "    return s\n",
    "\n",
    "\n",
    "def calcular_media(*nums):\n",
    "    qtde = len(nums)\n",
    "    soma = sum(nums)\n",
    "    media = soma / qtde\n",
    "    return media\n",
    "\n",
    "\n",
    "print(somar(1, 6, 2, 9, 0, 4, 3, 7, 8, 1, 5, 10))\n",
    "print(calcular_media(5, 3, 8, 1, 9, 7, 2, 4, 6, 10))"
   ]
  },
  {
   "cell_type": "markdown",
   "metadata": {},
   "source": [
    "Neste exemplo, `*args` permite passar um número variável de argumentos posicionais para a função `somar()` e `calcular_media()`.\n",
    "\n",
    "#### Exemplo de `**kwargs`"
   ]
  },
  {
   "cell_type": "code",
   "execution_count": 13,
   "metadata": {},
   "outputs": [
    {
     "name": "stdout",
     "output_type": "stream",
     "text": [
      "nome: Matheus\n",
      "idade: 19\n",
      "cidade: Fortaleza\n",
      "profissao: Jovem Aprendiz\n",
      "----------\n",
      "nome: Carlos\n",
      "idade: 25\n",
      "cidade: Salvador\n",
      "profissao: Programador\n",
      "----------\n",
      "nome: Ana\n",
      "idade: 29\n",
      "cidade: Belém\n",
      "profissao: Engenheira Civil\n"
     ]
    }
   ],
   "source": [
    "def imprimir_keyword(**kwargs):\n",
    "    for k, v in kwargs.items():\n",
    "        print(f'{k}: {v}')\n",
    "\n",
    "\n",
    "imprimir_keyword(nome='Matheus', idade=19,\n",
    "                 cidade='Fortaleza', profissao='Jovem Aprendiz')\n",
    "print('-' * 10)\n",
    "imprimir_keyword(nome=\"Carlos\", idade=25,\n",
    "                 cidade='Salvador', profissao=\"Programador\")\n",
    "print('-' * 10)\n",
    "imprimir_keyword(nome='Ana', idade=29,\n",
    "                 cidade='Belém', profissao='Engenheira Civil')"
   ]
  },
  {
   "cell_type": "markdown",
   "metadata": {},
   "source": [
    "Esses são os conceitos básicos de **Argumentos** e **Parâmetros** em Python, juntamente com exemplos de **parâmetros alternativos**, **parâmetros tipados**, **retornos tipados**, `*args` e `**kwargs`. "
   ]
  }
 ],
 "metadata": {
  "kernelspec": {
   "display_name": ".venv",
   "language": "python",
   "name": "python3"
  },
  "language_info": {
   "codemirror_mode": {
    "name": "ipython",
    "version": 3
   },
   "file_extension": ".py",
   "mimetype": "text/x-python",
   "name": "python",
   "nbconvert_exporter": "python",
   "pygments_lexer": "ipython3",
   "version": "3.12.2"
  }
 },
 "nbformat": 4,
 "nbformat_minor": 2
}
