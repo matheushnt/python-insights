{
 "cells": [
  {
   "cell_type": "markdown",
   "metadata": {},
   "source": [
    "# Docstrings em Python\n",
    "As docstrings em Python são strings de documentação incorporadas diretamente no código-fonte para documentar funções, métodos, classes ou módulos. Elas são uma parte essencial da documentação do código Python e são utilizadas para descrever o propósito, a funcionalidade e os parâmetros de uma função, método, etc.\n",
    "\n",
    "Aqui estão algumas das melhores práticas para criar e usar docstrings em Python:\n",
    "\n",
    "### Formato das Docstrings:\n",
    "\n",
    "- As docstrings devem ser colocadas no início de uma função, método, classe ou módulo, logo após a definição da função, método, etc.\n",
    "\n",
    "- O formato mais comum é usar três aspas simples (''') ou três aspas duplas (\"\"\") para delimitar a docstring. O uso de três aspas permite que a docstring ocupe múltiplas linhas.\n",
    "\n",
    "### Conteúdo das Docstrings:\n",
    "\n",
    "- Descreva sucintamente o propósito e a funcionalidade da função, método, classe ou módulo.\n",
    "\n",
    "- Inclua detalhes sobre os parâmetros de entrada, seus tipos e seus significados.\n",
    "\n",
    "- Documente o que a função retorna (se aplicável) e seu tipo de retorno.\n",
    "\n",
    "- Forneça exemplos de uso, se apropriado.\n",
    "\n",
    "- Se a função tem efeitos colaterais ou limitações, documente-os também.\n",
    "\n",
    "- Se a função lança exceções, documente quais exceções podem ser lançadas.\n",
    "\n",
    "### Convenções de Estilo:\n",
    "\n",
    "- Use frases curtas e concisas.\n",
    "\n",
    "- Use a voz ativa e escreva no tempo presente.\n",
    "\n",
    "- Use espaçamento consistente e formatação adequada para garantir a legibilidade.\n",
    "\n",
    "### Ferramentas de Documentação:\n",
    "- Utilize ferramentas de documentação automatizadas, como o [Sphinx](https://www.sphinx-doc.org/), para gerar documentação a partir das docstrings do seu código.\n",
    "\n",
    "- O Sphinx é especialmente útil para projetos grandes, pois permite gerar documentação no formato HTML, PDF, e outros, com navegação fácil e suporte para índices e pesquisa.\n",
    "\n",
    "#### Exemplos de Docstrings:\n",
    "- Estilo de Docstring do Google:\n"
   ]
  },
  {
   "cell_type": "code",
   "execution_count": null,
   "metadata": {},
   "outputs": [],
   "source": [
    "def minha_funcao(parametro):\n",
    "    \"\"\"\n",
    "    Descrição concisa do que a função faz.\n",
    "\n",
    "    Args:\n",
    "        parametro (tipo): Descrição do parâmetro.\n",
    "\n",
    "    Returns:\n",
    "        tipo_retorno: Descrição do valor retornado.\n",
    "\n",
    "    Raises:\n",
    "        TipoDeErro: Descrição do erro levantado, se aplicável.\n",
    "    \"\"\"\n",
    "    # Corpo da função"
   ]
  },
  {
   "cell_type": "markdown",
   "metadata": {},
   "source": [
    "-  Estilo de Docstring PEP 257:"
   ]
  },
  {
   "cell_type": "code",
   "execution_count": null,
   "metadata": {},
   "outputs": [],
   "source": [
    "def minha_funcao(parametro):\n",
    "    \"\"\"\n",
    "    Descrição concisa do que a função faz.\n",
    "\n",
    "    :param parametro: Descrição do parâmetro.\n",
    "    :type parametro: tipo\n",
    "\n",
    "    :return: Descrição do valor retornado.\n",
    "    :rtype: tipo_retorno\n",
    "\n",
    "    :raises TipoDeErro: Descrição do erro levantado, se aplicável.\n",
    "    \"\"\"\n",
    "    # Corpo da função"
   ]
  },
  {
   "cell_type": "markdown",
   "metadata": {},
   "source": [
    "#### Aplicação"
   ]
  },
  {
   "cell_type": "code",
   "execution_count": 3,
   "metadata": {},
   "outputs": [
    {
     "name": "stdout",
     "output_type": "stream",
     "text": [
      "40.0\n"
     ]
    }
   ],
   "source": [
    "def calcular_media(numeros):\n",
    "    \"\"\"\n",
    "    Calcula a édia de uma lista de números.\n",
    "\n",
    "    Args:\n",
    "        numeros (list): Uma lista de números.\n",
    "    \n",
    "    Returns:\n",
    "        float: Amédia dos números na lista.\n",
    "\n",
    "    Raises:\n",
    "        ValueError: Se a lista estiver vazia.\n",
    "    \"\"\"\n",
    "    if not numeros:\n",
    "        raise ValueError(\"A lista de números está vazia.\")\n",
    "    return sum(numeros) / len(numeros)\n",
    "    \n",
    "\n",
    "print(calcular_media([10, 20, 30, 40, 100]))"
   ]
  },
  {
   "cell_type": "markdown",
   "metadata": {},
   "source": [
    "### Conclusão\n",
    "A prática de escrita de docstrings mais comumente utilizada pela comunidade Python é o estilo de docstring do Google ou o estilo PEP 257. Ambos são amplamente aceitos e têm suas próprias convenções de formatação.\n",
    "\n",
    "O estilo de docstring do Google é mais detalhado e fornece mais informações sobre os parâmetros, valores de retorno e exceções, enquanto o estilo PEP 257 é um pouco mais sucinto, mas igualmente eficaz. Ambos os estilos têm suas vantagens e são aceitos em projetos Python.\n",
    "\n",
    "No entanto, é importante notar que o mais importante não é necessariamente qual estilo você escolhe, mas sim ser consistente dentro de um projeto ou comunidade de código. Isso permite que os desenvolvedores compreendam rapidamente a estrutura e o formato das docstrings em um código Python.\n",
    "\n",
    "Em muitos projetos, a escolha entre esses estilos pode ser determinada pela preferência pessoal do desenvolvedor ou pelas diretrizes de estilo do projeto. O importante é manter a consistência para garantir que a documentação seja clara e fácil de entender para todos os colaboradores do projeto."
   ]
  }
 ],
 "metadata": {
  "kernelspec": {
   "display_name": ".venv",
   "language": "python",
   "name": "python3"
  },
  "language_info": {
   "codemirror_mode": {
    "name": "ipython",
    "version": 3
   },
   "file_extension": ".py",
   "mimetype": "text/x-python",
   "name": "python",
   "nbconvert_exporter": "python",
   "pygments_lexer": "ipython3",
   "version": "3.12.2"
  }
 },
 "nbformat": 4,
 "nbformat_minor": 2
}
