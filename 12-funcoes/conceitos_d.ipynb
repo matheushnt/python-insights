{
 "cells": [
  {
   "cell_type": "markdown",
   "metadata": {},
   "source": [
    "# Observações importante sobre a palavra-chave `return`\n",
    "### 1. Finalização da execução da função\n",
    "Quando uma instrução `return` é encontrada em uma função, ela imediatamente encerra a execução da função, retornando o valor especificado após o `return`. Nenhum código após uma instrução `return` dentro da função será executado.\n",
    "\n",
    "#### Exemplo:\n"
   ]
  },
  {
   "cell_type": "code",
   "execution_count": 1,
   "metadata": {},
   "outputs": [
    {
     "name": "stdout",
     "output_type": "stream",
     "text": [
      "Esta mensagem será exibida\n",
      "Resultado da função: 100\n"
     ]
    }
   ],
   "source": [
    "def exemplo_return():\n",
    "    print('Esta mensagem será exibida')\n",
    "    return 100\n",
    "    print('Esta mensagem NÃo será exibida')\n",
    "\n",
    "\n",
    "resultado = exemplo_return()\n",
    "print(f'Resultado da função: {resultado}')"
   ]
  },
  {
   "cell_type": "markdown",
   "metadata": {},
   "source": [
    "### 2. Retorno de valores\n",
    "O `return` é usado para retornar um valor específico da função. Esse valor pode ser de qualquer tipo de dados em Python, incluindo números, strings, listas, tuplas, dicionários, objetos personalizados, etc.\n",
    "\n",
    "#### Exemplo:"
   ]
  },
  {
   "cell_type": "code",
   "execution_count": 2,
   "metadata": {},
   "outputs": [
    {
     "name": "stdout",
     "output_type": "stream",
     "text": [
      "Olá, Mundo!\n"
     ]
    }
   ],
   "source": [
    "def retornar_string():\n",
    "    return 'Olá, Mundo!'\n",
    "\n",
    "\n",
    "mensagem = retornar_string()\n",
    "print(mensagem)"
   ]
  },
  {
   "cell_type": "markdown",
   "metadata": {},
   "source": [
    "### 3. Funções sem retorno explícito\n",
    "Se uma função não contiver uma instrução `return` ou se o `return` não especificar um valor, a função retornará `None` implicitamente ao finalizar sua execução.\n",
    "\n",
    "#### Exemplo:"
   ]
  },
  {
   "cell_type": "code",
   "execution_count": 3,
   "metadata": {},
   "outputs": [
    {
     "name": "stdout",
     "output_type": "stream",
     "text": [
      "Esta função não tem retorno explícito\n",
      "Resultado da função: None\n"
     ]
    }
   ],
   "source": [
    "def funcao_sem_return():\n",
    "    print('Esta função não tem retorno explícito')\n",
    "\n",
    "\n",
    "resultado = funcao_sem_return()\n",
    "print(f'Resultado da função: {resultado}')"
   ]
  },
  {
   "cell_type": "markdown",
   "metadata": {},
   "source": [
    "### 4. Múltiplos valores de retorno\n",
    "Em Python, uma função pode retornar múltiplos valores, separados por vírgulas após a palavra-chave `return`. Isso cria uma tupla com os valores retornados. Por exemplo, `return a, b` retorna uma tupla contendo os valores de `a` e `b`.\n",
    "\n",
    "#### Exemplo:"
   ]
  },
  {
   "cell_type": "code",
   "execution_count": 4,
   "metadata": {},
   "outputs": [
    {
     "name": "stdout",
     "output_type": "stream",
     "text": [
      "Valor 1: 10\n",
      "Valor 2: 20\n"
     ]
    }
   ],
   "source": [
    "def retornar_multiplos_valores():\n",
    "    return 10, 20\n",
    "\n",
    "\n",
    "n1, n2 = retornar_multiplos_valores()\n",
    "print(f'Valor 1: {n1}')\n",
    "print(f'Valor 2: {n2}')"
   ]
  },
  {
   "cell_type": "markdown",
   "metadata": {},
   "source": [
    "### 5. Atribuição de retorno\n",
    "Os valores retornados por uma função podem ser atribuídos a variáveis na chamada da função. Por exemplo, `x = minha_funcao()` atribui o valor retornado pela função à variável `x`.\n",
    "\n",
    "#### Exemplo:"
   ]
  },
  {
   "cell_type": "code",
   "execution_count": 6,
   "metadata": {},
   "outputs": [
    {
     "name": "stdout",
     "output_type": "stream",
     "text": [
      "Resultado: Valor retornado\n"
     ]
    }
   ],
   "source": [
    "def minha_funcao():\n",
    "    return 'Valor retornado'\n",
    "\n",
    "\n",
    "x = minha_funcao()\n",
    "print(f'Resultado: {x}')"
   ]
  },
  {
   "cell_type": "markdown",
   "metadata": {},
   "source": [
    "### 6. Encadeamento de retorno\n",
    "O resultado de uma chamada de função pode ser diretamente retornado de outra função.\n",
    "\n",
    "#### Exemplo:"
   ]
  },
  {
   "cell_type": "code",
   "execution_count": 8,
   "metadata": {},
   "outputs": [
    {
     "name": "stdout",
     "output_type": "stream",
     "text": [
      "Resultado: Resultado da função A\n"
     ]
    }
   ],
   "source": [
    "def funcao_a():\n",
    "    return 'Resultado da função A'\n",
    "\n",
    "\n",
    "def funcao_b():\n",
    "    return funcao_a()\n",
    "\n",
    "\n",
    "resultado = funcao_b()\n",
    "print(f'Resultado: {resultado}')"
   ]
  },
  {
   "cell_type": "markdown",
   "metadata": {},
   "source": [
    "### 7. Uso de `return` para interromper iterações\n",
    "O uso de `return` dentro de um loop pode ser útil para interromper a execução do loop assim que uma determinada condição for atendida.\n",
    "\n",
    "#### Exemplo:"
   ]
  },
  {
   "cell_type": "code",
   "execution_count": 9,
   "metadata": {},
   "outputs": [
    {
     "name": "stdout",
     "output_type": "stream",
     "text": [
      "Número 5 encontrado!\n"
     ]
    }
   ],
   "source": [
    "def encontrar_numero(lista):\n",
    "    for num in lista:\n",
    "        if num == 5:\n",
    "            return \"Número 5 encontrado!\"\n",
    "    return \"Número 5 não encontrado!\"\n",
    "\n",
    "\n",
    "numeros = [1, 2, 3, 4, 5, 6, 7, 8, 9, 10]\n",
    "resultado = encontrar_numero(numeros)\n",
    "print(resultado)"
   ]
  },
  {
   "cell_type": "markdown",
   "metadata": {},
   "source": [
    "### 8. Expressões condicionais\n",
    "O `return` pode ser usado em conjunto com expressões condicionais para retornar diferentes valores dependendo de certas condições. Por exemplo, `return valor if condição else outro_valor`.\n",
    "\n",
    "#### Exemplo:"
   ]
  },
  {
   "cell_type": "code",
   "execution_count": 11,
   "metadata": {},
   "outputs": [
    {
     "name": "stdout",
     "output_type": "stream",
     "text": [
      "Resultado: Iguais\n",
      "resultado: Diferentes\n"
     ]
    }
   ],
   "source": [
    "def comparar_valores(x, y):\n",
    "    return 'Iguais' if x == y else 'Diferentes'\n",
    "\n",
    "\n",
    "resultado1 = comparar_valores(20, 20)\n",
    "print(f'Resultado: {resultado}')\n",
    "\n",
    "resultado2 = comparar_valores(10, -10)\n",
    "print(f'resultado: {resultado2}')"
   ]
  },
  {
   "cell_type": "markdown",
   "metadata": {},
   "source": [
    "Esses exemplos demonstram diferentes usos e comportamentos do `return` em funções Python."
   ]
  }
 ],
 "metadata": {
  "kernelspec": {
   "display_name": ".venv",
   "language": "python",
   "name": "python3"
  },
  "language_info": {
   "codemirror_mode": {
    "name": "ipython",
    "version": 3
   },
   "file_extension": ".py",
   "mimetype": "text/x-python",
   "name": "python",
   "nbconvert_exporter": "python",
   "pygments_lexer": "ipython3",
   "version": "3.12.2"
  }
 },
 "nbformat": 4,
 "nbformat_minor": 2
}
