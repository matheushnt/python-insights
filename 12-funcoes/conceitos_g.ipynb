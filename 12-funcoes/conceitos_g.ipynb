{
 "cells": [
  {
   "cell_type": "markdown",
   "metadata": {},
   "source": [
    "# Ordem dos Argumentos\n",
    "\n",
    "### Estrutura:\n",
    "\n",
    "- Sempre os positional arguments vêm antes e depois os keywords arguments.\n",
    "- Sempre os argumentos individuais vêm antes e depois os \"múltiplos\""
   ]
  },
  {
   "cell_type": "raw",
   "metadata": {},
   "source": [
    "def minha_funcao(arg1, arg2, *args, k=kwarg1, k2=kwarg2, **kwargs):\n",
    "    ..."
   ]
  },
  {
   "cell_type": "code",
   "execution_count": 7,
   "metadata": {},
   "outputs": [
    {
     "name": "stdout",
     "output_type": "stream",
     "text": [
      "10\n",
      "(60, 40, 20)\n",
      "200\n",
      "{'a': 3, 'b': 6, 'c': 9}\n"
     ]
    }
   ],
   "source": [
    "def apresentar_valores(x, *args, y=0, **kwargs):\n",
    "    print(x)\n",
    "    print(args)\n",
    "    print(y)\n",
    "    print(kwargs)\n",
    "\n",
    "\n",
    "apresentar_valores(10, 60, 40, 20, y=200, a=3, b=6, c=9)"
   ]
  }
 ],
 "metadata": {
  "kernelspec": {
   "display_name": "Python 3",
   "language": "python",
   "name": "python3"
  },
  "language_info": {
   "codemirror_mode": {
    "name": "ipython",
    "version": 3
   },
   "file_extension": ".py",
   "mimetype": "text/x-python",
   "name": "python",
   "nbconvert_exporter": "python",
   "pygments_lexer": "ipython3",
   "version": "3.12.2"
  }
 },
 "nbformat": 4,
 "nbformat_minor": 4
}
