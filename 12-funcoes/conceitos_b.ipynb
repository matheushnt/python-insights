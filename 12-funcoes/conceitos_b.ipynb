{
 "cells": [
  {
   "cell_type": "markdown",
   "metadata": {},
   "source": [
    "# Escopo de Variáveis em Python\n",
    "O escopo de uma variável em Python refere-se à região do programa onde a variável é acessível. Existem dois tipos principais de escopos: **escopo local** e **escopo global**.\n",
    "\n",
    "## Escopo Local:\n",
    "- Variáveis declaradas dentro de uma função têm escopo local.\n",
    "\n",
    "- Elas só são acessíveisdentro dessa função.\n",
    "\n",
    "### Exemplo:"
   ]
  },
  {
   "cell_type": "code",
   "execution_count": 1,
   "metadata": {},
   "outputs": [
    {
     "name": "stdout",
     "output_type": "stream",
     "text": [
      "10\n"
     ]
    }
   ],
   "source": [
    "def exemplo_escopo_local():\n",
    "    # Variável local\n",
    "    x = 10\n",
    "    print(x)\n",
    "\n",
    "\n",
    "exemplo_escopo_local()"
   ]
  },
  {
   "cell_type": "markdown",
   "metadata": {},
   "source": [
    "## Escopo Global:\n",
    "- Variáveis declaradas fora de qualquer função ou bloco de código têm escopo global.\n",
    "\n",
    "- Elas são acessíveis de qualquer lugar no programa.\n",
    "\n",
    "### Exemplo:"
   ]
  },
  {
   "cell_type": "code",
   "execution_count": 2,
   "metadata": {},
   "outputs": [
    {
     "name": "stdout",
     "output_type": "stream",
     "text": [
      "5\n"
     ]
    }
   ],
   "source": [
    "# Variável global\n",
    "y = 5\n",
    "\n",
    "def exemplo_escopo_global():\n",
    "    # É possível acessar a variável global dentro da função\n",
    "    print(y)\n",
    "\n",
    "\n",
    "exemplo_escopo_global()"
   ]
  },
  {
   "cell_type": "markdown",
   "metadata": {},
   "source": [
    "## Modificando variáveis globais dentro de Funções:\n",
    "Se você deseja modificar uma variável global dentro de uma função, você deve usar a palavra-chave `global`.\n",
    "\n",
    "### Exemplo:"
   ]
  },
  {
   "cell_type": "code",
   "execution_count": 3,
   "metadata": {},
   "outputs": [
    {
     "name": "stdout",
     "output_type": "stream",
     "text": [
      "25\n"
     ]
    }
   ],
   "source": [
    "# Variável global\n",
    "z = 20\n",
    "\n",
    "def modificar_global():\n",
    "    global z\n",
    "    z += 5\n",
    "\n",
    "\n",
    "modificar_global()\n",
    "print(z)"
   ]
  },
  {
   "cell_type": "markdown",
   "metadata": {},
   "source": [
    "# Funções com Retorno em Python\n",
    "Em Python, as funções podem retornar valores usando a palavra-chave `return`. O valor retornado pode ser utilizado em outras partes do programa.\n",
    "\n",
    "## Função Simples com Retorno:\n",
    "- A função retorna um valor usando a instrução `return`.\n",
    "\n",
    "### Exemplo:"
   ]
  },
  {
   "cell_type": "code",
   "execution_count": 4,
   "metadata": {},
   "outputs": [
    {
     "name": "stdout",
     "output_type": "stream",
     "text": [
      "8\n"
     ]
    }
   ],
   "source": [
    "def somar(a, b):\n",
    "    resultado = a + b\n",
    "    return resultado\n",
    "\n",
    "\n",
    "result_soma = somar(5, 3)\n",
    "print(result_soma)"
   ]
  },
  {
   "cell_type": "markdown",
   "metadata": {},
   "source": [
    "## Função com Múltiplos Retornos:\n",
    "- Uma função pode múltiplos valores como uma tupla.\n",
    "\n",
    "### Exemplo:"
   ]
  },
  {
   "cell_type": "code",
   "execution_count": 6,
   "metadata": {},
   "outputs": [
    {
     "name": "stdout",
     "output_type": "stream",
     "text": [
      "Quociente: 5, Resto: 1\n"
     ]
    }
   ],
   "source": [
    "def dividir_e_resto(dividendo, divisor):\n",
    "    quociente = dividendo // divisor\n",
    "    resto = dividendo % divisor\n",
    "    # Retorna uma tupla para a chamada da função\n",
    "    return quociente, resto\n",
    "\n",
    "\n",
    "q, r = dividir_e_resto(21, 4)\n",
    "print(f'Quociente: {q}, Resto: {r}')"
   ]
  },
  {
   "cell_type": "markdown",
   "metadata": {},
   "source": [
    "## Retorno de Dados Condicionais:\n",
    "- O valor retornado pode depender de uma condição\n",
    "\n",
    "### Exemplo:"
   ]
  },
  {
   "cell_type": "code",
   "execution_count": 7,
   "metadata": {},
   "outputs": [
    {
     "name": "stdout",
     "output_type": "stream",
     "text": [
      "O número é ímpar\n"
     ]
    }
   ],
   "source": [
    "def verificar_paridade(n):\n",
    "    if n % 2 == 0:\n",
    "        return 'par'\n",
    "    else:\n",
    "        return 'ímpar'\n",
    "    \n",
    "resultado = verificar_paridade(5)\n",
    "print(f'O número é {resultado}')"
   ]
  },
  {
   "cell_type": "markdown",
   "metadata": {},
   "source": [
    "# Relação entre Escopo de Variáveis e Funções com Retorno\n",
    "A relação entre escopo de variáveis e funções com retorno está na forma como as variáveis podem ser utilizadas fora do contexto onde foram definidas.\n",
    "\n",
    "Quando uma função retorna um valor, esse valor pode ser atribuído a uma variável fora da função, permitindo que a informação seja utilizada em um escopo mais amplo.\n",
    "\n",
    "### Exemplo:"
   ]
  },
  {
   "cell_type": "code",
   "execution_count": 8,
   "metadata": {},
   "outputs": [
    {
     "name": "stdout",
     "output_type": "stream",
     "text": [
      "24\n"
     ]
    }
   ],
   "source": [
    "def multiplicar(a, b):\n",
    "    resultado = a * b\n",
    "    return resultado\n",
    "\n",
    "\n",
    "# Chamada da função e atribuição do resultado a uma variável global\n",
    "total = multiplicar(4, 6)\n",
    "\n",
    "# Imprime o total\n",
    "print(total)\n",
    "\n",
    "# Causa um erro, pois o resultado é local à função\n",
    "print(resultado)"
   ]
  },
  {
   "cell_type": "markdown",
   "metadata": {},
   "source": [
    "## Conclusão\n",
    "Entender esses conceitos é fundamental para o desenvolvimento em Python, pois ajuda a criar código mais modular e compreensível. O escopo adequado das variáveis e o uso eficiente de funções com retorno contribuem para a manutenção e legibilidade do código."
   ]
  }
 ],
 "metadata": {
  "kernelspec": {
   "display_name": ".venv",
   "language": "python",
   "name": "python3"
  },
  "language_info": {
   "codemirror_mode": {
    "name": "ipython",
    "version": 3
   },
   "file_extension": ".py",
   "mimetype": "text/x-python",
   "name": "python",
   "nbconvert_exporter": "python",
   "pygments_lexer": "ipython3",
   "version": "3.12.2"
  }
 },
 "nbformat": 4,
 "nbformat_minor": 2
}
