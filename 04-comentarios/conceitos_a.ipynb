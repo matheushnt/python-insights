{
 "cells": [
  {
   "cell_type": "markdown",
   "metadata": {},
   "source": [
    "# Comentários na Programação\n",
    "Os comentários são notas de texto adicionadas ao programa para fornecer informações explicativas sobre o código-fonte. Eles são usados em uma linguagem de programação para documentar o programa e lembrar os programadore das coisas complicadas que eles fizerm com o código e também ajudam a geração posterior para compreensão e manutenção do código.\n",
    "\n",
    "# Comentários em Python\n",
    "Para fazer um comentário em Python, basta utilizar o símbolo hashtag (#) ou aspas triplas \"\"\" ... \"\"\".<br>\n",
    "## Ex.:"
   ]
  },
  {
   "cell_type": "code",
   "execution_count": 2,
   "metadata": {},
   "outputs": [
    {
     "name": "stdout",
     "output_type": "stream",
     "text": [
      "Matheus\n"
     ]
    }
   ],
   "source": [
    "# Criando uma variável\n",
    "nome = 'Matheus'\n",
    "\n",
    "# Exibindo o valor da variável\n",
    "print(nome)"
   ]
  },
  {
   "cell_type": "code",
   "execution_count": null,
   "metadata": {},
   "outputs": [],
   "source": [
    "\"\"\" Meuz nome é Matheus \"\"\""
   ]
  },
  {
   "cell_type": "markdown",
   "metadata": {},
   "source": [
    "## Comentários eficientes no Python\n",
    "Comentar de forma eficiente no Python é uma prática importante para tornar o código compreesível e colaborativo. Dicas para comentar de forma eficiente:<br>\n",
    "\n",
    "### 1. Comentários Concisos e Signifcativos:\n",
    "* Mantenha os comentários curtos e relevantes.\n",
    "\n",
    "* Explique o porquê, não o que (a menos que não seja óbvio)\n",
    "\n",
    "* Evite comentários redundantes que apenas repetem o código"
   ]
  },
  {
   "cell_type": "code",
   "execution_count": null,
   "metadata": {},
   "outputs": [],
   "source": [
    "x = 0\n",
    "\n",
    "# Errado:\n",
    "x = x + 1    # Incrementa x em 1\n",
    "\n",
    "# Certo:\n",
    "x += 1    # Incrementa x para avançar para próxima iteração\n"
   ]
  },
  {
   "cell_type": "markdown",
   "metadata": {},
   "source": [
    "### 2. Documentação de Funções e Módulos:\n",
    "* Utilize docstrings para documentar funções e módulos\n",
    "\n",
    "* Descreva o propósito, parâmetros e valores de retorno"
   ]
  },
  {
   "cell_type": "code",
   "execution_count": null,
   "metadata": {},
   "outputs": [],
   "source": [
    "def somar(a: int = 0, b: int = 0) -> int:\n",
    "    \"\"\"\n",
    "    Calcula a soma de dois números.\n",
    "    :param a: Primeiro número.\n",
    "    :type a: Tipo inteiro.\n",
    "    :param b: Segundo número.\n",
    "    :type b: Tipo inteiro.\n",
    "    :return: Soma de a e b.\n",
    "    :rtype: Tipo inteiro.\n",
    "    \n",
    "    Exemplo:\n",
    "    >>> somar(1, 2)\n",
    "    3\n",
    "    \"\"\"\n",
    "    s = a + b\n",
    "    return s"
   ]
  },
  {
   "cell_type": "markdown",
   "metadata": {},
   "source": [
    "### 3. Evite Comentários Óbvios:\n",
    "* Não comente coisas que são facilmente compreensíveis a partir do código"
   ]
  },
  {
   "cell_type": "code",
   "execution_count": null,
   "metadata": {},
   "outputs": [],
   "source": [
    "total = 10\n",
    "\n",
    "# Errado:\n",
    "total = total + 1    # Incrementa o total\n",
    "\n",
    "# Certo:\n",
    "total += 1"
   ]
  },
  {
   "cell_type": "markdown",
   "metadata": {},
   "source": [
    "### 4. Comentários em Blocos:\n",
    "* Use comentários para dividir o código em seções lógicas"
   ]
  },
  {
   "cell_type": "code",
   "execution_count": null,
   "metadata": {},
   "outputs": [],
   "source": [
    "# Inicialização\n",
    "x = 3\n",
    "y = 7\n",
    "\n",
    "# Processamento\n",
    "resultado = x + y\n",
    "\n",
    "# Saída\n",
    "print(resultado)"
   ]
  },
  {
   "cell_type": "markdown",
   "metadata": {},
   "source": [
    "### 5. Evite Comentários em Excesso:\n",
    "* Código autoexplicativo é preferível a muitos comentários"
   ]
  },
  {
   "cell_type": "markdown",
   "metadata": {},
   "source": [
    "### 6. Use Nomeação Descritiva:\n",
    "* Dê nomes significativos às variáveis e funções para reduzir a necessidade de comentários"
   ]
  },
  {
   "cell_type": "code",
   "execution_count": null,
   "metadata": {},
   "outputs": [],
   "source": [
    "# Errado:\n",
    "# Função para calcular a área de um retângulo\n",
    "def ret(a, b):\n",
    "    return a * b\n",
    "\n",
    "# Certo:\n",
    "def area_retangulo(compr, larg):\n",
    "    return compr * larg"
   ]
  },
  {
   "cell_type": "markdown",
   "metadata": {},
   "source": [
    "## Conclusão\n",
    "Lembre-se de que a chave está em equilibrar a clareza do código com a quantidade apropriada de comentários. Comentários excessivos podem tornar o código confuso, enquanto comentários insuficientes podem dificultar a compreensão do código por outros desenvolvedores (ou por você mesmo no futuro)"
   ]
  }
 ],
 "metadata": {
  "kernelspec": {
   "display_name": ".venv",
   "language": "python",
   "name": "python3"
  },
  "language_info": {
   "codemirror_mode": {
    "name": "ipython",
    "version": 3
   },
   "file_extension": ".py",
   "mimetype": "text/x-python",
   "name": "python",
   "nbconvert_exporter": "python",
   "pygments_lexer": "ipython3",
   "version": "3.12.1"
  }
 },
 "nbformat": 4,
 "nbformat_minor": 2
}
