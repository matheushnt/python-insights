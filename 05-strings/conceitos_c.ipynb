{
 "cells": [
  {
   "cell_type": "markdown",
   "metadata": {},
   "source": [
    "# Operações com Strings\n",
    "* `str()`:<br>\n",
    "    Transforma uma informação em string<br>\n",
    "\n",
    "* operador `in`<br>\n",
    "    Verifica se um elemento está contido em um conjunto<br>\n",
    "\n",
    "* operador `+`<br>\n",
    "    Concatena strings<br>\n",
    "\n",
    "* `format()` e f-strings<br>\n",
    "    Permite fazer interpolação<br>"
   ]
  },
  {
   "cell_type": "code",
   "execution_count": 1,
   "metadata": {},
   "outputs": [],
   "source": [
    "faturamento = 1000\n",
    "custo = 500\n",
    "lucro = faturamento - custo"
   ]
  },
  {
   "cell_type": "markdown",
   "metadata": {},
   "source": [
    "## Uso do `str()` e do concatenar com +"
   ]
  },
  {
   "cell_type": "code",
   "execution_count": 3,
   "metadata": {},
   "outputs": [
    {
     "name": "stdout",
     "output_type": "stream",
     "text": [
      "O faturamento da loja foi de: R$1000\n"
     ]
    }
   ],
   "source": [
    "print('O faturamento da loja foi de: R$' + str(faturamento) )"
   ]
  },
  {
   "cell_type": "markdown",
   "metadata": {},
   "source": [
    "## Uso do `format()` e das f-trings"
   ]
  },
  {
   "cell_type": "code",
   "execution_count": 6,
   "metadata": {},
   "outputs": [
    {
     "name": "stdout",
     "output_type": "stream",
     "text": [
      "O faturamento da loja neste mês foi de: R$1000\n",
      "O lucro foi de: R$500\n"
     ]
    }
   ],
   "source": [
    "print('O faturamento da loja neste mês foi de: R${}'.format(faturamento))\n",
    "\n",
    "print(f'O lucro foi de: R${lucro}')"
   ]
  },
  {
   "cell_type": "markdown",
   "metadata": {},
   "source": [
    "## Uso do operador `in`"
   ]
  },
  {
   "cell_type": "code",
   "execution_count": 9,
   "metadata": {},
   "outputs": [
    {
     "name": "stdout",
     "output_type": "stream",
     "text": [
      "True\n",
      "False\n"
     ]
    }
   ],
   "source": [
    "print('@' in 'matheus@gmail.com')\n",
    "print('@gmail.com' in 'joaquim@hotmail.com')"
   ]
  }
 ],
 "metadata": {
  "kernelspec": {
   "display_name": ".venv",
   "language": "python",
   "name": "python3"
  },
  "language_info": {
   "codemirror_mode": {
    "name": "ipython",
    "version": 3
   },
   "file_extension": ".py",
   "mimetype": "text/x-python",
   "name": "python",
   "nbconvert_exporter": "python",
   "pygments_lexer": "ipython3",
   "version": "3.12.1"
  }
 },
 "nbformat": 4,
 "nbformat_minor": 2
}
