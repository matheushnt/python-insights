{
 "cells": [
  {
   "cell_type": "markdown",
   "metadata": {},
   "source": [
    "# Importância das Strings para o Python\n",
    "Saber trabalhar com Strings no Python é essencial, pois na maioria das vezes as informações que recebemos não vem de forma padronizada, portanto, é necessário saber manipular Strings para organizar as informações e limpar as bases de dados."
   ]
  },
  {
   "cell_type": "raw",
   "metadata": {},
   "source": [
    ">>> STRINGS\n",
    "O Python comprende Strings como uma Lista\n",
    "\n",
    ">> EXEMPLO:\n",
    "0  1  2  3  4  5  6  7  8  9  10  11  12  13  14  15  16\n",
    "m  a  t  h  e  u  s  @  g  m   a   i   l   .   c   o   m"
   ]
  },
  {
   "cell_type": "markdown",
   "metadata": {},
   "source": [
    "## Obter um item de uma String\n",
    "Cada caractere possue um índice que indica sua posição na lista<br>\n",
    "\n",
    "-> texto[índice]\n",
    "\n",
    "## Obter o tamanho de um texto\n",
    "-> len(texto)"
   ]
  },
  {
   "cell_type": "code",
   "execution_count": 2,
   "metadata": {},
   "outputs": [
    {
     "name": "stdout",
     "output_type": "stream",
     "text": [
      "@\n",
      "15\n"
     ]
    }
   ],
   "source": [
    "email = 'matheus@gmail.com'\n",
    "# Obtendo o caractere \"@\"\n",
    "print(email[7])\n",
    "\n",
    "nome = 'Matheus Henrique'\n",
    "# Obtendo o tamanho do nome (desconsiderando o espaço entre os nomes)\n",
    "print(len(nome) - 1)"
   ]
  }
 ],
 "metadata": {
  "kernelspec": {
   "display_name": "Python 3",
   "language": "python",
   "name": "python3"
  },
  "language_info": {
   "codemirror_mode": {
    "name": "ipython",
    "version": 3
   },
   "file_extension": ".py",
   "mimetype": "text/x-python",
   "name": "python",
   "nbconvert_exporter": "python",
   "pygments_lexer": "ipython3",
   "version": "3.12.1"
  }
 },
 "nbformat": 4,
 "nbformat_minor": 4
}
