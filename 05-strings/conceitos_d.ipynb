{
 "cells": [
  {
   "cell_type": "markdown",
   "metadata": {},
   "source": [
    "# Métodos de Strings no Python\n",
    "dominar os métodos de strings em Python é uma habilidade essencial para qualquer programador, pois permite a manipulação eficaz de texto, desempenhando um papel crítico em diversas áreas, desde análise de texto até desenvolvimento web.\n",
    "\n",
    "Conhecer essas ferramentas não apenas melhora a eficiência e a legibilidade do código, mas também abre portas para a criatividade, possibilitando a criação de soluções inovadoras e a resolução de desafios complexos.\n",
    "\n",
    "Portanto, investir tempo no aprendizado e aprimoramento desses métodos é fundamental para se tornar um programador mais competente e versátil."
   ]
  },
  {
   "cell_type": "markdown",
   "metadata": {},
   "source": [
    "## 1. `len()`\n",
    "\n",
    "Conta o número total de caracteres em uma string"
   ]
  },
  {
   "cell_type": "code",
   "execution_count": 1,
   "metadata": {},
   "outputs": [
    {
     "name": "stdout",
     "output_type": "stream",
     "text": [
      "14\n"
     ]
    }
   ],
   "source": [
    "# Sintaxe:\n",
    "email = 'math@gmail.com'\n",
    "print(len(email))"
   ]
  },
  {
   "cell_type": "markdown",
   "metadata": {},
   "source": [
    "## 2. `capitalize()`\n",
    "Converte o primeiro caractere em maiúsculo e os demais em minúsculos"
   ]
  },
  {
   "cell_type": "code",
   "execution_count": 2,
   "metadata": {},
   "outputs": [
    {
     "name": "stdout",
     "output_type": "stream",
     "text": [
      "Paralelepípedo\n"
     ]
    }
   ],
   "source": [
    "# Sintaxe:\n",
    "palavra = 'paralelepípedo'\n",
    "print(palavra.capitalize())"
   ]
  },
  {
   "cell_type": "markdown",
   "metadata": {},
   "source": [
    "## 3. `upper()`\n",
    "Retorna uma nova string com todos os caracteres em maiúsculo"
   ]
  },
  {
   "cell_type": "code",
   "execution_count": 3,
   "metadata": {},
   "outputs": [
    {
     "name": "stdout",
     "output_type": "stream",
     "text": [
      "BANANA\n"
     ]
    }
   ],
   "source": [
    "# Sintaxe:\n",
    "palavra = 'banana'\n",
    "print(palavra.upper())"
   ]
  },
  {
   "cell_type": "markdown",
   "metadata": {},
   "source": [
    "## 4. `lower()`\n",
    "Retorna uma nova string com todos os caracteres em minúsculo"
   ]
  },
  {
   "cell_type": "code",
   "execution_count": 4,
   "metadata": {},
   "outputs": [
    {
     "name": "stdout",
     "output_type": "stream",
     "text": [
      "macaxeira\n"
     ]
    }
   ],
   "source": [
    "# Sintaxe:\n",
    "palavra = 'MACAXEIRA'\n",
    "print(palavra.lower())"
   ]
  },
  {
   "cell_type": "markdown",
   "metadata": {},
   "source": [
    "## 5. `title()`\n",
    "Retorna todas as primeiras palavras de uma string em maiúsculo"
   ]
  },
  {
   "cell_type": "code",
   "execution_count": 5,
   "metadata": {},
   "outputs": [
    {
     "name": "stdout",
     "output_type": "stream",
     "text": [
      "Bom Dia, Matheus\n"
     ]
    }
   ],
   "source": [
    "# Sintaxe:\n",
    "frase = 'bom dia, matheus'\n",
    "print(frase.title())"
   ]
  },
  {
   "cell_type": "markdown",
   "metadata": {},
   "source": [
    "## 6. `isalpha()`\n",
    "Retorna verdadeiro se a string possuir somente letras, caso contrário retorna falso"
   ]
  },
  {
   "cell_type": "code",
   "execution_count": 6,
   "metadata": {},
   "outputs": [
    {
     "name": "stdout",
     "output_type": "stream",
     "text": [
      "True\n"
     ]
    }
   ],
   "source": [
    "# Sintaxe:\n",
    "palavra = 'laranja'\n",
    "print(palavra.isalpha())"
   ]
  },
  {
   "cell_type": "markdown",
   "metadata": {},
   "source": [
    "## 7. `isnumeric()`\n",
    "Retorna verdadeiro se a string possuir somente números, caso contrário retorna falso"
   ]
  },
  {
   "cell_type": "code",
   "execution_count": 21,
   "metadata": {},
   "outputs": [
    {
     "name": "stdout",
     "output_type": "stream",
     "text": [
      "False\n",
      "False\n"
     ]
    }
   ],
   "source": [
    "# Sintaxe\n",
    "numero = '123456789'\n",
    "print(numero.isnumeric())"
   ]
  },
  {
   "cell_type": "markdown",
   "metadata": {},
   "source": [
    "## 8. `isalnum()`\n",
    "Retorna verdadeiro se a string possuir letras e/ou números, caso contrario retorna falso"
   ]
  },
  {
   "cell_type": "code",
   "execution_count": 15,
   "metadata": {},
   "outputs": [
    {
     "name": "stdout",
     "output_type": "stream",
     "text": [
      "True\n"
     ]
    }
   ],
   "source": [
    "# Sintaxe:\n",
    "senha = 'NoobMaster69'\n",
    "print(senha.isalnum())"
   ]
  },
  {
   "cell_type": "markdown",
   "metadata": {},
   "source": [
    "## 9. `isdigit()`\n",
    "Retorna verdadeiro se a string não for vazia, ou seja, composta de dígitos"
   ]
  },
  {
   "cell_type": "code",
   "execution_count": 28,
   "metadata": {},
   "outputs": [
    {
     "name": "stdout",
     "output_type": "stream",
     "text": [
      "True\n",
      "False\n"
     ]
    }
   ],
   "source": [
    "# Sintaxe:\n",
    "senha = '0847'\n",
    "print(senha.isdigit())\n",
    "\n",
    "fruta = 'melancia'\n",
    "print(fruta.isdigit())"
   ]
  },
  {
   "cell_type": "markdown",
   "metadata": {},
   "source": [
    "## 10. `count()`\n",
    "Conta quantas vezes uma string específica aparece na string"
   ]
  },
  {
   "cell_type": "code",
   "execution_count": 30,
   "metadata": {},
   "outputs": [
    {
     "name": "stdout",
     "output_type": "stream",
     "text": [
      "3\n"
     ]
    }
   ],
   "source": [
    "# Sintaxe:\n",
    "palavra = 'paralelepípedo'\n",
    "print(palavra.count('e'))"
   ]
  },
  {
   "cell_type": "markdown",
   "metadata": {},
   "source": [
    "## 11. `find()`\n",
    "Retorna a posição da primeira ocorrência de uma substring"
   ]
  },
  {
   "cell_type": "code",
   "execution_count": 31,
   "metadata": {},
   "outputs": [
    {
     "name": "stdout",
     "output_type": "stream",
     "text": [
      "1\n"
     ]
    }
   ],
   "source": [
    "# Sintaxe:\n",
    "vitamina = 'bananada'\n",
    "print(vitamina.find('a'))"
   ]
  },
  {
   "cell_type": "markdown",
   "metadata": {},
   "source": [
    "## 12. `index()`\n",
    "Funciona como o método find(), mas gera um ValueError se não encontrar"
   ]
  },
  {
   "cell_type": "code",
   "execution_count": 34,
   "metadata": {},
   "outputs": [
    {
     "name": "stdout",
     "output_type": "stream",
     "text": [
      "2\n"
     ]
    }
   ],
   "source": [
    "# Sintaxe:\n",
    "nome = 'Augusto dos Anjos'\n",
    "print(nome.index('g'))"
   ]
  },
  {
   "cell_type": "markdown",
   "metadata": {},
   "source": [
    "## 13. `strip()`\n",
    "Remove espaços em branco de ambos os lados da string"
   ]
  },
  {
   "cell_type": "code",
   "execution_count": 35,
   "metadata": {},
   "outputs": [
    {
     "name": "stdout",
     "output_type": "stream",
     "text": [
      "avião\n"
     ]
    }
   ],
   "source": [
    "# Sintaxe:\n",
    "palavra = '   avião   '\n",
    "print(palavra.strip())"
   ]
  },
  {
   "cell_type": "markdown",
   "metadata": {},
   "source": [
    "## 14. `split()`\n",
    "Divide a string com base em um separador ou delimitador específico"
   ]
  },
  {
   "cell_type": "code",
   "execution_count": 36,
   "metadata": {},
   "outputs": [
    {
     "name": "stdout",
     "output_type": "stream",
     "text": [
      "['Bem-vindo', 'ao', 'Restaurante', 'Flor', 'do', 'Jardim']\n"
     ]
    }
   ],
   "source": [
    "# Sintaxe:\n",
    "frase = 'Bem-vindo ao Restaurante Flor do Jardim'\n",
    "print(frase.split())"
   ]
  },
  {
   "cell_type": "markdown",
   "metadata": {},
   "source": [
    "## 15. `join()`"
   ]
  },
  {
   "cell_type": "code",
   "execution_count": 38,
   "metadata": {},
   "outputs": [
    {
     "name": "stdout",
     "output_type": "stream",
     "text": [
      "Caio Fernandes Costa\n"
     ]
    }
   ],
   "source": [
    "# Sintaxe:\n",
    "nomes = ['Caio', 'Fernandes', 'Costa']\n",
    "print(' '.join(nomes))"
   ]
  },
  {
   "cell_type": "markdown",
   "metadata": {},
   "source": [
    "## 16. `replace()`\n",
    "Substitui uma parte específica de uma string por outra"
   ]
  },
  {
   "cell_type": "code",
   "execution_count": 39,
   "metadata": {},
   "outputs": [
    {
     "name": "stdout",
     "output_type": "stream",
     "text": [
      "Júnior Ferreira\n"
     ]
    }
   ],
   "source": [
    "# Sintaxe:\n",
    "nome = 'Júnior Silva'\n",
    "print(nome.replace('Silva', 'Ferreira'))"
   ]
  },
  {
   "cell_type": "markdown",
   "metadata": {},
   "source": [
    "## 17. `startswith()`\n",
    "Verifica se a string começa com um prefixo específico"
   ]
  },
  {
   "cell_type": "code",
   "execution_count": 40,
   "metadata": {},
   "outputs": [
    {
     "name": "stdout",
     "output_type": "stream",
     "text": [
      "True\n"
     ]
    }
   ],
   "source": [
    "# Sintaxe:\n",
    "bebida = 'coca-cola'\n",
    "print(bebida.startswith('coca'))"
   ]
  },
  {
   "cell_type": "markdown",
   "metadata": {},
   "source": [
    "## 18. `endswith()`\n",
    "Verifica se a string termina com um sufixo específico"
   ]
  },
  {
   "cell_type": "code",
   "execution_count": 41,
   "metadata": {},
   "outputs": [
    {
     "name": "stdout",
     "output_type": "stream",
     "text": [
      "True\n"
     ]
    }
   ],
   "source": [
    "# Sintaxe:\n",
    "gmail = 'math@gmail.com'\n",
    "print(gmail.endswith('gmail.com'))"
   ]
  },
  {
   "cell_type": "markdown",
   "metadata": {},
   "source": [
    "## 19. `casefold()`\n",
    "Converte para minúsculas"
   ]
  },
  {
   "cell_type": "code",
   "execution_count": 42,
   "metadata": {},
   "outputs": [
    {
     "name": "stdout",
     "output_type": "stream",
     "text": [
      "terminal\n"
     ]
    }
   ],
   "source": [
    "# Sintaxe:\n",
    "palavra = 'tERMINAL'\n",
    "print(palavra.casefold())"
   ]
  },
  {
   "cell_type": "markdown",
   "metadata": {},
   "source": [
    "## 20. `center()`\n",
    "Adicionar caractere no início e no final para totalizar uma quantidade"
   ]
  },
  {
   "cell_type": "code",
   "execution_count": 43,
   "metadata": {},
   "outputs": [
    {
     "name": "stdout",
     "output_type": "stream",
     "text": [
      "-----------Python é Incrível------------\n"
     ]
    }
   ],
   "source": [
    "# Sintaxe:\n",
    "frase = 'Python é Incrível'\n",
    "print(frase.center(40, '-'))"
   ]
  }
 ],
 "metadata": {
  "kernelspec": {
   "display_name": ".venv",
   "language": "python",
   "name": "python3"
  },
  "language_info": {
   "codemirror_mode": {
    "name": "ipython",
    "version": 3
   },
   "file_extension": ".py",
   "mimetype": "text/x-python",
   "name": "python",
   "nbconvert_exporter": "python",
   "pygments_lexer": "ipython3",
   "version": "3.12.1"
  }
 },
 "nbformat": 4,
 "nbformat_minor": 2
}
