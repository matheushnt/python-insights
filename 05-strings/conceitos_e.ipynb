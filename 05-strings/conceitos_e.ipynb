{
 "cells": [
  {
   "cell_type": "markdown",
   "metadata": {},
   "source": [
    "# Formatações\n",
    "\n",
    "### formatações personalizadas em prints e textos."
   ]
  },
  {
   "cell_type": "raw",
   "metadata": {},
   "source": [
    ":<\t\tAlinha o texto à esquerda (se tiver espaço na tela para isso)\n",
    ":>\t\tAlinha o texto à direita (se tiver espaço na tela para isso)\n",
    ":^\t\tAlinha o texto ao centro (se tiver espaço na tela para isso)\n",
    ":+\t\tColoca o sinal sempre na frente do número (independente se é positivo ou negativo)\n",
    ":,\t\tColoca a vírgula como separador de milhar\n",
    ":_\t\tColoca o _ como separador de milhar\n",
    ":e\t\tFormato Científico\n",
    ":f\t\tNúmero com quantidade fixa de casas decimais\n",
    ":x\t\tFormato HEX minúscula (para cores)\n",
    ":X\t\tFormato HEX maiúscula (para cores)\n",
    ":%\t\tFormato Percentual"
   ]
  },
  {
   "cell_type": "markdown",
   "metadata": {},
   "source": [
    "- Exemplo de Alinhamento"
   ]
  },
  {
   "cell_type": "code",
   "execution_count": 5,
   "metadata": {},
   "outputs": [
    {
     "name": "stdout",
     "output_type": "stream",
     "text": [
      "Nome           Média\n",
      "Matheus          8.9\n"
     ]
    }
   ],
   "source": [
    "aluno = 'Matheus'\n",
    "media = 8.9\n",
    "print(f'{'Nome':<10}{'Média':>10}')\n",
    "print(f'{aluno:<10}{media:>10}')"
   ]
  },
  {
   "cell_type": "markdown",
   "metadata": {},
   "source": [
    "- Exemplo de Edição de Sinal"
   ]
  },
  {
   "cell_type": "code",
   "execution_count": 6,
   "metadata": {},
   "outputs": [
    {
     "name": "stdout",
     "output_type": "stream",
     "text": [
      "O Faturamento foi de +270. O Custo foi de +500. Portanto, o lucro foi de -230\n"
     ]
    }
   ],
   "source": [
    "custo = 500\n",
    "faturamento = 270\n",
    "lucro = faturamento - custo\n",
    "print(f'O Faturamento foi de {faturamento:+}. O Custo foi de {custo:+}. Portanto, o lucro foi de {lucro:+}')"
   ]
  },
  {
   "cell_type": "markdown",
   "metadata": {},
   "source": [
    "- Exemplo de Separador de Milhar"
   ]
  },
  {
   "cell_type": "code",
   "execution_count": 8,
   "metadata": {},
   "outputs": [
    {
     "name": "stdout",
     "output_type": "stream",
     "text": [
      "Faturamento foi 2,700 e lucro foi 1,200\n"
     ]
    }
   ],
   "source": [
    "custo = 1500\n",
    "faturamento = 2700\n",
    "lucro = faturamento - custo\n",
    "print(f'Faturamento foi {faturamento:,} e lucro foi {lucro:,}')"
   ]
  },
  {
   "cell_type": "markdown",
   "metadata": {},
   "source": [
    "- Formato com casas Decimais fixas"
   ]
  },
  {
   "cell_type": "code",
   "execution_count": 12,
   "metadata": {},
   "outputs": [
    {
     "name": "stdout",
     "output_type": "stream",
     "text": [
      "Faturamento foi R$270.00 e lucro foi R$-230.00\n"
     ]
    }
   ],
   "source": [
    "custo = 500\n",
    "faturamento = 270\n",
    "lucro = faturamento - custo\n",
    "print(f'Faturamento foi R${faturamento:.2f} e lucro foi R${lucro:.2f}')"
   ]
  },
  {
   "cell_type": "markdown",
   "metadata": {},
   "source": [
    "- Formato Percentual"
   ]
  },
  {
   "cell_type": "code",
   "execution_count": 15,
   "metadata": {},
   "outputs": [
    {
     "name": "stdout",
     "output_type": "stream",
     "text": [
      "Margem de lucro foi de 61.54%\n"
     ]
    }
   ],
   "source": [
    "custo = 500\n",
    "faturamento = 1300\n",
    "lucro = faturamento - custo\n",
    "margem = lucro / faturamento\n",
    "print(f'Margem de lucro foi de {margem:.2%}')"
   ]
  },
  {
   "cell_type": "markdown",
   "metadata": {},
   "source": [
    "- Formato Moeda -> Combinação de Formatos"
   ]
  },
  {
   "cell_type": "code",
   "execution_count": 14,
   "metadata": {},
   "outputs": [
    {
     "name": "stdout",
     "output_type": "stream",
     "text": [
      "Faturamento foi R$27,000.00 e lucro foi R$22,000.00\n",
      "R$22.000,00\n"
     ]
    }
   ],
   "source": [
    "custo = 5000\n",
    "faturamento = 27000\n",
    "lucro = faturamento - custo\n",
    "print(f'Faturamento foi R${faturamento:,.2f} e lucro foi R${lucro:,.2f}')\n",
    "\n",
    "#transformando no formato brasileiro\n",
    "lucro_texto = f'R${lucro:_.2f}'\n",
    "print(lucro_texto.replace('.', ',').replace('_', '.'))"
   ]
  },
  {
   "cell_type": "markdown",
   "metadata": {},
   "source": [
    "- Função round() para arredondar números, caso seja necessário"
   ]
  },
  {
   "cell_type": "code",
   "execution_count": 13,
   "metadata": {},
   "outputs": [
    {
     "name": "stdout",
     "output_type": "stream",
     "text": [
      "Imposto sobre o preço é de 15.8\n"
     ]
    }
   ],
   "source": [
    "imposto = 0.15758\n",
    "preco = 100\n",
    "valor_imposto = round(preco * imposto, 1)\n",
    "print(f'Imposto sobre o preço é de R${valor_imposto}')"
   ]
  }
 ],
 "metadata": {
  "kernelspec": {
   "display_name": "Python 3",
   "language": "python",
   "name": "python3"
  },
  "language_info": {
   "codemirror_mode": {
    "name": "ipython",
    "version": 3
   },
   "file_extension": ".py",
   "mimetype": "text/x-python",
   "name": "python",
   "nbconvert_exporter": "python",
   "pygments_lexer": "ipython3",
   "version": "3.12.1"
  }
 },
 "nbformat": 4,
 "nbformat_minor": 4
}
