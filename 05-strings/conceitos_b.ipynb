{
 "cells": [
  {
   "cell_type": "markdown",
   "metadata": {},
   "source": [
    "# Índices Negativos e Fatiamentos de Strings"
   ]
  },
  {
   "cell_type": "raw",
   "metadata": {},
   "source": [
    "String: math@gmail.com\n",
    "\n",
    "-14 -13 -12 -11 -10 -9 -8 -7 -6 -5 -4 -3 -2 -1\n",
    "  m   a   t   h   @  g  m  a  i  l  .  c  o  m\n",
    "  0   1   2   3   4  5  6  7  8  9 10 11 12 13"
   ]
  },
  {
   "cell_type": "markdown",
   "metadata": {},
   "source": [
    "## Índice Negativo\n",
    "Para pegar um texto de trás para frente: texto[índice] -> onde índice é negativo:"
   ]
  },
  {
   "cell_type": "code",
   "execution_count": 23,
   "metadata": {},
   "outputs": [
    {
     "name": "stdout",
     "output_type": "stream",
     "text": [
      "!\n",
      ",\n",
      "!suehtaM ,aid moB\n"
     ]
    }
   ],
   "source": [
    "frase = 'Bom dia, Matheus!'\n",
    "\n",
    "# Último caractere\n",
    "print(frase[-1])\n",
    "print(frase[-10])\n",
    "\n",
    "# Lista de caracteres inversa\n",
    "print(frase[::-1])"
   ]
  },
  {
   "cell_type": "markdown",
   "metadata": {},
   "source": [
    "## Fatiamento de Strings\n",
    "Para pegar o pedaço de um texto use : (dois pontos). texto[:indice] ou texto[indice:] ou ainda texto[indice:indice]"
   ]
  },
  {
   "cell_type": "code",
   "execution_count": 20,
   "metadata": {},
   "outputs": [
    {
     "name": "stdout",
     "output_type": "stream",
     "text": [
      "Math\n",
      "Henrique\n",
      "theus\n",
      "MtesHniu\n",
      "tuHru\n"
     ]
    }
   ],
   "source": [
    "nome = 'Matheus Henrique'\n",
    "\n",
    "print(nome[0:4])\n",
    "print(nome[8:])\n",
    "print(nome[2:7])\n",
    "print(nome[::2])\n",
    "print(nome[2:16:3])"
   ]
  },
  {
   "cell_type": "markdown",
   "metadata": {},
   "source": [
    "Exercícios para Fixação:\n",
    "Basta completar os prints de forma correta"
   ]
  },
  {
   "cell_type": "code",
   "execution_count": 22,
   "metadata": {},
   "outputs": [
    {
     "name": "stdout",
     "output_type": "stream",
     "text": [
      "Tamanho do e-mail: 14\n",
      "Primeiro Caractere: m\n",
      "Último Caractere: m\n",
      "Servidor do email: gmail.\n"
     ]
    }
   ],
   "source": [
    "email = 'math@gmail.com'\n",
    "\n",
    "tam = len(email)\n",
    "primeiro = email[0]\n",
    "ultimo = email[-1]\n",
    "servidor = email[5:11]\n",
    "print(f'Tamanho do e-mail: {tam}')\n",
    "print(f'Primeiro Caractere: {primeiro}')\n",
    "print(f'Último Caractere: {ultimo}')\n",
    "print(f'Servidor do email: {servidor}')"
   ]
  }
 ],
 "metadata": {
  "kernelspec": {
   "display_name": "Python 3",
   "language": "python",
   "name": "python3"
  },
  "language_info": {
   "codemirror_mode": {
    "name": "ipython",
    "version": 3
   },
   "file_extension": ".py",
   "mimetype": "text/x-python",
   "name": "python",
   "nbconvert_exporter": "python",
   "pygments_lexer": "ipython3",
   "version": "3.8.3"
  }
 },
 "nbformat": 4,
 "nbformat_minor": 4
}
