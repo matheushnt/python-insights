{
 "cells": [
  {
   "cell_type": "markdown",
   "metadata": {},
   "source": [
    "# Módulos em Python\n",
    "Um módulo em Python é um arquivo que contém código Python reutilizável. Pode conter definições de funções, classes, variáveis e até mesmo código executável. Os módulos são uma forma de organizar o código em arquivos separados para facilitar a manutenção e a reutilização.\n",
    "\n",
    "## Criando um Módulo:\n",
    "**Crie um arquivo Python**: Comece criando um arquivo Python com as funções ou classes que deseja incluir no módulo. Por exemplo, um arquivo chamado `math_operations.py` com algumas operações matemáticas.\n",
    "\n",
    "### Usando o Módulo: \n",
    "Agora é possível usar `math_operations.py` em qualquer lugar do projeto. Para isso, deve-se criar um arquivo Python no mesmo diretório do `math_operations.py`.\n",
    "\n",
    "#### Tipos de Importação:\n",
    "Existem diferentes maneiras de importar módulos em Python:\n",
    "\n",
    "##### 1. Importação Simples:\n"
   ]
  },
  {
   "cell_type": "code",
   "execution_count": null,
   "metadata": {},
   "outputs": [],
   "source": [
    "import operations"
   ]
  },
  {
   "cell_type": "markdown",
   "metadata": {},
   "source": [
    "##### 2. Importação com Renomeação:"
   ]
  },
  {
   "cell_type": "code",
   "execution_count": null,
   "metadata": {},
   "outputs": [],
   "source": [
    "import operations as math"
   ]
  },
  {
   "cell_type": "markdown",
   "metadata": {},
   "source": [
    "##### 3. Importar Funções Específicas:"
   ]
  },
  {
   "cell_type": "code",
   "execution_count": null,
   "metadata": {},
   "outputs": [],
   "source": [
    "from operations import somar, sub"
   ]
  },
  {
   "cell_type": "markdown",
   "metadata": {},
   "source": [
    "##### 4. Importar Todas as Funções (Evite se possível, pois pode poluir o namespace):"
   ]
  },
  {
   "cell_type": "code",
   "execution_count": null,
   "metadata": {},
   "outputs": [],
   "source": [
    "from operations import *"
   ]
  },
  {
   "cell_type": "markdown",
   "metadata": {},
   "source": [
    "# Pacotes em Python:\n",
    "Um pacote é um diretório que contém um arquivo especial `__init__`.py e possivelmente outros módulos Python e subpacotes. O `__init__`.py pode ser vazio ou pode conter código de inicialização para o pacote. Os pacotes são usados para organizar e hierarquizar módulos relacionados.\n",
    "\n",
    "## Exemplo de Pacote:\n",
    "Suponha que temos a seguinte estrutura de diretórios:"
   ]
  },
  {
   "cell_type": "raw",
   "metadata": {},
   "source": [
    "meu_pacote/\n",
    "    __init__.py\n",
    "    math_operations.py\n",
    "    string_operations.py"
   ]
  },
  {
   "cell_type": "markdown",
   "metadata": {},
   "source": [
    "O arquivo `__init__.py` indica que meu_pacote é um pacote Python. Dentro dele, temos dois módulos `math_operations.py` e `string_operations.py`.\n",
    "\n",
    "### Importando um Pacote e Módulo:"
   ]
  },
  {
   "cell_type": "code",
   "execution_count": 3,
   "metadata": {},
   "outputs": [
    {
     "name": "stdout",
     "output_type": "stream",
     "text": [
      "8\n",
      "olleh\n"
     ]
    }
   ],
   "source": [
    "from meu_pacote import math_operations, string_operations\n",
    "\n",
    "print(math_operations.somar(5, 3))\n",
    "print(string_operations.string_reversa(\"hello\"))"
   ]
  }
 ],
 "metadata": {
  "kernelspec": {
   "display_name": ".venv",
   "language": "python",
   "name": "python3"
  },
  "language_info": {
   "codemirror_mode": {
    "name": "ipython",
    "version": 3
   },
   "file_extension": ".py",
   "mimetype": "text/x-python",
   "name": "python",
   "nbconvert_exporter": "python",
   "pygments_lexer": "ipython3",
   "version": "3.12.2"
  }
 },
 "nbformat": 4,
 "nbformat_minor": 2
}
