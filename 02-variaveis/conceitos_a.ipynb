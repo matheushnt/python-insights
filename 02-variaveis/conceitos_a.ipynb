{
 "cells": [
  {
   "cell_type": "markdown",
   "metadata": {},
   "source": [
    "# Variáveis\n",
    "Variável é um espaço na memória do computador que armazena valores. Basicamente, é um nome que faz referência a um valor contido na memória\n",
    "\n",
    "Uma variável é um objeto, afinal, tudo no Python é um objeto\n",
    "\n",
    "Variáveis podem ser qualquer coisa, por exemplo: números, textos, listas, arquivos, planilhas e etc...\n",
    "\n",
    "## Tipos de variáveis\n",
    "O Python possui alguns tipos de variáveis, os tipos mais básicos são:\n",
    "* `int` - número inteiro;\n",
    "\n",
    "* `string` - cadeia de caracteres (texto);\n",
    "\n",
    "* `float` - número decimal (ponto flutuante);\n",
    "\n",
    "* `bool` ou `boolean` - valores booleanos (True ou False);\n",
    "\n",
    "Há outros tipos também, como:\n",
    "* `tuple` - lista de valores imutáveis;\n",
    "\n",
    "* `list` - lista com valores mutáveis;\n",
    "\n",
    "* `dict` - coleção de dados em que se guarda uma chave e um valor correspondente;\n",
    "\n",
    "* `complex` - números complexos.\n",
    "\n",
    "\n",
    "OBS1: Python é uma linguagem de tipagem forte, mas as variáveis não são declaradas de forma explícitas, mas isso não significa que você deve ficar mudando repetidas vezes o tipo da variável, não é recomendado (má prática)\n",
    "\n",
    "OBS2: Variáveis não podem ser nomeadas com palavras-chaves do Python"
   ]
  },
  {
   "cell_type": "code",
   "execution_count": 1,
   "metadata": {},
   "outputs": [
    {
     "data": {
      "text/plain": [
       "int"
      ]
     },
     "execution_count": 1,
     "metadata": {},
     "output_type": "execute_result"
    }
   ],
   "source": [
    "# Tipo int\n",
    "faturamento = 1000\n",
    "type(faturamento)"
   ]
  },
  {
   "cell_type": "code",
   "execution_count": 2,
   "metadata": {},
   "outputs": [
    {
     "data": {
      "text/plain": [
       "str"
      ]
     },
     "execution_count": 2,
     "metadata": {},
     "output_type": "execute_result"
    }
   ],
   "source": [
    "# Tipo str\n",
    "nome = 'Matheus'\n",
    "type(nome)"
   ]
  },
  {
   "cell_type": "code",
   "execution_count": 4,
   "metadata": {},
   "outputs": [
    {
     "data": {
      "text/plain": [
       "float"
      ]
     },
     "execution_count": 4,
     "metadata": {},
     "output_type": "execute_result"
    }
   ],
   "source": [
    "# Tipo float\n",
    "dinheiro = 125.5\n",
    "type(dinheiro)"
   ]
  },
  {
   "cell_type": "code",
   "execution_count": 5,
   "metadata": {},
   "outputs": [
    {
     "data": {
      "text/plain": [
       "bool"
      ]
     },
     "execution_count": 5,
     "metadata": {},
     "output_type": "execute_result"
    }
   ],
   "source": [
    "# Tipo bool\n",
    "valor = True\n",
    "type(valor)"
   ]
  },
  {
   "cell_type": "code",
   "execution_count": 6,
   "metadata": {},
   "outputs": [
    {
     "data": {
      "text/plain": [
       "tuple"
      ]
     },
     "execution_count": 6,
     "metadata": {},
     "output_type": "execute_result"
    }
   ],
   "source": [
    "# Tipo tuple\n",
    "amigos = ('Matheus', 'Kayk', 'Samuel')\n",
    "type(amigos)"
   ]
  },
  {
   "cell_type": "code",
   "execution_count": 7,
   "metadata": {},
   "outputs": [
    {
     "data": {
      "text/plain": [
       "list"
      ]
     },
     "execution_count": 7,
     "metadata": {},
     "output_type": "execute_result"
    }
   ],
   "source": [
    "# Tipo list\n",
    "notas = [4, 10, 5.5, 7, 9.5]\n",
    "type(notas)"
   ]
  },
  {
   "cell_type": "code",
   "execution_count": 8,
   "metadata": {},
   "outputs": [
    {
     "data": {
      "text/plain": [
       "dict"
      ]
     },
     "execution_count": 8,
     "metadata": {},
     "output_type": "execute_result"
    }
   ],
   "source": [
    "# Tipo dict\n",
    "ficha = {'aluno': 'Joaquim',\n",
    "         'nota': 8,\n",
    "         'situação': 'Aprovado'}\n",
    "type(ficha)"
   ]
  },
  {
   "cell_type": "code",
   "execution_count": 9,
   "metadata": {},
   "outputs": [
    {
     "data": {
      "text/plain": [
       "complex"
      ]
     },
     "execution_count": 9,
     "metadata": {},
     "output_type": "execute_result"
    }
   ],
   "source": [
    "# Tipo complex\n",
    "complexos = 20j + 3j\n",
    "type(complexos)"
   ]
  },
  {
   "cell_type": "code",
   "execution_count": 10,
   "metadata": {},
   "outputs": [
    {
     "name": "stdout",
     "output_type": "stream",
     "text": [
      "O faturamento da loja foi de 2000\n",
      "O custo da loja foi de 400\n",
      "Assim, o lucro da loja foi de 1600 reais\n"
     ]
    }
   ],
   "source": [
    "faturamento = 2000\n",
    "custo = 400\n",
    "lucro = faturamento - custo\n",
    "\n",
    "print('O faturamento da loja foi de ' + str(faturamento))\n",
    "print('O custo da loja foi de ' + str(custo))\n",
    "print('Assim, o lucro da loja foi de ' + str(lucro) + ' reais')"
   ]
  },
  {
   "cell_type": "markdown",
   "metadata": {},
   "source": [
    "## Método format()"
   ]
  },
  {
   "cell_type": "code",
   "execution_count": 12,
   "metadata": {},
   "outputs": [
    {
     "name": "stdout",
     "output_type": "stream",
     "text": [
      "Faturamento: 4000 reais; Lucro: 1470.5 reais\n"
     ]
    }
   ],
   "source": [
    "faturamento = 4000\n",
    "custo = 1470.5\n",
    "lucro = faturamento - custo\n",
    "\n",
    "print('Faturamento: {} reais; Lucro: {} reais'.format(faturamento, custo))"
   ]
  },
  {
   "cell_type": "markdown",
   "metadata": {},
   "source": [
    "## F-strings"
   ]
  },
  {
   "cell_type": "code",
   "execution_count": 14,
   "metadata": {},
   "outputs": [
    {
     "name": "stdout",
     "output_type": "stream",
     "text": [
      "O faturamento foi de 3000 reais, o custo foi de 790 reais\n",
      "O lucro da loja foi de 2210 reais\n"
     ]
    }
   ],
   "source": [
    "faturamento = 3000\n",
    "custo = 790\n",
    "\n",
    "print(f'O faturamento foi de {faturamento} reais, o custo foi de {custo} reais')\n",
    "print(f'O lucro da loja foi de {faturamento - custo} reais')"
   ]
  },
  {
   "cell_type": "markdown",
   "metadata": {},
   "source": [
    "## Mudança de tipo de variável"
   ]
  },
  {
   "cell_type": "code",
   "execution_count": 16,
   "metadata": {},
   "outputs": [
    {
     "name": "stdout",
     "output_type": "stream",
     "text": [
      "O lucro da loja foi de 1500.0 reais\n"
     ]
    }
   ],
   "source": [
    "faturamento = float(input('Insira o faturamento: '))\n",
    "custo = float(input('Insira o custo: '))\n",
    "print(f'O lucro da loja foi de {faturamento - custo} reais')\n",
    "\n",
    "# str() -> converte para string\n",
    "# int() -> converte para int\n",
    "# float() -> converte para float"
   ]
  }
 ],
 "metadata": {
  "kernelspec": {
   "display_name": ".venv",
   "language": "python",
   "name": "python3"
  },
  "language_info": {
   "codemirror_mode": {
    "name": "ipython",
    "version": 3
   },
   "file_extension": ".py",
   "mimetype": "text/x-python",
   "name": "python",
   "nbconvert_exporter": "python",
   "pygments_lexer": "ipython3",
   "version": "3.12.1"
  }
 },
 "nbformat": 4,
 "nbformat_minor": 2
}
