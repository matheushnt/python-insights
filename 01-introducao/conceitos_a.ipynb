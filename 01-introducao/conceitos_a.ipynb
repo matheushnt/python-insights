{
 "cells": [
  {
   "cell_type": "markdown",
   "metadata": {},
   "source": [
    "# Introdução ao Python\n",
    "Python é uma linguagem de programação de propósito geral, ou seja, pode ser usado para criar sistemas webs, jogos e até mesmo aplicativos mobile.\n",
    "É uma linguagem fácil e intuitiva, sua proximidade com a linguagem humana faz com que ele possa ser usado tanto por pessoas que desenvolvem, quanto por quem não está necessariamente inserido neste mercado.\n",
    "## Alguns pontos que trazem destaque ao Python:\n",
    "* O fato de ser uma linguagem interpretada, o que significa que ela não precisa passar pelo processo de compilação. No caso do Python, o processo de interpretação é executado dentro de máquinas virtuais, nas quais o código passa por uma camada intermediária que irá traduzir os comandos de programa para código binário. Isso acelera bastante a velocidade de desenvolvimento;\n",
    "  \n",
    "* Sua sintaxe é simples, fácil de aprender e muito próxima da linguagem falada por nós, por isso podemos dizer que ela se trata de uma linguagem de alto nível;\n",
    "  \n",
    "* Multiparadigma, pois nos dá a possibilidade de programar em vários paradigmas, tais como:\n",
    "  1. **procedural**, com instruções passadas ao computador na sequência em que devem ser executadas;\n",
    "  2. **funcional**, paradigma que consiste em programas construídos aplicando e compondo funções;\n",
    "  3. **orientação a objetos**, o que traz a perspectiva do mundo real para a programação, tornando os programas fáceis de entender por causa desta relação."
   ]
  },
  {
   "cell_type": "markdown",
   "metadata": {},
   "source": [
    "## -> print()\n",
    "O comando `print()` possui a funcionalidade de exibir valores, por exemplo: textos, números e variáveis."
   ]
  },
  {
   "cell_type": "code",
   "execution_count": null,
   "metadata": {},
   "outputs": [],
   "source": [
    "print('Olá, Mundo!')\n",
    "\n",
    "print(100)\n",
    "\n",
    "texto = 'Bom dia, Matheus!'\n",
    "print(texto)"
   ]
  },
  {
   "cell_type": "markdown",
   "metadata": {},
   "source": [
    "## Textos (Strings) \n",
    "São sempre delimitados por aspas, podendo ser aspas simples ou duplas (há também o uso de aspas triplas)\n",
    "  \n",
    "Exemplo:\n",
    "\n",
    "  'Matheus Henrique' -> é uma string\n",
    "    \n",
    "  \"Olá, Mundo!\" -> também é uma string\n",
    "\n",
    "  math -> não é uma string, pois o Python considera uma variável declarada"
   ]
  },
  {
   "cell_type": "markdown",
   "metadata": {},
   "source": [
    "## Operações matemáticas no Python\n",
    "  \n",
    "* Adição: +\n",
    "  \n",
    "* Subtração: -\n",
    "  \n",
    "* Multiplicação: *\n",
    "  \n",
    "* Divisão: /\n",
    "  \n",
    "* Módulo: %\n",
    "  \n",
    "* Divisão arredondada: //\n",
    "  \n",
    "* Exponenciação: ** "
   ]
  },
  {
   "cell_type": "code",
   "execution_count": null,
   "metadata": {},
   "outputs": [],
   "source": [
    "# Adição\n",
    "print(4 + 6)\n",
    "\n",
    "# Subtração\n",
    "print(6 - 2)\n",
    "\n",
    "# Multiplicação\n",
    "print(5 * 5)\n",
    "\n",
    "# Divisão\n",
    "print(7 / 4)\n",
    "\n",
    "# Módulo, retorna o resto da divisão\n",
    "print(15 % 4)\n",
    "\n",
    "# Divisão arredondada, retorna a parte inteira da divisão\n",
    "print(4 // 3)\n",
    "\n",
    "# Exponenciação\n",
    "print(9 ** 2)"
   ]
  },
  {
   "cell_type": "markdown",
   "metadata": {},
   "source": [
    "## Ordem de Precedência\n",
    "### Maior precedência\n",
    "* Parênteses: ()  \n",
    "  \n",
    "* Exponenciação: ** \n",
    "  \n",
    "* Multiplicação: *; Divisão: /; Módulo: %; Divisão arredondada: //\n",
    "  \n",
    "* Adição: +; Subtração: -\n",
    "### Menor precedência"
   ]
  },
  {
   "cell_type": "code",
   "execution_count": 11,
   "metadata": {},
   "outputs": [
    {
     "name": "stdout",
     "output_type": "stream",
     "text": [
      "-5\n",
      "18\n",
      "-52.5\n"
     ]
    }
   ],
   "source": [
    "print(5 - 1 * 10)\n",
    "\n",
    "print((4 + 2) * 3)\n",
    "\n",
    "print((5 + 5) - 5 ** 3 / 2)"
   ]
  },
  {
   "cell_type": "markdown",
   "metadata": {},
   "source": [
    "## Operações básicas com Strings"
   ]
  },
  {
   "cell_type": "code",
   "execution_count": 15,
   "metadata": {},
   "outputs": [
    {
     "name": "stdout",
     "output_type": "stream",
     "text": [
      "Matheus Henrique\n",
      "True\n",
      "False\n"
     ]
    }
   ],
   "source": [
    "# Concatenação: juntar uma string em outra\n",
    "print('Matheus ' + 'Henrique')\n",
    "\n",
    "# Verificar se um valor está contido em um grupo\n",
    "print('Matheus' in 'Matheus Henrique')\n",
    "print('Pedro' in 'Joaquim trabalha amanhã!')"
   ]
  },
  {
   "cell_type": "markdown",
   "metadata": {},
   "source": [
    "## Variáveis\n",
    "Variáveis são espaços na memória do computador que guardam valores, dados ou informações. Basicamente, é um nome que faz referência a um valor contido na memória."
   ]
  },
  {
   "cell_type": "code",
   "execution_count": null,
   "metadata": {},
   "outputs": [
    {
     "name": "stdout",
     "output_type": "stream",
     "text": [
      "Bom dia, Matheus\n",
      "O faturamento desse mês foi R$ 15200\n"
     ]
    }
   ],
   "source": [
    "nome = 'Matheus'\n",
    "print('Bom dia, ' + nome)\n",
    "\n",
    "faturamento = 15200\n",
    "print('O faturamento desse mês foi R$', faturamento) "
   ]
  },
  {
   "cell_type": "markdown",
   "metadata": {},
   "source": [
    "## -> input()\n",
    "O comando `input()` é utilizado para receber informações do usuário e armazenar em uma variável.\n",
    "  \n",
    "OBS: o retorno do comando input() é sempre string."
   ]
  },
  {
   "cell_type": "code",
   "execution_count": null,
   "metadata": {},
   "outputs": [],
   "source": [
    "nome = input('Digite seu nome: ')\n",
    "print('Bem vindo, ' + nome)\n",
    "\n",
    "idade = input('Qual sua idade?')\n",
    "print(nome + ' tem ' + idade + ' anos de idade')"
   ]
  }
 ],
 "metadata": {
  "kernelspec": {
   "display_name": ".venv",
   "language": "python",
   "name": "python3"
  },
  "language_info": {
   "codemirror_mode": {
    "name": "ipython",
    "version": 3
   },
   "file_extension": ".py",
   "mimetype": "text/x-python",
   "name": "python",
   "nbconvert_exporter": "python",
   "pygments_lexer": "ipython3",
   "version": "3.12.1"
  }
 },
 "nbformat": 4,
 "nbformat_minor": 2
}
